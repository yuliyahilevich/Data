{
  "cells": [
    {
      "cell_type": "markdown",
      "metadata": {
        "id": "view-in-github",
        "colab_type": "text"
      },
      "source": [
        "<a href=\"https://colab.research.google.com/github/yuliyahilevich/Data/blob/main/Sagaci_Research_Colab.ipynb\" target=\"_parent\"><img src=\"https://colab.research.google.com/assets/colab-badge.svg\" alt=\"Open In Colab\"/></a>"
      ]
    },
    {
      "cell_type": "markdown",
      "metadata": {
        "toc": true,
        "id": "0OKYdRZ7Xded"
      },
      "source": [
        "# Define  the Problem\n",
        "\n",
        "With provided data we want you to deliver some insights:\n",
        "\n",
        "* What is the market share of Maggi brand in the Bouillon category?\n",
        "* What is the total volume of Mayonnaise sold in each outlet type in the Dakar region (Location 1)?\n",
        "* What is the market share of each brand in each of the categories?\n",
        "* How many stores were visited in Saint-Louis (Location 1)?\n",
        "* What is the share of Stock of each SKU format for the Mustard category?\n"
      ]
    },
    {
      "cell_type": "code",
      "execution_count": null,
      "metadata": {
        "_uuid": "2c411f76441a20c7d33b83484ba7bd5b85666e88",
        "id": "nEJW8Jo_Xdeh"
      },
      "outputs": [],
      "source": [
        "import os\n",
        "import pandas as pd\n",
        "import numpy as np\n",
        "\n",
        "import matplotlib.pyplot as plt\n",
        "import plotly.express as px\n",
        "import seaborn as sns\n",
        "\n",
        "import warnings\n",
        "warnings.filterwarnings('ignore')\n",
        "\n",
        "#Taking in consideration that we have large df,making sure that we can see its entire length and width\n",
        "pd.set_option('display.max_rows', None)\n",
        "pd.set_option('display.max_columns', None)"
      ]
    },
    {
      "cell_type": "code",
      "execution_count": null,
      "metadata": {
        "_uuid": "2d34ee41f879077adc2a8f2298e9bbb63f9d1cf3",
        "id": "5Ik06RQtXdei",
        "colab": {
          "base_uri": "https://localhost:8080/",
          "height": 285
        },
        "outputId": "586a5e38-2914-49ec-8f83-74fae4ec9211"
      },
      "outputs": [
        {
          "output_type": "execute_result",
          "data": {
            "text/html": [
              "\n",
              "  <div id=\"df-2c5d7937-8750-4347-8f77-1fa257e8f6c4\">\n",
              "    <div class=\"colab-df-container\">\n",
              "      <div>\n",
              "<style scoped>\n",
              "    .dataframe tbody tr th:only-of-type {\n",
              "        vertical-align: middle;\n",
              "    }\n",
              "\n",
              "    .dataframe tbody tr th {\n",
              "        vertical-align: top;\n",
              "    }\n",
              "\n",
              "    .dataframe thead th {\n",
              "        text-align: right;\n",
              "    }\n",
              "</style>\n",
              "<table border=\"1\" class=\"dataframe\">\n",
              "  <thead>\n",
              "    <tr style=\"text-align: right;\">\n",
              "      <th></th>\n",
              "      <th>OUTLET_ID</th>\n",
              "      <th>OUTLET_TYPE</th>\n",
              "      <th>OUTLET_LOCATION_0</th>\n",
              "      <th>OUTLET_LOCATION_1</th>\n",
              "      <th>OUTLET_LOCATION_2</th>\n",
              "      <th>OUTLET_LOCATION_3</th>\n",
              "      <th>OUTLET_LOCATION_4</th>\n",
              "      <th>SKU_ID</th>\n",
              "      <th>SKU_BRAND</th>\n",
              "      <th>SKU_CATEGORY</th>\n",
              "      <th>SKU_CATEGORY_CUSTOM</th>\n",
              "      <th>SKU_FLAVOUR</th>\n",
              "      <th>SKU_FORMAT</th>\n",
              "      <th>SKU_VOLUME</th>\n",
              "      <th>SKU_UNIT_ID</th>\n",
              "      <th>SKU_UNIT</th>\n",
              "      <th>SKU_UNIT_TYPE</th>\n",
              "      <th>SKU_VOLUME_METRIC</th>\n",
              "      <th>SKU_MANUFACTURER</th>\n",
              "      <th>AUDIT_SKU_STOCK</th>\n",
              "      <th>AUDIT_SKU_FACINGS</th>\n",
              "      <th>AUDIT_PRICE</th>\n",
              "      <th>AUDIT_SALES</th>\n",
              "      <th>Unnamed: 23</th>\n",
              "      <th>Unnamed: 24</th>\n",
              "      <th>Unnamed: 25</th>\n",
              "      <th>Unnamed: 26</th>\n",
              "    </tr>\n",
              "  </thead>\n",
              "  <tbody>\n",
              "    <tr>\n",
              "      <th>0</th>\n",
              "      <td>1036802</td>\n",
              "      <td>Grocery Store</td>\n",
              "      <td>Senegal</td>\n",
              "      <td>Saint-Louis</td>\n",
              "      <td>Saint-Louis</td>\n",
              "      <td>Rao</td>\n",
              "      <td>Gandon</td>\n",
              "      <td>2000</td>\n",
              "      <td>ADJA</td>\n",
              "      <td>Bouillon</td>\n",
              "      <td>Bouillon</td>\n",
              "      <td>Tomato</td>\n",
              "      <td>Sachet</td>\n",
              "      <td>75.0</td>\n",
              "      <td>6244.0</td>\n",
              "      <td>g</td>\n",
              "      <td>Weight</td>\n",
              "      <td>0.075</td>\n",
              "      <td>Patisen</td>\n",
              "      <td>32.0</td>\n",
              "      <td>10.0</td>\n",
              "      <td>100.0</td>\n",
              "      <td>738.461538</td>\n",
              "      <td>0.000028</td>\n",
              "      <td>NaN</td>\n",
              "      <td>NaN</td>\n",
              "      <td>NaN</td>\n",
              "    </tr>\n",
              "    <tr>\n",
              "      <th>1</th>\n",
              "      <td>1036802</td>\n",
              "      <td>Grocery Store</td>\n",
              "      <td>Senegal</td>\n",
              "      <td>Saint-Louis</td>\n",
              "      <td>Saint-Louis</td>\n",
              "      <td>Rao</td>\n",
              "      <td>Gandon</td>\n",
              "      <td>7095</td>\n",
              "      <td>Reine</td>\n",
              "      <td>Mustard</td>\n",
              "      <td>Mustard</td>\n",
              "      <td>NaN</td>\n",
              "      <td>Glass Bottle</td>\n",
              "      <td>370.0</td>\n",
              "      <td>6244.0</td>\n",
              "      <td>g</td>\n",
              "      <td>Weight</td>\n",
              "      <td>0.370</td>\n",
              "      <td>NaN</td>\n",
              "      <td>18.0</td>\n",
              "      <td>4.0</td>\n",
              "      <td>500.0</td>\n",
              "      <td>2000.000000</td>\n",
              "      <td>0.000077</td>\n",
              "      <td>NaN</td>\n",
              "      <td>NaN</td>\n",
              "      <td>NaN</td>\n",
              "    </tr>\n",
              "    <tr>\n",
              "      <th>2</th>\n",
              "      <td>1037187</td>\n",
              "      <td>Grocery Store</td>\n",
              "      <td>Senegal</td>\n",
              "      <td>Ziguinchor</td>\n",
              "      <td>Ziguinchor</td>\n",
              "      <td>Niaguis</td>\n",
              "      <td>Niaguis</td>\n",
              "      <td>1931</td>\n",
              "      <td>Maynès</td>\n",
              "      <td>Mayonnaise</td>\n",
              "      <td>Mayonnaise</td>\n",
              "      <td>NaN</td>\n",
              "      <td>Plastic Bottle</td>\n",
              "      <td>5.0</td>\n",
              "      <td>6246.0</td>\n",
              "      <td>l</td>\n",
              "      <td>Volume</td>\n",
              "      <td>5.000</td>\n",
              "      <td>Patisen</td>\n",
              "      <td>1.0</td>\n",
              "      <td>1.0</td>\n",
              "      <td>5250.0</td>\n",
              "      <td>1000.000000</td>\n",
              "      <td>0.000038</td>\n",
              "      <td>NaN</td>\n",
              "      <td>NaN</td>\n",
              "      <td>NaN</td>\n",
              "    </tr>\n",
              "    <tr>\n",
              "      <th>3</th>\n",
              "      <td>1037189</td>\n",
              "      <td>Grocery Store</td>\n",
              "      <td>Senegal</td>\n",
              "      <td>Diourbel</td>\n",
              "      <td>Mbacké</td>\n",
              "      <td>Ndame</td>\n",
              "      <td>Touba Mosquee</td>\n",
              "      <td>7111</td>\n",
              "      <td>Joker</td>\n",
              "      <td>Bouillon</td>\n",
              "      <td>Bouillon</td>\n",
              "      <td>Spices</td>\n",
              "      <td>Sachet</td>\n",
              "      <td>15.0</td>\n",
              "      <td>6244.0</td>\n",
              "      <td>g</td>\n",
              "      <td>Weight</td>\n",
              "      <td>0.015</td>\n",
              "      <td>Patisen</td>\n",
              "      <td>15.0</td>\n",
              "      <td>15.0</td>\n",
              "      <td>25.0</td>\n",
              "      <td>566.037736</td>\n",
              "      <td>0.000022</td>\n",
              "      <td>NaN</td>\n",
              "      <td>NaN</td>\n",
              "      <td>NaN</td>\n",
              "    </tr>\n",
              "    <tr>\n",
              "      <th>4</th>\n",
              "      <td>1037189</td>\n",
              "      <td>Grocery Store</td>\n",
              "      <td>Senegal</td>\n",
              "      <td>Diourbel</td>\n",
              "      <td>Mbacké</td>\n",
              "      <td>Ndame</td>\n",
              "      <td>Touba Mosquee</td>\n",
              "      <td>7091</td>\n",
              "      <td>Joker</td>\n",
              "      <td>Bouillon</td>\n",
              "      <td>Bouillon</td>\n",
              "      <td>Tomato</td>\n",
              "      <td>Sachet</td>\n",
              "      <td>75.0</td>\n",
              "      <td>6244.0</td>\n",
              "      <td>g</td>\n",
              "      <td>Weight</td>\n",
              "      <td>0.075</td>\n",
              "      <td>Patisen</td>\n",
              "      <td>3.0</td>\n",
              "      <td>3.0</td>\n",
              "      <td>100.0</td>\n",
              "      <td>113.207547</td>\n",
              "      <td>0.000004</td>\n",
              "      <td>NaN</td>\n",
              "      <td>NaN</td>\n",
              "      <td>NaN</td>\n",
              "    </tr>\n",
              "  </tbody>\n",
              "</table>\n",
              "</div>\n",
              "      <button class=\"colab-df-convert\" onclick=\"convertToInteractive('df-2c5d7937-8750-4347-8f77-1fa257e8f6c4')\"\n",
              "              title=\"Convert this dataframe to an interactive table.\"\n",
              "              style=\"display:none;\">\n",
              "        \n",
              "  <svg xmlns=\"http://www.w3.org/2000/svg\" height=\"24px\"viewBox=\"0 0 24 24\"\n",
              "       width=\"24px\">\n",
              "    <path d=\"M0 0h24v24H0V0z\" fill=\"none\"/>\n",
              "    <path d=\"M18.56 5.44l.94 2.06.94-2.06 2.06-.94-2.06-.94-.94-2.06-.94 2.06-2.06.94zm-11 1L8.5 8.5l.94-2.06 2.06-.94-2.06-.94L8.5 2.5l-.94 2.06-2.06.94zm10 10l.94 2.06.94-2.06 2.06-.94-2.06-.94-.94-2.06-.94 2.06-2.06.94z\"/><path d=\"M17.41 7.96l-1.37-1.37c-.4-.4-.92-.59-1.43-.59-.52 0-1.04.2-1.43.59L10.3 9.45l-7.72 7.72c-.78.78-.78 2.05 0 2.83L4 21.41c.39.39.9.59 1.41.59.51 0 1.02-.2 1.41-.59l7.78-7.78 2.81-2.81c.8-.78.8-2.07 0-2.86zM5.41 20L4 18.59l7.72-7.72 1.47 1.35L5.41 20z\"/>\n",
              "  </svg>\n",
              "      </button>\n",
              "      \n",
              "  <style>\n",
              "    .colab-df-container {\n",
              "      display:flex;\n",
              "      flex-wrap:wrap;\n",
              "      gap: 12px;\n",
              "    }\n",
              "\n",
              "    .colab-df-convert {\n",
              "      background-color: #E8F0FE;\n",
              "      border: none;\n",
              "      border-radius: 50%;\n",
              "      cursor: pointer;\n",
              "      display: none;\n",
              "      fill: #1967D2;\n",
              "      height: 32px;\n",
              "      padding: 0 0 0 0;\n",
              "      width: 32px;\n",
              "    }\n",
              "\n",
              "    .colab-df-convert:hover {\n",
              "      background-color: #E2EBFA;\n",
              "      box-shadow: 0px 1px 2px rgba(60, 64, 67, 0.3), 0px 1px 3px 1px rgba(60, 64, 67, 0.15);\n",
              "      fill: #174EA6;\n",
              "    }\n",
              "\n",
              "    [theme=dark] .colab-df-convert {\n",
              "      background-color: #3B4455;\n",
              "      fill: #D2E3FC;\n",
              "    }\n",
              "\n",
              "    [theme=dark] .colab-df-convert:hover {\n",
              "      background-color: #434B5C;\n",
              "      box-shadow: 0px 1px 3px 1px rgba(0, 0, 0, 0.15);\n",
              "      filter: drop-shadow(0px 1px 2px rgba(0, 0, 0, 0.3));\n",
              "      fill: #FFFFFF;\n",
              "    }\n",
              "  </style>\n",
              "\n",
              "      <script>\n",
              "        const buttonEl =\n",
              "          document.querySelector('#df-2c5d7937-8750-4347-8f77-1fa257e8f6c4 button.colab-df-convert');\n",
              "        buttonEl.style.display =\n",
              "          google.colab.kernel.accessAllowed ? 'block' : 'none';\n",
              "\n",
              "        async function convertToInteractive(key) {\n",
              "          const element = document.querySelector('#df-2c5d7937-8750-4347-8f77-1fa257e8f6c4');\n",
              "          const dataTable =\n",
              "            await google.colab.kernel.invokeFunction('convertToInteractive',\n",
              "                                                     [key], {});\n",
              "          if (!dataTable) return;\n",
              "\n",
              "          const docLinkHtml = 'Like what you see? Visit the ' +\n",
              "            '<a target=\"_blank\" href=https://colab.research.google.com/notebooks/data_table.ipynb>data table notebook</a>'\n",
              "            + ' to learn more about interactive tables.';\n",
              "          element.innerHTML = '';\n",
              "          dataTable['output_type'] = 'display_data';\n",
              "          await google.colab.output.renderOutput(dataTable, element);\n",
              "          const docLink = document.createElement('div');\n",
              "          docLink.innerHTML = docLinkHtml;\n",
              "          element.appendChild(docLink);\n",
              "        }\n",
              "      </script>\n",
              "    </div>\n",
              "  </div>\n",
              "  "
            ],
            "text/plain": [
              "   OUTLET_ID    OUTLET_TYPE OUTLET_LOCATION_0 OUTLET_LOCATION_1  \\\n",
              "0    1036802  Grocery Store           Senegal       Saint-Louis   \n",
              "1    1036802  Grocery Store           Senegal       Saint-Louis   \n",
              "2    1037187  Grocery Store           Senegal        Ziguinchor   \n",
              "3    1037189  Grocery Store           Senegal          Diourbel   \n",
              "4    1037189  Grocery Store           Senegal          Diourbel   \n",
              "\n",
              "  OUTLET_LOCATION_2 OUTLET_LOCATION_3 OUTLET_LOCATION_4  SKU_ID SKU_BRAND  \\\n",
              "0       Saint-Louis               Rao            Gandon    2000      ADJA   \n",
              "1       Saint-Louis               Rao            Gandon    7095     Reine   \n",
              "2        Ziguinchor           Niaguis           Niaguis    1931    Maynès   \n",
              "3            Mbacké             Ndame     Touba Mosquee    7111     Joker   \n",
              "4            Mbacké             Ndame     Touba Mosquee    7091     Joker   \n",
              "\n",
              "  SKU_CATEGORY SKU_CATEGORY_CUSTOM SKU_FLAVOUR      SKU_FORMAT  SKU_VOLUME  \\\n",
              "0     Bouillon            Bouillon      Tomato          Sachet        75.0   \n",
              "1      Mustard             Mustard         NaN    Glass Bottle       370.0   \n",
              "2   Mayonnaise          Mayonnaise         NaN  Plastic Bottle         5.0   \n",
              "3     Bouillon            Bouillon      Spices          Sachet        15.0   \n",
              "4     Bouillon            Bouillon      Tomato          Sachet        75.0   \n",
              "\n",
              "   SKU_UNIT_ID SKU_UNIT SKU_UNIT_TYPE  SKU_VOLUME_METRIC SKU_MANUFACTURER  \\\n",
              "0       6244.0        g        Weight              0.075          Patisen   \n",
              "1       6244.0        g        Weight              0.370              NaN   \n",
              "2       6246.0        l        Volume              5.000          Patisen   \n",
              "3       6244.0        g        Weight              0.015          Patisen   \n",
              "4       6244.0        g        Weight              0.075          Patisen   \n",
              "\n",
              "   AUDIT_SKU_STOCK  AUDIT_SKU_FACINGS  AUDIT_PRICE  AUDIT_SALES  Unnamed: 23  \\\n",
              "0             32.0               10.0        100.0   738.461538     0.000028   \n",
              "1             18.0                4.0        500.0  2000.000000     0.000077   \n",
              "2              1.0                1.0       5250.0  1000.000000     0.000038   \n",
              "3             15.0               15.0         25.0   566.037736     0.000022   \n",
              "4              3.0                3.0        100.0   113.207547     0.000004   \n",
              "\n",
              "   Unnamed: 24  Unnamed: 25  Unnamed: 26  \n",
              "0          NaN          NaN          NaN  \n",
              "1          NaN          NaN          NaN  \n",
              "2          NaN          NaN          NaN  \n",
              "3          NaN          NaN          NaN  \n",
              "4          NaN          NaN          NaN  "
            ]
          },
          "metadata": {},
          "execution_count": 2
        }
      ],
      "source": [
        "# Loading Data to the session storage\n",
        "df = pd.read_excel('/content/datasetfeb2022.xlsx')\n",
        "df.head(5)"
      ]
    },
    {
      "cell_type": "code",
      "execution_count": null,
      "metadata": {
        "id": "x4SFAwwlXdeo",
        "colab": {
          "base_uri": "https://localhost:8080/"
        },
        "outputId": "e59d4657-b6e5-4a45-9e7b-ccdeaf5ea840"
      },
      "outputs": [
        {
          "output_type": "execute_result",
          "data": {
            "text/plain": [
              "OUTLET_ID                  0\n",
              "OUTLET_TYPE                0\n",
              "OUTLET_LOCATION_0          0\n",
              "OUTLET_LOCATION_1          0\n",
              "OUTLET_LOCATION_2          0\n",
              "OUTLET_LOCATION_3          0\n",
              "OUTLET_LOCATION_4          0\n",
              "SKU_ID                     0\n",
              "SKU_BRAND                154\n",
              "SKU_CATEGORY               0\n",
              "SKU_CATEGORY_CUSTOM        0\n",
              "SKU_FLAVOUR             5004\n",
              "SKU_FORMAT               154\n",
              "SKU_VOLUME               154\n",
              "SKU_UNIT_ID              154\n",
              "SKU_UNIT                 154\n",
              "SKU_UNIT_TYPE            154\n",
              "SKU_VOLUME_METRIC        154\n",
              "SKU_MANUFACTURER        2563\n",
              "AUDIT_SKU_STOCK           10\n",
              "AUDIT_SKU_FACINGS         18\n",
              "AUDIT_PRICE               12\n",
              "AUDIT_SALES              489\n",
              "Unnamed: 23              490\n",
              "Unnamed: 24            14094\n",
              "Unnamed: 25            14092\n",
              "Unnamed: 26            14093\n",
              "dtype: int64"
            ]
          },
          "metadata": {},
          "execution_count": 3
        }
      ],
      "source": [
        "#Just before any further analysis, checking the presence of missing values in the entire dataset\n",
        "df.isnull().sum()"
      ]
    },
    {
      "cell_type": "code",
      "execution_count": null,
      "metadata": {
        "id": "1UJ0jNlzXdex",
        "colab": {
          "base_uri": "https://localhost:8080/"
        },
        "outputId": "98d9cb3c-f5fd-4a30-ef14-4dd6dc3b7715"
      },
      "outputs": [
        {
          "output_type": "execute_result",
          "data": {
            "text/plain": [
              "0"
            ]
          },
          "metadata": {},
          "execution_count": 4
        }
      ],
      "source": [
        "#Lets check the presence of duplicates \n",
        "df.duplicated().sum()"
      ]
    },
    {
      "cell_type": "markdown",
      "source": [
        "The dataset contains some missing values and fortunately no duplicates. At this stage, I've decided don't do anything but wait until the analysis of each question. "
      ],
      "metadata": {
        "id": "OZoj0cyKe5yw"
      }
    },
    {
      "cell_type": "markdown",
      "source": [
        "# The answers"
      ],
      "metadata": {
        "id": "uEgyi1GafobG"
      }
    },
    {
      "cell_type": "markdown",
      "metadata": {
        "id": "sYvfZ6riXde4"
      },
      "source": [
        "## 1.What is the market share of Maggi brand in the Bouillon Category\n",
        "\n",
        "\n",
        "\n",
        "\n"
      ]
    },
    {
      "cell_type": "code",
      "source": [
        "df_maggie=df.copy()"
      ],
      "metadata": {
        "id": "pr2fqAnoFwGJ"
      },
      "execution_count": null,
      "outputs": []
    },
    {
      "cell_type": "code",
      "source": [
        "#Before our analysis let's have a look if our subset of data we require for analysis has missing values in one or other combinations\n",
        "df_maggie = df[['SKU_BRAND','SKU_CATEGORY','AUDIT_SALES']]\n",
        "df_missing_maggi = df_maggie[(df_maggie[\"SKU_CATEGORY\"]=='Bouillon')][\"SKU_BRAND\"].isnull().sum()\n",
        "print(\"There are {} missing brands in Bouillon category\".format(df_missing_maggi))"
      ],
      "metadata": {
        "colab": {
          "base_uri": "https://localhost:8080/"
        },
        "id": "uDBukiiDUYtA",
        "outputId": "30e8ca82-7ac8-451b-9fc7-de340a3096e1"
      },
      "execution_count": null,
      "outputs": [
        {
          "output_type": "stream",
          "name": "stdout",
          "text": [
            "There are 0 missing brands in Bouillon category\n"
          ]
        }
      ]
    },
    {
      "cell_type": "code",
      "source": [
        "df_missing_maggi = df_maggie[(df_maggie['SKU_BRAND']=='Maggie')][\"SKU_CATEGORY\"].isnull().sum()\n",
        "print(\"There are {} missing categories for Maggie brand\".format(df_missing_maggi))"
      ],
      "metadata": {
        "colab": {
          "base_uri": "https://localhost:8080/"
        },
        "id": "9i0svLjA47w3",
        "outputId": "92b866cc-538a-4e32-db52-f0b0b1d6eca7"
      },
      "execution_count": null,
      "outputs": [
        {
          "output_type": "stream",
          "name": "stdout",
          "text": [
            "There are 0 missing categories for Maggie brand\n"
          ]
        }
      ]
    },
    {
      "cell_type": "code",
      "source": [
        "df_missing_maggi = df_maggie[(df_maggie[\"SKU_CATEGORY\"]=='Bouillon')&(df_maggie['SKU_BRAND']=='Maggie')][\"AUDIT_SALES\"].isnull().sum()\n",
        "print(\"There are {} records with missing sales for Maggie brand in Bouillon category\".format(df_missing_maggi))"
      ],
      "metadata": {
        "colab": {
          "base_uri": "https://localhost:8080/"
        },
        "id": "7Z2pHNgow_q9",
        "outputId": "3cc80b3e-5f71-4e06-cf17-e6e6eee88168"
      },
      "execution_count": null,
      "outputs": [
        {
          "output_type": "stream",
          "name": "stdout",
          "text": [
            "There are 0 records with missing sales for Maggie brand in Bouillon category\n"
          ]
        }
      ]
    },
    {
      "cell_type": "markdown",
      "source": [
        "Luckily there are no missing values we have to deal with on our subset of data"
      ],
      "metadata": {
        "id": "WNYXxxS853xj"
      }
    },
    {
      "cell_type": "code",
      "execution_count": null,
      "metadata": {
        "id": "-vb5zzNVXde7",
        "colab": {
          "base_uri": "https://localhost:8080/",
          "height": 669
        },
        "outputId": "4c4866d7-c893-46ba-c387-4cae0851edfc"
      },
      "outputs": [
        {
          "output_type": "execute_result",
          "data": {
            "text/html": [
              "<style type=\"text/css\">\n",
              "</style>\n",
              "<table id=\"T_edea8_\" class=\"dataframe\">\n",
              "  <thead>\n",
              "    <tr>\n",
              "      <th class=\"blank\" >&nbsp;</th>\n",
              "      <th class=\"blank level0\" >&nbsp;</th>\n",
              "      <th class=\"col_heading level0 col0\" >AUDIT_SALES</th>\n",
              "      <th class=\"col_heading level0 col1\" >Share_within_category</th>\n",
              "    </tr>\n",
              "    <tr>\n",
              "      <th class=\"index_name level0\" >SKU_CATEGORY</th>\n",
              "      <th class=\"index_name level1\" >SKU_BRAND</th>\n",
              "      <th class=\"blank col0\" >&nbsp;</th>\n",
              "      <th class=\"blank col1\" >&nbsp;</th>\n",
              "    </tr>\n",
              "  </thead>\n",
              "  <tbody>\n",
              "    <tr>\n",
              "      <th id=\"T_edea8_level0_row0\" class=\"row_heading level0 row0\" rowspan=\"19\">Bouillon</th>\n",
              "      <th id=\"T_edea8_level1_row0\" class=\"row_heading level1 row0\" >ADJA</th>\n",
              "      <td id=\"T_edea8_row0_col0\" class=\"data row0 col0\" >2420169.24</td>\n",
              "      <td id=\"T_edea8_row0_col1\" class=\"data row0 col1\" >18.12</td>\n",
              "    </tr>\n",
              "    <tr>\n",
              "      <th id=\"T_edea8_level1_row1\" class=\"row_heading level1 row1\" >Ami</th>\n",
              "      <td id=\"T_edea8_row1_col0\" class=\"data row1 col0\" >642749.14</td>\n",
              "      <td id=\"T_edea8_row1_col1\" class=\"data row1 col1\" >4.81</td>\n",
              "    </tr>\n",
              "    <tr>\n",
              "      <th id=\"T_edea8_level1_row2\" class=\"row_heading level1 row2\" >Amora</th>\n",
              "      <td id=\"T_edea8_row2_col0\" class=\"data row2 col0\" >146358.66</td>\n",
              "      <td id=\"T_edea8_row2_col1\" class=\"data row2 col1\" >1.10</td>\n",
              "    </tr>\n",
              "    <tr>\n",
              "      <th id=\"T_edea8_level1_row3\" class=\"row_heading level1 row3\" >Antou</th>\n",
              "      <td id=\"T_edea8_row3_col0\" class=\"data row3 col0\" >23700.00</td>\n",
              "      <td id=\"T_edea8_row3_col1\" class=\"data row3 col1\" >0.18</td>\n",
              "    </tr>\n",
              "    <tr>\n",
              "      <th id=\"T_edea8_level1_row4\" class=\"row_heading level1 row4\" >Bara Musso</th>\n",
              "      <td id=\"T_edea8_row4_col0\" class=\"data row4 col0\" >2507.43</td>\n",
              "      <td id=\"T_edea8_row4_col1\" class=\"data row4 col1\" >0.02</td>\n",
              "    </tr>\n",
              "    <tr>\n",
              "      <th id=\"T_edea8_level1_row5\" class=\"row_heading level1 row5\" >Bongou</th>\n",
              "      <td id=\"T_edea8_row5_col0\" class=\"data row5 col0\" >271670.33</td>\n",
              "      <td id=\"T_edea8_row5_col1\" class=\"data row5 col1\" >2.03</td>\n",
              "    </tr>\n",
              "    <tr>\n",
              "      <th id=\"T_edea8_level1_row6\" class=\"row_heading level1 row6\" >Bravo</th>\n",
              "      <td id=\"T_edea8_row6_col0\" class=\"data row6 col0\" >1000.00</td>\n",
              "      <td id=\"T_edea8_row6_col1\" class=\"data row6 col1\" >0.01</td>\n",
              "    </tr>\n",
              "    <tr>\n",
              "      <th id=\"T_edea8_level1_row7\" class=\"row_heading level1 row7\" >Doli</th>\n",
              "      <td id=\"T_edea8_row7_col0\" class=\"data row7 col0\" >1077659.59</td>\n",
              "      <td id=\"T_edea8_row7_col1\" class=\"data row7 col1\" >8.07</td>\n",
              "    </tr>\n",
              "    <tr>\n",
              "      <th id=\"T_edea8_level1_row8\" class=\"row_heading level1 row8\" >JONGUÉ</th>\n",
              "      <td id=\"T_edea8_row8_col0\" class=\"data row8 col0\" >78314.24</td>\n",
              "      <td id=\"T_edea8_row8_col1\" class=\"data row8 col1\" >0.59</td>\n",
              "    </tr>\n",
              "    <tr>\n",
              "      <th id=\"T_edea8_level1_row9\" class=\"row_heading level1 row9\" >Joker</th>\n",
              "      <td id=\"T_edea8_row9_col0\" class=\"data row9 col0\" >1797868.08</td>\n",
              "      <td id=\"T_edea8_row9_col1\" class=\"data row9 col1\" >13.46</td>\n",
              "    </tr>\n",
              "    <tr>\n",
              "      <th id=\"T_edea8_level1_row10\" class=\"row_heading level1 row10\" >Jumbo</th>\n",
              "      <td id=\"T_edea8_row10_col0\" class=\"data row10 col0\" >1997100.48</td>\n",
              "      <td id=\"T_edea8_row10_col1\" class=\"data row10 col1\" >14.95</td>\n",
              "    </tr>\n",
              "    <tr>\n",
              "      <th id=\"T_edea8_level1_row11\" class=\"row_heading level1 row11\" >KADI</th>\n",
              "      <td id=\"T_edea8_row11_col0\" class=\"data row11 col0\" >271124.09</td>\n",
              "      <td id=\"T_edea8_row11_col1\" class=\"data row11 col1\" >2.03</td>\n",
              "    </tr>\n",
              "    <tr>\n",
              "      <th id=\"T_edea8_level1_row12\" class=\"row_heading level1 row12\" >Knorr</th>\n",
              "      <td id=\"T_edea8_row12_col0\" class=\"data row12 col0\" >15000.00</td>\n",
              "      <td id=\"T_edea8_row12_col1\" class=\"data row12 col1\" >0.11</td>\n",
              "    </tr>\n",
              "    <tr>\n",
              "      <th id=\"T_edea8_level1_row13\" class=\"row_heading level1 row13\" >Maggi</th>\n",
              "      <td id=\"T_edea8_row13_col0\" class=\"data row13 col0\" >4506072.38</td>\n",
              "      <td id=\"T_edea8_row13_col1\" class=\"data row13 col1\" >33.73</td>\n",
              "    </tr>\n",
              "    <tr>\n",
              "      <th id=\"T_edea8_level1_row14\" class=\"row_heading level1 row14\" >Mami</th>\n",
              "      <td id=\"T_edea8_row14_col0\" class=\"data row14 col0\" >43367.77</td>\n",
              "      <td id=\"T_edea8_row14_col1\" class=\"data row14 col1\" >0.32</td>\n",
              "    </tr>\n",
              "    <tr>\n",
              "      <th id=\"T_edea8_level1_row15\" class=\"row_heading level1 row15\" >Miam</th>\n",
              "      <td id=\"T_edea8_row15_col0\" class=\"data row15 col0\" >1100.00</td>\n",
              "      <td id=\"T_edea8_row15_col1\" class=\"data row15 col1\" >0.01</td>\n",
              "    </tr>\n",
              "    <tr>\n",
              "      <th id=\"T_edea8_level1_row16\" class=\"row_heading level1 row16\" >Resto</th>\n",
              "      <td id=\"T_edea8_row16_col0\" class=\"data row16 col0\" >1651.25</td>\n",
              "      <td id=\"T_edea8_row16_col1\" class=\"data row16 col1\" >0.01</td>\n",
              "    </tr>\n",
              "    <tr>\n",
              "      <th id=\"T_edea8_level1_row17\" class=\"row_heading level1 row17\" >TAK</th>\n",
              "      <td id=\"T_edea8_row17_col0\" class=\"data row17 col0\" >8250.00</td>\n",
              "      <td id=\"T_edea8_row17_col1\" class=\"data row17 col1\" >0.06</td>\n",
              "    </tr>\n",
              "    <tr>\n",
              "      <th id=\"T_edea8_level1_row18\" class=\"row_heading level1 row18\" >Wéli JUNGO</th>\n",
              "      <td id=\"T_edea8_row18_col0\" class=\"data row18 col0\" >51716.27</td>\n",
              "      <td id=\"T_edea8_row18_col1\" class=\"data row18 col1\" >0.39</td>\n",
              "    </tr>\n",
              "  </tbody>\n",
              "</table>\n"
            ],
            "text/plain": [
              "<pandas.io.formats.style.Styler at 0x7faab62cbcd0>"
            ]
          },
          "metadata": {},
          "execution_count": 9
        }
      ],
      "source": [
        "#Let create a subset of data with condition == Bouillon and group it by Audit_sales in order to find the share within the category\n",
        "df_maggie_share = df_maggie[df_maggie['SKU_CATEGORY']=='Bouillon']\n",
        "df_maggie_share_agg = df_maggie_share.groupby(['SKU_CATEGORY','SKU_BRAND']).agg({'AUDIT_SALES': 'sum'}).assign(Share_within_category=lambda x: 100* x / x.sum())#.style.format({0: '{:.2%}'}\n",
        "df_maggie_share_agg.style.format(\"{:.2f}\")"
      ]
    },
    {
      "cell_type": "code",
      "source": [
        "#Preparing the data for visualisation\n",
        "pie_chart_maggie = df_maggie_share_agg.copy()\n",
        "pie_chart_maggie = pie_chart_maggie.reset_index().sort_values(\"Share_within_category\", ascending=False)\n",
        "maggie_share_unswear=pie_chart_maggie[pie_chart_maggie[\"SKU_BRAND\"]=='Maggi'][\"Share_within_category\"].values.item()\n",
        "print(\"Share of Maggie within Bouillon category is {}%\".format(np.round(maggie_share_unswear,2)))"
      ],
      "metadata": {
        "id": "I-jgEd0w9wDX",
        "colab": {
          "base_uri": "https://localhost:8080/"
        },
        "outputId": "962ce034-47d4-43fd-b303-c9aa0b84c701"
      },
      "execution_count": null,
      "outputs": [
        {
          "output_type": "stream",
          "name": "stdout",
          "text": [
            "Share of Maggie within Bouillon category is 33.73%\n"
          ]
        }
      ]
    },
    {
      "cell_type": "code",
      "execution_count": null,
      "metadata": {
        "id": "8Q1ljjAUXde9",
        "colab": {
          "base_uri": "https://localhost:8080/",
          "height": 542
        },
        "outputId": "2559e073-42d2-4290-d685-fb51fa2e9513"
      },
      "outputs": [
        {
          "output_type": "display_data",
          "data": {
            "text/html": [
              "<html>\n",
              "<head><meta charset=\"utf-8\" /></head>\n",
              "<body>\n",
              "    <div>            <script src=\"https://cdnjs.cloudflare.com/ajax/libs/mathjax/2.7.5/MathJax.js?config=TeX-AMS-MML_SVG\"></script><script type=\"text/javascript\">if (window.MathJax) {MathJax.Hub.Config({SVG: {font: \"STIX-Web\"}});}</script>                <script type=\"text/javascript\">window.PlotlyConfig = {MathJaxConfig: 'local'};</script>\n",
              "        <script src=\"https://cdn.plot.ly/plotly-2.8.3.min.js\"></script>                <div id=\"e7c2929a-6a88-46d8-887b-33ca84dd2136\" class=\"plotly-graph-div\" style=\"height:525px; width:100%;\"></div>            <script type=\"text/javascript\">                                    window.PLOTLYENV=window.PLOTLYENV || {};                                    if (document.getElementById(\"e7c2929a-6a88-46d8-887b-33ca84dd2136\")) {                    Plotly.newPlot(                        \"e7c2929a-6a88-46d8-887b-33ca84dd2136\",                        [{\"domain\":{\"x\":[0.0,1.0],\"y\":[0.0,1.0]},\"hole\":0.3,\"hovertemplate\":\"SKU_BRAND=%{label}<br>Share_within_category=%{value}<extra></extra>\",\"labels\":[\"Maggi\",\"ADJA\",\"Jumbo\",\"Joker\",\"Doli\",\"Ami\",\"Bongou\",\"KADI\",\"Amora\",\"JONGU\\u00c9\",\"W\\u00e9li JUNGO\",\"Mami\",\"Antou\",\"Knorr\",\"TAK\",\"Bara Musso\",\"Resto\",\"Miam\",\"Bravo\"],\"legendgroup\":\"\",\"name\":\"\",\"showlegend\":true,\"values\":[33.73470497575629,18.118593820468817,14.951290093635206,13.45973701067306,8.067897128700828,4.811940577965727,2.0338595778616946,2.0297701375337653,1.0957139098282151,0.5862994644474322,0.38717379694883647,0.32467275967337567,0.17743001884344106,0.11229748028065889,0.06176361415436239,0.018771892780100774,0.012362093208901932,0.008235148553914986,0.00748649868537726],\"type\":\"pie\",\"textinfo\":\"percent+label\",\"textposition\":\"inside\"}],                        {\"template\":{\"data\":{\"bar\":[{\"error_x\":{\"color\":\"#2a3f5f\"},\"error_y\":{\"color\":\"#2a3f5f\"},\"marker\":{\"line\":{\"color\":\"#E5ECF6\",\"width\":0.5},\"pattern\":{\"fillmode\":\"overlay\",\"size\":10,\"solidity\":0.2}},\"type\":\"bar\"}],\"barpolar\":[{\"marker\":{\"line\":{\"color\":\"#E5ECF6\",\"width\":0.5},\"pattern\":{\"fillmode\":\"overlay\",\"size\":10,\"solidity\":0.2}},\"type\":\"barpolar\"}],\"carpet\":[{\"aaxis\":{\"endlinecolor\":\"#2a3f5f\",\"gridcolor\":\"white\",\"linecolor\":\"white\",\"minorgridcolor\":\"white\",\"startlinecolor\":\"#2a3f5f\"},\"baxis\":{\"endlinecolor\":\"#2a3f5f\",\"gridcolor\":\"white\",\"linecolor\":\"white\",\"minorgridcolor\":\"white\",\"startlinecolor\":\"#2a3f5f\"},\"type\":\"carpet\"}],\"choropleth\":[{\"colorbar\":{\"outlinewidth\":0,\"ticks\":\"\"},\"type\":\"choropleth\"}],\"contour\":[{\"colorbar\":{\"outlinewidth\":0,\"ticks\":\"\"},\"colorscale\":[[0.0,\"#0d0887\"],[0.1111111111111111,\"#46039f\"],[0.2222222222222222,\"#7201a8\"],[0.3333333333333333,\"#9c179e\"],[0.4444444444444444,\"#bd3786\"],[0.5555555555555556,\"#d8576b\"],[0.6666666666666666,\"#ed7953\"],[0.7777777777777778,\"#fb9f3a\"],[0.8888888888888888,\"#fdca26\"],[1.0,\"#f0f921\"]],\"type\":\"contour\"}],\"contourcarpet\":[{\"colorbar\":{\"outlinewidth\":0,\"ticks\":\"\"},\"type\":\"contourcarpet\"}],\"heatmap\":[{\"colorbar\":{\"outlinewidth\":0,\"ticks\":\"\"},\"colorscale\":[[0.0,\"#0d0887\"],[0.1111111111111111,\"#46039f\"],[0.2222222222222222,\"#7201a8\"],[0.3333333333333333,\"#9c179e\"],[0.4444444444444444,\"#bd3786\"],[0.5555555555555556,\"#d8576b\"],[0.6666666666666666,\"#ed7953\"],[0.7777777777777778,\"#fb9f3a\"],[0.8888888888888888,\"#fdca26\"],[1.0,\"#f0f921\"]],\"type\":\"heatmap\"}],\"heatmapgl\":[{\"colorbar\":{\"outlinewidth\":0,\"ticks\":\"\"},\"colorscale\":[[0.0,\"#0d0887\"],[0.1111111111111111,\"#46039f\"],[0.2222222222222222,\"#7201a8\"],[0.3333333333333333,\"#9c179e\"],[0.4444444444444444,\"#bd3786\"],[0.5555555555555556,\"#d8576b\"],[0.6666666666666666,\"#ed7953\"],[0.7777777777777778,\"#fb9f3a\"],[0.8888888888888888,\"#fdca26\"],[1.0,\"#f0f921\"]],\"type\":\"heatmapgl\"}],\"histogram\":[{\"marker\":{\"pattern\":{\"fillmode\":\"overlay\",\"size\":10,\"solidity\":0.2}},\"type\":\"histogram\"}],\"histogram2d\":[{\"colorbar\":{\"outlinewidth\":0,\"ticks\":\"\"},\"colorscale\":[[0.0,\"#0d0887\"],[0.1111111111111111,\"#46039f\"],[0.2222222222222222,\"#7201a8\"],[0.3333333333333333,\"#9c179e\"],[0.4444444444444444,\"#bd3786\"],[0.5555555555555556,\"#d8576b\"],[0.6666666666666666,\"#ed7953\"],[0.7777777777777778,\"#fb9f3a\"],[0.8888888888888888,\"#fdca26\"],[1.0,\"#f0f921\"]],\"type\":\"histogram2d\"}],\"histogram2dcontour\":[{\"colorbar\":{\"outlinewidth\":0,\"ticks\":\"\"},\"colorscale\":[[0.0,\"#0d0887\"],[0.1111111111111111,\"#46039f\"],[0.2222222222222222,\"#7201a8\"],[0.3333333333333333,\"#9c179e\"],[0.4444444444444444,\"#bd3786\"],[0.5555555555555556,\"#d8576b\"],[0.6666666666666666,\"#ed7953\"],[0.7777777777777778,\"#fb9f3a\"],[0.8888888888888888,\"#fdca26\"],[1.0,\"#f0f921\"]],\"type\":\"histogram2dcontour\"}],\"mesh3d\":[{\"colorbar\":{\"outlinewidth\":0,\"ticks\":\"\"},\"type\":\"mesh3d\"}],\"parcoords\":[{\"line\":{\"colorbar\":{\"outlinewidth\":0,\"ticks\":\"\"}},\"type\":\"parcoords\"}],\"pie\":[{\"automargin\":true,\"type\":\"pie\"}],\"scatter\":[{\"marker\":{\"colorbar\":{\"outlinewidth\":0,\"ticks\":\"\"}},\"type\":\"scatter\"}],\"scatter3d\":[{\"line\":{\"colorbar\":{\"outlinewidth\":0,\"ticks\":\"\"}},\"marker\":{\"colorbar\":{\"outlinewidth\":0,\"ticks\":\"\"}},\"type\":\"scatter3d\"}],\"scattercarpet\":[{\"marker\":{\"colorbar\":{\"outlinewidth\":0,\"ticks\":\"\"}},\"type\":\"scattercarpet\"}],\"scattergeo\":[{\"marker\":{\"colorbar\":{\"outlinewidth\":0,\"ticks\":\"\"}},\"type\":\"scattergeo\"}],\"scattergl\":[{\"marker\":{\"colorbar\":{\"outlinewidth\":0,\"ticks\":\"\"}},\"type\":\"scattergl\"}],\"scattermapbox\":[{\"marker\":{\"colorbar\":{\"outlinewidth\":0,\"ticks\":\"\"}},\"type\":\"scattermapbox\"}],\"scatterpolar\":[{\"marker\":{\"colorbar\":{\"outlinewidth\":0,\"ticks\":\"\"}},\"type\":\"scatterpolar\"}],\"scatterpolargl\":[{\"marker\":{\"colorbar\":{\"outlinewidth\":0,\"ticks\":\"\"}},\"type\":\"scatterpolargl\"}],\"scatterternary\":[{\"marker\":{\"colorbar\":{\"outlinewidth\":0,\"ticks\":\"\"}},\"type\":\"scatterternary\"}],\"surface\":[{\"colorbar\":{\"outlinewidth\":0,\"ticks\":\"\"},\"colorscale\":[[0.0,\"#0d0887\"],[0.1111111111111111,\"#46039f\"],[0.2222222222222222,\"#7201a8\"],[0.3333333333333333,\"#9c179e\"],[0.4444444444444444,\"#bd3786\"],[0.5555555555555556,\"#d8576b\"],[0.6666666666666666,\"#ed7953\"],[0.7777777777777778,\"#fb9f3a\"],[0.8888888888888888,\"#fdca26\"],[1.0,\"#f0f921\"]],\"type\":\"surface\"}],\"table\":[{\"cells\":{\"fill\":{\"color\":\"#EBF0F8\"},\"line\":{\"color\":\"white\"}},\"header\":{\"fill\":{\"color\":\"#C8D4E3\"},\"line\":{\"color\":\"white\"}},\"type\":\"table\"}]},\"layout\":{\"annotationdefaults\":{\"arrowcolor\":\"#2a3f5f\",\"arrowhead\":0,\"arrowwidth\":1},\"autotypenumbers\":\"strict\",\"coloraxis\":{\"colorbar\":{\"outlinewidth\":0,\"ticks\":\"\"}},\"colorscale\":{\"diverging\":[[0,\"#8e0152\"],[0.1,\"#c51b7d\"],[0.2,\"#de77ae\"],[0.3,\"#f1b6da\"],[0.4,\"#fde0ef\"],[0.5,\"#f7f7f7\"],[0.6,\"#e6f5d0\"],[0.7,\"#b8e186\"],[0.8,\"#7fbc41\"],[0.9,\"#4d9221\"],[1,\"#276419\"]],\"sequential\":[[0.0,\"#0d0887\"],[0.1111111111111111,\"#46039f\"],[0.2222222222222222,\"#7201a8\"],[0.3333333333333333,\"#9c179e\"],[0.4444444444444444,\"#bd3786\"],[0.5555555555555556,\"#d8576b\"],[0.6666666666666666,\"#ed7953\"],[0.7777777777777778,\"#fb9f3a\"],[0.8888888888888888,\"#fdca26\"],[1.0,\"#f0f921\"]],\"sequentialminus\":[[0.0,\"#0d0887\"],[0.1111111111111111,\"#46039f\"],[0.2222222222222222,\"#7201a8\"],[0.3333333333333333,\"#9c179e\"],[0.4444444444444444,\"#bd3786\"],[0.5555555555555556,\"#d8576b\"],[0.6666666666666666,\"#ed7953\"],[0.7777777777777778,\"#fb9f3a\"],[0.8888888888888888,\"#fdca26\"],[1.0,\"#f0f921\"]]},\"colorway\":[\"#636efa\",\"#EF553B\",\"#00cc96\",\"#ab63fa\",\"#FFA15A\",\"#19d3f3\",\"#FF6692\",\"#B6E880\",\"#FF97FF\",\"#FECB52\"],\"font\":{\"color\":\"#2a3f5f\"},\"geo\":{\"bgcolor\":\"white\",\"lakecolor\":\"white\",\"landcolor\":\"#E5ECF6\",\"showlakes\":true,\"showland\":true,\"subunitcolor\":\"white\"},\"hoverlabel\":{\"align\":\"left\"},\"hovermode\":\"closest\",\"mapbox\":{\"style\":\"light\"},\"paper_bgcolor\":\"white\",\"plot_bgcolor\":\"#E5ECF6\",\"polar\":{\"angularaxis\":{\"gridcolor\":\"white\",\"linecolor\":\"white\",\"ticks\":\"\"},\"bgcolor\":\"#E5ECF6\",\"radialaxis\":{\"gridcolor\":\"white\",\"linecolor\":\"white\",\"ticks\":\"\"}},\"scene\":{\"xaxis\":{\"backgroundcolor\":\"#E5ECF6\",\"gridcolor\":\"white\",\"gridwidth\":2,\"linecolor\":\"white\",\"showbackground\":true,\"ticks\":\"\",\"zerolinecolor\":\"white\"},\"yaxis\":{\"backgroundcolor\":\"#E5ECF6\",\"gridcolor\":\"white\",\"gridwidth\":2,\"linecolor\":\"white\",\"showbackground\":true,\"ticks\":\"\",\"zerolinecolor\":\"white\"},\"zaxis\":{\"backgroundcolor\":\"#E5ECF6\",\"gridcolor\":\"white\",\"gridwidth\":2,\"linecolor\":\"white\",\"showbackground\":true,\"ticks\":\"\",\"zerolinecolor\":\"white\"}},\"shapedefaults\":{\"line\":{\"color\":\"#2a3f5f\"}},\"ternary\":{\"aaxis\":{\"gridcolor\":\"white\",\"linecolor\":\"white\",\"ticks\":\"\"},\"baxis\":{\"gridcolor\":\"white\",\"linecolor\":\"white\",\"ticks\":\"\"},\"bgcolor\":\"#E5ECF6\",\"caxis\":{\"gridcolor\":\"white\",\"linecolor\":\"white\",\"ticks\":\"\"}},\"title\":{\"x\":0.05},\"xaxis\":{\"automargin\":true,\"gridcolor\":\"white\",\"linecolor\":\"white\",\"ticks\":\"\",\"title\":{\"standoff\":15},\"zerolinecolor\":\"white\",\"zerolinewidth\":2},\"yaxis\":{\"automargin\":true,\"gridcolor\":\"white\",\"linecolor\":\"white\",\"ticks\":\"\",\"title\":{\"standoff\":15},\"zerolinecolor\":\"white\",\"zerolinewidth\":2}}},\"legend\":{\"tracegroupgap\":0},\"margin\":{\"t\":60},\"title\":{\"text\":\"Market share of Brands in the Bouillon Category\"}},                        {\"responsive\": true}                    ).then(function(){\n",
              "                            \n",
              "var gd = document.getElementById('e7c2929a-6a88-46d8-887b-33ca84dd2136');\n",
              "var x = new MutationObserver(function (mutations, observer) {{\n",
              "        var display = window.getComputedStyle(gd).display;\n",
              "        if (!display || display === 'none') {{\n",
              "            console.log([gd, 'removed!']);\n",
              "            Plotly.purge(gd);\n",
              "            observer.disconnect();\n",
              "        }}\n",
              "}});\n",
              "\n",
              "// Listen for the removal of the full notebook cells\n",
              "var notebookContainer = gd.closest('#notebook-container');\n",
              "if (notebookContainer) {{\n",
              "    x.observe(notebookContainer, {childList: true});\n",
              "}}\n",
              "\n",
              "// Listen for the clearing of the current output cell\n",
              "var outputEl = gd.closest('.output');\n",
              "if (outputEl) {{\n",
              "    x.observe(outputEl, {childList: true});\n",
              "}}\n",
              "\n",
              "                        })                };                            </script>        </div>\n",
              "</body>\n",
              "</html>"
            ]
          },
          "metadata": {}
        }
      ],
      "source": [
        "fig = px.pie(pie_chart_maggie, values = 'Share_within_category', names= 'SKU_BRAND', hole=.3)\n",
        "fig.update_traces(textposition='inside', textinfo='percent+label')\n",
        "fig.update_layout(title_text='Market share of Brands in the Bouillon Category')\n",
        "fig.show(renderer='colab')"
      ]
    },
    {
      "cell_type": "markdown",
      "metadata": {
        "id": "aE266FnuXde_"
      },
      "source": [
        "## 2.What is the total volume of Mayonnaise sold in each outlet type in the Dakar region (Location 1)?"
      ]
    },
    {
      "cell_type": "code",
      "execution_count": null,
      "metadata": {
        "id": "8Zve0pWTXdfA"
      },
      "outputs": [],
      "source": [
        "df_Mayonnaise = df.copy() "
      ]
    },
    {
      "cell_type": "code",
      "source": [
        "#Let check for the missing values in different combinations of data\n",
        "df_Mayonnaise_null = df_Mayonnaise[(df_Mayonnaise['OUTLET_LOCATION_1']=='Dakar')]['SKU_CATEGORY'].isnull().sum()\n",
        "print(\"There are {} records with missing values in category for Dakar region\".format(df_Mayonnaise_null))"
      ],
      "metadata": {
        "colab": {
          "base_uri": "https://localhost:8080/"
        },
        "id": "e_l3benHVk_E",
        "outputId": "ca7c1c76-7d0c-42c2-9f10-cc79336303e4"
      },
      "execution_count": null,
      "outputs": [
        {
          "output_type": "stream",
          "name": "stdout",
          "text": [
            "There are 0 records with missing values in category for Dakar region\n"
          ]
        }
      ]
    },
    {
      "cell_type": "code",
      "source": [
        "df_Mayonnaise_null = df_Mayonnaise[(df_Mayonnaise['SKU_CATEGORY']=='Mayonnaise')]['OUTLET_LOCATION_1'].isnull().sum()\n",
        "print(\"There are {} records with missing values for Mayonnaise category in location_1 column\".format(df_Mayonnaise_null))"
      ],
      "metadata": {
        "colab": {
          "base_uri": "https://localhost:8080/"
        },
        "id": "CZdSCPuUXHWw",
        "outputId": "a8228436-e674-4650-b158-9ad79f7f5551"
      },
      "execution_count": null,
      "outputs": [
        {
          "output_type": "stream",
          "name": "stdout",
          "text": [
            "There are 0 records with missing values for Mayonnaise category in location_1 column\n"
          ]
        }
      ]
    },
    {
      "cell_type": "markdown",
      "source": [
        "There are no missing categories for Dakar region or missing regions for Mayonnaise categories. As we have 0 missing values, we can proceed with analysis"
      ],
      "metadata": {
        "id": "70oLzyUmam9d"
      }
    },
    {
      "cell_type": "code",
      "source": [
        "# Let's reduce df to dakar and mayonnaise as those are our key features\n",
        "df_Mayonnaise_Dakar=df_Mayonnaise[(df_Mayonnaise['OUTLET_LOCATION_1']=='Dakar')&(df_Mayonnaise['SKU_CATEGORY']=='Mayonnaise')]\n",
        "print(\"Total number of records for Mayonnaise sold in Dakar is {}\".format(df_Mayonnaise_Dakar.shape[0]))"
      ],
      "metadata": {
        "id": "lFcMvWIfaiaS",
        "colab": {
          "base_uri": "https://localhost:8080/"
        },
        "outputId": "6be43c84-a5f7-4c97-8ef7-60d7e45ff9a5"
      },
      "execution_count": null,
      "outputs": [
        {
          "output_type": "stream",
          "name": "stdout",
          "text": [
            "Total number of records for Mayonnaise sold in Dakar is 539\n"
          ]
        }
      ]
    },
    {
      "cell_type": "markdown",
      "source": [
        "To calculate volume of mayonnause sold we will use the following formula:\n",
        "AUDIT_SALES/AUDIT_PRICE*SKU_VOLUME_METRIC"
      ],
      "metadata": {
        "id": "e2Zh7qGnc256"
      }
    },
    {
      "cell_type": "code",
      "source": [
        "# Let's check for missing data in our reduced df\n",
        "df_Mayonnaise_Dakar.isnull().sum()"
      ],
      "metadata": {
        "colab": {
          "base_uri": "https://localhost:8080/"
        },
        "id": "SxzVLUEIcdsf",
        "outputId": "c65dac2d-ef7b-4843-ba0f-1f40d4867111"
      },
      "execution_count": null,
      "outputs": [
        {
          "output_type": "execute_result",
          "data": {
            "text/plain": [
              "OUTLET_ID                0\n",
              "OUTLET_TYPE              0\n",
              "OUTLET_LOCATION_0        0\n",
              "OUTLET_LOCATION_1        0\n",
              "OUTLET_LOCATION_2        0\n",
              "OUTLET_LOCATION_3        0\n",
              "OUTLET_LOCATION_4        0\n",
              "SKU_ID                   0\n",
              "SKU_BRAND               84\n",
              "SKU_CATEGORY             0\n",
              "SKU_CATEGORY_CUSTOM      0\n",
              "SKU_FLAVOUR            539\n",
              "SKU_FORMAT              84\n",
              "SKU_VOLUME              84\n",
              "SKU_UNIT_ID             84\n",
              "SKU_UNIT                84\n",
              "SKU_UNIT_TYPE           84\n",
              "SKU_VOLUME_METRIC       84\n",
              "SKU_MANUFACTURER       187\n",
              "AUDIT_SKU_STOCK          0\n",
              "AUDIT_SKU_FACINGS        0\n",
              "AUDIT_PRICE              0\n",
              "AUDIT_SALES            104\n",
              "Unnamed: 23            104\n",
              "Unnamed: 24            539\n",
              "Unnamed: 25            539\n",
              "Unnamed: 26            539\n",
              "dtype: int64"
            ]
          },
          "metadata": {},
          "execution_count": 16
        }
      ]
    },
    {
      "cell_type": "code",
      "source": [
        "# Let check for missing data only for the rows where AUDIT_SALES is not missing\n",
        "df_Mayonnaise_Dakar[~df_Mayonnaise_Dakar[\"AUDIT_SALES\"].isnull()].isnull().sum()"
      ],
      "metadata": {
        "colab": {
          "base_uri": "https://localhost:8080/"
        },
        "id": "bkTtsIPueBTP",
        "outputId": "48683466-59a1-4389-e2a3-86b947bf097c"
      },
      "execution_count": null,
      "outputs": [
        {
          "output_type": "execute_result",
          "data": {
            "text/plain": [
              "OUTLET_ID                0\n",
              "OUTLET_TYPE              0\n",
              "OUTLET_LOCATION_0        0\n",
              "OUTLET_LOCATION_1        0\n",
              "OUTLET_LOCATION_2        0\n",
              "OUTLET_LOCATION_3        0\n",
              "OUTLET_LOCATION_4        0\n",
              "SKU_ID                   0\n",
              "SKU_BRAND                0\n",
              "SKU_CATEGORY             0\n",
              "SKU_CATEGORY_CUSTOM      0\n",
              "SKU_FLAVOUR            435\n",
              "SKU_FORMAT               0\n",
              "SKU_VOLUME               0\n",
              "SKU_UNIT_ID              0\n",
              "SKU_UNIT                 0\n",
              "SKU_UNIT_TYPE            0\n",
              "SKU_VOLUME_METRIC        0\n",
              "SKU_MANUFACTURER        97\n",
              "AUDIT_SKU_STOCK          0\n",
              "AUDIT_SKU_FACINGS        0\n",
              "AUDIT_PRICE              0\n",
              "AUDIT_SALES              0\n",
              "Unnamed: 23              0\n",
              "Unnamed: 24            435\n",
              "Unnamed: 25            435\n",
              "Unnamed: 26            435\n",
              "dtype: int64"
            ]
          },
          "metadata": {},
          "execution_count": 17
        }
      ]
    },
    {
      "cell_type": "code",
      "source": [
        "print(\"There are {} reconds with missing AUDIT_SALES out of  {}, or {}%\".format(df_Mayonnaise_Dakar['AUDIT_SALES'].isnull().sum(), df_Mayonnaise_Dakar.shape[0],np.round(df_Mayonnaise_Dakar['AUDIT_SALES'].isnull().sum()/df_Mayonnaise_Dakar.shape[0]*100,2)))"
      ],
      "metadata": {
        "colab": {
          "base_uri": "https://localhost:8080/"
        },
        "id": "ZY1KnplJetet",
        "outputId": "f83df70a-97ef-44ab-e4cc-d7adcfe5d9d4"
      },
      "execution_count": null,
      "outputs": [
        {
          "output_type": "stream",
          "name": "stdout",
          "text": [
            "There are 104 reconds with missing AUDIT_SALES out of  539, or 19.29%\n"
          ]
        }
      ]
    },
    {
      "cell_type": "markdown",
      "source": [
        "Right now we have a problem with missing values in AUDIT SALES"
      ],
      "metadata": {
        "id": "miKtJ-WSd5p-"
      }
    },
    {
      "cell_type": "code",
      "source": [
        "#Checking that everytying in the same unit type\n",
        "df_Mayonnaise_Dakar[~df_Mayonnaise_Dakar[\"AUDIT_SALES\"].isnull()][\"SKU_UNIT_TYPE\"].unique()"
      ],
      "metadata": {
        "colab": {
          "base_uri": "https://localhost:8080/"
        },
        "id": "GO2MUsWygNTt",
        "outputId": "4379bc9a-8cb6-442d-a960-6c308a28a514"
      },
      "execution_count": null,
      "outputs": [
        {
          "output_type": "execute_result",
          "data": {
            "text/plain": [
              "array(['Volume', 'Weight'], dtype=object)"
            ]
          },
          "metadata": {},
          "execution_count": 19
        }
      ]
    },
    {
      "cell_type": "code",
      "source": [
        "df_Mayonnaise_Dakar[~df_Mayonnaise_Dakar[\"AUDIT_SALES\"].isnull()][\"SKU_UNIT_TYPE\"].value_counts()"
      ],
      "metadata": {
        "colab": {
          "base_uri": "https://localhost:8080/"
        },
        "id": "6V0dwPF4gkAo",
        "outputId": "17c9f5ac-e714-4462-8df7-f3ce2d3b42eb"
      },
      "execution_count": null,
      "outputs": [
        {
          "output_type": "execute_result",
          "data": {
            "text/plain": [
              "Volume    409\n",
              "Weight     26\n",
              "Name: SKU_UNIT_TYPE, dtype: int64"
            ]
          },
          "metadata": {},
          "execution_count": 20
        }
      ]
    },
    {
      "cell_type": "code",
      "source": [
        "df_Mayonnaise_Dakar_notna=df_Mayonnaise_Dakar[~df_Mayonnaise_Dakar[\"AUDIT_SALES\"].isnull()]\n",
        "df_Mayonnaise_Dakar_notna[df_Mayonnaise_Dakar_notna[\"SKU_UNIT_TYPE\"]=='Weight'].head(5)"
      ],
      "metadata": {
        "id": "cRr-rg-QhJCQ",
        "colab": {
          "base_uri": "https://localhost:8080/",
          "height": 285
        },
        "outputId": "b34016c7-f7e8-40d6-bf7f-878571ee9e4b"
      },
      "execution_count": null,
      "outputs": [
        {
          "output_type": "execute_result",
          "data": {
            "text/html": [
              "\n",
              "  <div id=\"df-ea73fee5-7f1b-4123-a1b3-947f8a436ac4\">\n",
              "    <div class=\"colab-df-container\">\n",
              "      <div>\n",
              "<style scoped>\n",
              "    .dataframe tbody tr th:only-of-type {\n",
              "        vertical-align: middle;\n",
              "    }\n",
              "\n",
              "    .dataframe tbody tr th {\n",
              "        vertical-align: top;\n",
              "    }\n",
              "\n",
              "    .dataframe thead th {\n",
              "        text-align: right;\n",
              "    }\n",
              "</style>\n",
              "<table border=\"1\" class=\"dataframe\">\n",
              "  <thead>\n",
              "    <tr style=\"text-align: right;\">\n",
              "      <th></th>\n",
              "      <th>OUTLET_ID</th>\n",
              "      <th>OUTLET_TYPE</th>\n",
              "      <th>OUTLET_LOCATION_0</th>\n",
              "      <th>OUTLET_LOCATION_1</th>\n",
              "      <th>OUTLET_LOCATION_2</th>\n",
              "      <th>OUTLET_LOCATION_3</th>\n",
              "      <th>OUTLET_LOCATION_4</th>\n",
              "      <th>SKU_ID</th>\n",
              "      <th>SKU_BRAND</th>\n",
              "      <th>SKU_CATEGORY</th>\n",
              "      <th>SKU_CATEGORY_CUSTOM</th>\n",
              "      <th>SKU_FLAVOUR</th>\n",
              "      <th>SKU_FORMAT</th>\n",
              "      <th>SKU_VOLUME</th>\n",
              "      <th>SKU_UNIT_ID</th>\n",
              "      <th>SKU_UNIT</th>\n",
              "      <th>SKU_UNIT_TYPE</th>\n",
              "      <th>SKU_VOLUME_METRIC</th>\n",
              "      <th>SKU_MANUFACTURER</th>\n",
              "      <th>AUDIT_SKU_STOCK</th>\n",
              "      <th>AUDIT_SKU_FACINGS</th>\n",
              "      <th>AUDIT_PRICE</th>\n",
              "      <th>AUDIT_SALES</th>\n",
              "      <th>Unnamed: 23</th>\n",
              "      <th>Unnamed: 24</th>\n",
              "      <th>Unnamed: 25</th>\n",
              "      <th>Unnamed: 26</th>\n",
              "    </tr>\n",
              "  </thead>\n",
              "  <tbody>\n",
              "    <tr>\n",
              "      <th>1960</th>\n",
              "      <td>1072221</td>\n",
              "      <td>Supermarket</td>\n",
              "      <td>Senegal</td>\n",
              "      <td>Dakar</td>\n",
              "      <td>Dakar</td>\n",
              "      <td>Parcelles Assainies</td>\n",
              "      <td>Parcelles Assainies</td>\n",
              "      <td>23059</td>\n",
              "      <td>Amora</td>\n",
              "      <td>Mayonnaise</td>\n",
              "      <td>Mayonnaise</td>\n",
              "      <td>NaN</td>\n",
              "      <td>Plastic Bottle</td>\n",
              "      <td>398.0</td>\n",
              "      <td>6244.0</td>\n",
              "      <td>g</td>\n",
              "      <td>Weight</td>\n",
              "      <td>0.398</td>\n",
              "      <td>Unilever</td>\n",
              "      <td>6.0</td>\n",
              "      <td>1.0</td>\n",
              "      <td>2750.0</td>\n",
              "      <td>2142.857143</td>\n",
              "      <td>0.000095</td>\n",
              "      <td>NaN</td>\n",
              "      <td>NaN</td>\n",
              "      <td>NaN</td>\n",
              "    </tr>\n",
              "    <tr>\n",
              "      <th>2733</th>\n",
              "      <td>1154725</td>\n",
              "      <td>Minimart</td>\n",
              "      <td>Senegal</td>\n",
              "      <td>Dakar</td>\n",
              "      <td>Dakar</td>\n",
              "      <td>Almadies</td>\n",
              "      <td>Mermoz/ Sacre -Coeur</td>\n",
              "      <td>7494</td>\n",
              "      <td>Amora</td>\n",
              "      <td>Mayonnaise</td>\n",
              "      <td>Mayonnaise</td>\n",
              "      <td>NaN</td>\n",
              "      <td>Glass Bottle</td>\n",
              "      <td>235.0</td>\n",
              "      <td>6244.0</td>\n",
              "      <td>g</td>\n",
              "      <td>Weight</td>\n",
              "      <td>0.235</td>\n",
              "      <td>Unilever</td>\n",
              "      <td>20.0</td>\n",
              "      <td>1.0</td>\n",
              "      <td>1000.0</td>\n",
              "      <td>4000.000000</td>\n",
              "      <td>0.000189</td>\n",
              "      <td>NaN</td>\n",
              "      <td>NaN</td>\n",
              "      <td>NaN</td>\n",
              "    </tr>\n",
              "    <tr>\n",
              "      <th>2930</th>\n",
              "      <td>1155400</td>\n",
              "      <td>Supermarket</td>\n",
              "      <td>Senegal</td>\n",
              "      <td>Dakar</td>\n",
              "      <td>Dakar</td>\n",
              "      <td>Grand Dakar</td>\n",
              "      <td>Sicap Liberte</td>\n",
              "      <td>24659</td>\n",
              "      <td>Ducros</td>\n",
              "      <td>Mayonnaise</td>\n",
              "      <td>Mayonnaise</td>\n",
              "      <td>NaN</td>\n",
              "      <td>Glass Bottle</td>\n",
              "      <td>470.0</td>\n",
              "      <td>6244.0</td>\n",
              "      <td>g</td>\n",
              "      <td>Weight</td>\n",
              "      <td>0.470</td>\n",
              "      <td>NaN</td>\n",
              "      <td>50.0</td>\n",
              "      <td>8.0</td>\n",
              "      <td>1750.0</td>\n",
              "      <td>7352.941176</td>\n",
              "      <td>0.000355</td>\n",
              "      <td>NaN</td>\n",
              "      <td>NaN</td>\n",
              "      <td>NaN</td>\n",
              "    </tr>\n",
              "    <tr>\n",
              "      <th>4736</th>\n",
              "      <td>1155400</td>\n",
              "      <td>Supermarket</td>\n",
              "      <td>Senegal</td>\n",
              "      <td>Dakar</td>\n",
              "      <td>Dakar</td>\n",
              "      <td>Grand Dakar</td>\n",
              "      <td>Sicap Liberte</td>\n",
              "      <td>4163</td>\n",
              "      <td>Leiseur</td>\n",
              "      <td>Mayonnaise</td>\n",
              "      <td>Mayonnaise</td>\n",
              "      <td>NaN</td>\n",
              "      <td>Glass Bottle</td>\n",
              "      <td>710.0</td>\n",
              "      <td>6244.0</td>\n",
              "      <td>g</td>\n",
              "      <td>Weight</td>\n",
              "      <td>0.710</td>\n",
              "      <td>NaN</td>\n",
              "      <td>50.0</td>\n",
              "      <td>4.0</td>\n",
              "      <td>2200.0</td>\n",
              "      <td>20000.000000</td>\n",
              "      <td>0.001156</td>\n",
              "      <td>NaN</td>\n",
              "      <td>NaN</td>\n",
              "      <td>NaN</td>\n",
              "    </tr>\n",
              "    <tr>\n",
              "      <th>4948</th>\n",
              "      <td>1155292</td>\n",
              "      <td>Supermarket</td>\n",
              "      <td>Senegal</td>\n",
              "      <td>Dakar</td>\n",
              "      <td>Dakar</td>\n",
              "      <td>Almadies</td>\n",
              "      <td>Mermoz/ Sacre -Coeur</td>\n",
              "      <td>4163</td>\n",
              "      <td>Leiseur</td>\n",
              "      <td>Mayonnaise</td>\n",
              "      <td>Mayonnaise</td>\n",
              "      <td>NaN</td>\n",
              "      <td>Glass Bottle</td>\n",
              "      <td>710.0</td>\n",
              "      <td>6244.0</td>\n",
              "      <td>g</td>\n",
              "      <td>Weight</td>\n",
              "      <td>0.710</td>\n",
              "      <td>NaN</td>\n",
              "      <td>10.0</td>\n",
              "      <td>1.0</td>\n",
              "      <td>2290.0</td>\n",
              "      <td>3949.957411</td>\n",
              "      <td>0.000234</td>\n",
              "      <td>NaN</td>\n",
              "      <td>NaN</td>\n",
              "      <td>NaN</td>\n",
              "    </tr>\n",
              "  </tbody>\n",
              "</table>\n",
              "</div>\n",
              "      <button class=\"colab-df-convert\" onclick=\"convertToInteractive('df-ea73fee5-7f1b-4123-a1b3-947f8a436ac4')\"\n",
              "              title=\"Convert this dataframe to an interactive table.\"\n",
              "              style=\"display:none;\">\n",
              "        \n",
              "  <svg xmlns=\"http://www.w3.org/2000/svg\" height=\"24px\"viewBox=\"0 0 24 24\"\n",
              "       width=\"24px\">\n",
              "    <path d=\"M0 0h24v24H0V0z\" fill=\"none\"/>\n",
              "    <path d=\"M18.56 5.44l.94 2.06.94-2.06 2.06-.94-2.06-.94-.94-2.06-.94 2.06-2.06.94zm-11 1L8.5 8.5l.94-2.06 2.06-.94-2.06-.94L8.5 2.5l-.94 2.06-2.06.94zm10 10l.94 2.06.94-2.06 2.06-.94-2.06-.94-.94-2.06-.94 2.06-2.06.94z\"/><path d=\"M17.41 7.96l-1.37-1.37c-.4-.4-.92-.59-1.43-.59-.52 0-1.04.2-1.43.59L10.3 9.45l-7.72 7.72c-.78.78-.78 2.05 0 2.83L4 21.41c.39.39.9.59 1.41.59.51 0 1.02-.2 1.41-.59l7.78-7.78 2.81-2.81c.8-.78.8-2.07 0-2.86zM5.41 20L4 18.59l7.72-7.72 1.47 1.35L5.41 20z\"/>\n",
              "  </svg>\n",
              "      </button>\n",
              "      \n",
              "  <style>\n",
              "    .colab-df-container {\n",
              "      display:flex;\n",
              "      flex-wrap:wrap;\n",
              "      gap: 12px;\n",
              "    }\n",
              "\n",
              "    .colab-df-convert {\n",
              "      background-color: #E8F0FE;\n",
              "      border: none;\n",
              "      border-radius: 50%;\n",
              "      cursor: pointer;\n",
              "      display: none;\n",
              "      fill: #1967D2;\n",
              "      height: 32px;\n",
              "      padding: 0 0 0 0;\n",
              "      width: 32px;\n",
              "    }\n",
              "\n",
              "    .colab-df-convert:hover {\n",
              "      background-color: #E2EBFA;\n",
              "      box-shadow: 0px 1px 2px rgba(60, 64, 67, 0.3), 0px 1px 3px 1px rgba(60, 64, 67, 0.15);\n",
              "      fill: #174EA6;\n",
              "    }\n",
              "\n",
              "    [theme=dark] .colab-df-convert {\n",
              "      background-color: #3B4455;\n",
              "      fill: #D2E3FC;\n",
              "    }\n",
              "\n",
              "    [theme=dark] .colab-df-convert:hover {\n",
              "      background-color: #434B5C;\n",
              "      box-shadow: 0px 1px 3px 1px rgba(0, 0, 0, 0.15);\n",
              "      filter: drop-shadow(0px 1px 2px rgba(0, 0, 0, 0.3));\n",
              "      fill: #FFFFFF;\n",
              "    }\n",
              "  </style>\n",
              "\n",
              "      <script>\n",
              "        const buttonEl =\n",
              "          document.querySelector('#df-ea73fee5-7f1b-4123-a1b3-947f8a436ac4 button.colab-df-convert');\n",
              "        buttonEl.style.display =\n",
              "          google.colab.kernel.accessAllowed ? 'block' : 'none';\n",
              "\n",
              "        async function convertToInteractive(key) {\n",
              "          const element = document.querySelector('#df-ea73fee5-7f1b-4123-a1b3-947f8a436ac4');\n",
              "          const dataTable =\n",
              "            await google.colab.kernel.invokeFunction('convertToInteractive',\n",
              "                                                     [key], {});\n",
              "          if (!dataTable) return;\n",
              "\n",
              "          const docLinkHtml = 'Like what you see? Visit the ' +\n",
              "            '<a target=\"_blank\" href=https://colab.research.google.com/notebooks/data_table.ipynb>data table notebook</a>'\n",
              "            + ' to learn more about interactive tables.';\n",
              "          element.innerHTML = '';\n",
              "          dataTable['output_type'] = 'display_data';\n",
              "          await google.colab.output.renderOutput(dataTable, element);\n",
              "          const docLink = document.createElement('div');\n",
              "          docLink.innerHTML = docLinkHtml;\n",
              "          element.appendChild(docLink);\n",
              "        }\n",
              "      </script>\n",
              "    </div>\n",
              "  </div>\n",
              "  "
            ],
            "text/plain": [
              "      OUTLET_ID  OUTLET_TYPE OUTLET_LOCATION_0 OUTLET_LOCATION_1  \\\n",
              "1960    1072221  Supermarket           Senegal             Dakar   \n",
              "2733    1154725     Minimart           Senegal             Dakar   \n",
              "2930    1155400  Supermarket           Senegal             Dakar   \n",
              "4736    1155400  Supermarket           Senegal             Dakar   \n",
              "4948    1155292  Supermarket           Senegal             Dakar   \n",
              "\n",
              "     OUTLET_LOCATION_2    OUTLET_LOCATION_3     OUTLET_LOCATION_4  SKU_ID  \\\n",
              "1960             Dakar  Parcelles Assainies   Parcelles Assainies   23059   \n",
              "2733             Dakar             Almadies  Mermoz/ Sacre -Coeur    7494   \n",
              "2930             Dakar          Grand Dakar         Sicap Liberte   24659   \n",
              "4736             Dakar          Grand Dakar         Sicap Liberte    4163   \n",
              "4948             Dakar             Almadies  Mermoz/ Sacre -Coeur    4163   \n",
              "\n",
              "     SKU_BRAND SKU_CATEGORY SKU_CATEGORY_CUSTOM SKU_FLAVOUR      SKU_FORMAT  \\\n",
              "1960     Amora   Mayonnaise          Mayonnaise         NaN  Plastic Bottle   \n",
              "2733     Amora   Mayonnaise          Mayonnaise         NaN    Glass Bottle   \n",
              "2930    Ducros   Mayonnaise          Mayonnaise         NaN    Glass Bottle   \n",
              "4736   Leiseur   Mayonnaise          Mayonnaise         NaN    Glass Bottle   \n",
              "4948   Leiseur   Mayonnaise          Mayonnaise         NaN    Glass Bottle   \n",
              "\n",
              "      SKU_VOLUME  SKU_UNIT_ID SKU_UNIT SKU_UNIT_TYPE  SKU_VOLUME_METRIC  \\\n",
              "1960       398.0       6244.0        g        Weight              0.398   \n",
              "2733       235.0       6244.0        g        Weight              0.235   \n",
              "2930       470.0       6244.0        g        Weight              0.470   \n",
              "4736       710.0       6244.0        g        Weight              0.710   \n",
              "4948       710.0       6244.0        g        Weight              0.710   \n",
              "\n",
              "     SKU_MANUFACTURER  AUDIT_SKU_STOCK  AUDIT_SKU_FACINGS  AUDIT_PRICE  \\\n",
              "1960         Unilever              6.0                1.0       2750.0   \n",
              "2733         Unilever             20.0                1.0       1000.0   \n",
              "2930              NaN             50.0                8.0       1750.0   \n",
              "4736              NaN             50.0                4.0       2200.0   \n",
              "4948              NaN             10.0                1.0       2290.0   \n",
              "\n",
              "       AUDIT_SALES  Unnamed: 23  Unnamed: 24  Unnamed: 25  Unnamed: 26  \n",
              "1960   2142.857143     0.000095          NaN          NaN          NaN  \n",
              "2733   4000.000000     0.000189          NaN          NaN          NaN  \n",
              "2930   7352.941176     0.000355          NaN          NaN          NaN  \n",
              "4736  20000.000000     0.001156          NaN          NaN          NaN  \n",
              "4948   3949.957411     0.000234          NaN          NaN          NaN  "
            ]
          },
          "metadata": {},
          "execution_count": 21
        }
      ]
    },
    {
      "cell_type": "markdown",
      "source": [
        "According https://www.howmany.wiki to \"0.972 gram of mayonnaise equals 1 milliliter.\" However, we need to note that this is an approximation."
      ],
      "metadata": {
        "id": "mbe5viHtiBNe"
      }
    },
    {
      "cell_type": "code",
      "source": [
        "#Let's convert weight to volume\n",
        "df_Mayonnaise_Dakar[\"UNI_VOLUME\"]=df_Mayonnaise_Dakar[\"SKU_VOLUME_METRIC\"]\n",
        "df_Mayonnaise_Dakar.loc[(df_Mayonnaise_Dakar[\"SKU_UNIT_TYPE\"]=='Weight'), \"UNI_VOLUME\"]=df_Mayonnaise_Dakar.loc[(df_Mayonnaise_Dakar[\"SKU_UNIT_TYPE\"]=='Weight'), \"UNI_VOLUME\"]/0.972"
      ],
      "metadata": {
        "id": "PMxmS173hqCJ"
      },
      "execution_count": null,
      "outputs": []
    },
    {
      "cell_type": "code",
      "source": [
        "#In order to find out the amount sold we need to devide AUDIT_SALE/AUDIT_PRICE \n",
        "df_Mayonnaise_Dakar['AMOUNT_SOLD'] = df_Mayonnaise_Dakar['AUDIT_SALES']/df_Mayonnaise_Dakar['AUDIT_PRICE']\n",
        "#Then in order to find volume sold we need to multiply the sold amount by its volume\n",
        "df_Mayonnaise_Dakar['VOLUME_SOLD'] = df_Mayonnaise_Dakar['AMOUNT_SOLD']*df_Mayonnaise_Dakar['UNI_VOLUME']\n",
        "df_Mayonnaise_Dakar.head(5)"
      ],
      "metadata": {
        "colab": {
          "base_uri": "https://localhost:8080/",
          "height": 285
        },
        "id": "5rWddu7agGlW",
        "outputId": "d59edab5-667c-4039-f060-989fcd4d53d6"
      },
      "execution_count": null,
      "outputs": [
        {
          "output_type": "execute_result",
          "data": {
            "text/html": [
              "\n",
              "  <div id=\"df-2bc0bbe5-32af-4663-a2bb-1a2deb42a5d3\">\n",
              "    <div class=\"colab-df-container\">\n",
              "      <div>\n",
              "<style scoped>\n",
              "    .dataframe tbody tr th:only-of-type {\n",
              "        vertical-align: middle;\n",
              "    }\n",
              "\n",
              "    .dataframe tbody tr th {\n",
              "        vertical-align: top;\n",
              "    }\n",
              "\n",
              "    .dataframe thead th {\n",
              "        text-align: right;\n",
              "    }\n",
              "</style>\n",
              "<table border=\"1\" class=\"dataframe\">\n",
              "  <thead>\n",
              "    <tr style=\"text-align: right;\">\n",
              "      <th></th>\n",
              "      <th>OUTLET_ID</th>\n",
              "      <th>OUTLET_TYPE</th>\n",
              "      <th>OUTLET_LOCATION_0</th>\n",
              "      <th>OUTLET_LOCATION_1</th>\n",
              "      <th>OUTLET_LOCATION_2</th>\n",
              "      <th>OUTLET_LOCATION_3</th>\n",
              "      <th>OUTLET_LOCATION_4</th>\n",
              "      <th>SKU_ID</th>\n",
              "      <th>SKU_BRAND</th>\n",
              "      <th>SKU_CATEGORY</th>\n",
              "      <th>SKU_CATEGORY_CUSTOM</th>\n",
              "      <th>SKU_FLAVOUR</th>\n",
              "      <th>SKU_FORMAT</th>\n",
              "      <th>SKU_VOLUME</th>\n",
              "      <th>SKU_UNIT_ID</th>\n",
              "      <th>SKU_UNIT</th>\n",
              "      <th>SKU_UNIT_TYPE</th>\n",
              "      <th>SKU_VOLUME_METRIC</th>\n",
              "      <th>SKU_MANUFACTURER</th>\n",
              "      <th>AUDIT_SKU_STOCK</th>\n",
              "      <th>AUDIT_SKU_FACINGS</th>\n",
              "      <th>AUDIT_PRICE</th>\n",
              "      <th>AUDIT_SALES</th>\n",
              "      <th>Unnamed: 23</th>\n",
              "      <th>Unnamed: 24</th>\n",
              "      <th>Unnamed: 25</th>\n",
              "      <th>Unnamed: 26</th>\n",
              "      <th>UNI_VOLUME</th>\n",
              "      <th>AMOUNT_SOLD</th>\n",
              "      <th>VOLUME_SOLD</th>\n",
              "    </tr>\n",
              "  </thead>\n",
              "  <tbody>\n",
              "    <tr>\n",
              "      <th>21</th>\n",
              "      <td>1035793</td>\n",
              "      <td>Grocery Store</td>\n",
              "      <td>Senegal</td>\n",
              "      <td>Dakar</td>\n",
              "      <td>Rufisque</td>\n",
              "      <td>Bambilor</td>\n",
              "      <td>Yene</td>\n",
              "      <td>22601</td>\n",
              "      <td>NaN</td>\n",
              "      <td>Mayonnaise</td>\n",
              "      <td>Mayonnaise</td>\n",
              "      <td>NaN</td>\n",
              "      <td>NaN</td>\n",
              "      <td>NaN</td>\n",
              "      <td>NaN</td>\n",
              "      <td>NaN</td>\n",
              "      <td>NaN</td>\n",
              "      <td>NaN</td>\n",
              "      <td>NaN</td>\n",
              "      <td>6.0</td>\n",
              "      <td>1.0</td>\n",
              "      <td>5000.0</td>\n",
              "      <td>NaN</td>\n",
              "      <td>NaN</td>\n",
              "      <td>NaN</td>\n",
              "      <td>NaN</td>\n",
              "      <td>NaN</td>\n",
              "      <td>NaN</td>\n",
              "      <td>NaN</td>\n",
              "      <td>NaN</td>\n",
              "    </tr>\n",
              "    <tr>\n",
              "      <th>61</th>\n",
              "      <td>1035884</td>\n",
              "      <td>Grocery Store</td>\n",
              "      <td>Senegal</td>\n",
              "      <td>Dakar</td>\n",
              "      <td>Dakar</td>\n",
              "      <td>Grand Dakar</td>\n",
              "      <td>Grand Dakar</td>\n",
              "      <td>1931</td>\n",
              "      <td>Maynès</td>\n",
              "      <td>Mayonnaise</td>\n",
              "      <td>Mayonnaise</td>\n",
              "      <td>NaN</td>\n",
              "      <td>Plastic Bottle</td>\n",
              "      <td>5.0</td>\n",
              "      <td>6246.0</td>\n",
              "      <td>l</td>\n",
              "      <td>Volume</td>\n",
              "      <td>5.000</td>\n",
              "      <td>Patisen</td>\n",
              "      <td>1.0</td>\n",
              "      <td>1.0</td>\n",
              "      <td>6500.0</td>\n",
              "      <td>1000.0</td>\n",
              "      <td>0.000039</td>\n",
              "      <td>NaN</td>\n",
              "      <td>NaN</td>\n",
              "      <td>NaN</td>\n",
              "      <td>5.000</td>\n",
              "      <td>0.153846</td>\n",
              "      <td>0.769231</td>\n",
              "    </tr>\n",
              "    <tr>\n",
              "      <th>62</th>\n",
              "      <td>1035885</td>\n",
              "      <td>Grocery Store</td>\n",
              "      <td>Senegal</td>\n",
              "      <td>Dakar</td>\n",
              "      <td>Guédiawaye</td>\n",
              "      <td>Guediawaye</td>\n",
              "      <td>Wakhinane Nimzatt</td>\n",
              "      <td>2002</td>\n",
              "      <td>BAMA</td>\n",
              "      <td>Mayonnaise</td>\n",
              "      <td>Mayonnaise</td>\n",
              "      <td>NaN</td>\n",
              "      <td>Glass Bottle</td>\n",
              "      <td>473.0</td>\n",
              "      <td>6245.0</td>\n",
              "      <td>ml</td>\n",
              "      <td>Volume</td>\n",
              "      <td>0.473</td>\n",
              "      <td>GBFoods</td>\n",
              "      <td>3.0</td>\n",
              "      <td>3.0</td>\n",
              "      <td>1200.0</td>\n",
              "      <td>1000.0</td>\n",
              "      <td>0.000039</td>\n",
              "      <td>NaN</td>\n",
              "      <td>NaN</td>\n",
              "      <td>NaN</td>\n",
              "      <td>0.473</td>\n",
              "      <td>0.833333</td>\n",
              "      <td>0.394167</td>\n",
              "    </tr>\n",
              "    <tr>\n",
              "      <th>110</th>\n",
              "      <td>1035841</td>\n",
              "      <td>Grocery Store</td>\n",
              "      <td>Senegal</td>\n",
              "      <td>Dakar</td>\n",
              "      <td>Dakar</td>\n",
              "      <td>Grand Dakar</td>\n",
              "      <td>Biscuiterie</td>\n",
              "      <td>1954</td>\n",
              "      <td>Maynès</td>\n",
              "      <td>Mayonnaise</td>\n",
              "      <td>Mayonnaise</td>\n",
              "      <td>NaN</td>\n",
              "      <td>Plastic Bottle</td>\n",
              "      <td>237.0</td>\n",
              "      <td>6245.0</td>\n",
              "      <td>ml</td>\n",
              "      <td>Volume</td>\n",
              "      <td>0.237</td>\n",
              "      <td>Patisen</td>\n",
              "      <td>20.0</td>\n",
              "      <td>1.0</td>\n",
              "      <td>500.0</td>\n",
              "      <td>2000.0</td>\n",
              "      <td>0.000078</td>\n",
              "      <td>NaN</td>\n",
              "      <td>NaN</td>\n",
              "      <td>NaN</td>\n",
              "      <td>0.237</td>\n",
              "      <td>4.000000</td>\n",
              "      <td>0.948000</td>\n",
              "    </tr>\n",
              "    <tr>\n",
              "      <th>113</th>\n",
              "      <td>1039434</td>\n",
              "      <td>Grocery Store</td>\n",
              "      <td>Senegal</td>\n",
              "      <td>Dakar</td>\n",
              "      <td>Dakar</td>\n",
              "      <td>Parcelles Assainies</td>\n",
              "      <td>Parcelles Assainies</td>\n",
              "      <td>2002</td>\n",
              "      <td>BAMA</td>\n",
              "      <td>Mayonnaise</td>\n",
              "      <td>Mayonnaise</td>\n",
              "      <td>NaN</td>\n",
              "      <td>Glass Bottle</td>\n",
              "      <td>473.0</td>\n",
              "      <td>6245.0</td>\n",
              "      <td>ml</td>\n",
              "      <td>Volume</td>\n",
              "      <td>0.473</td>\n",
              "      <td>GBFoods</td>\n",
              "      <td>10.0</td>\n",
              "      <td>6.0</td>\n",
              "      <td>1200.0</td>\n",
              "      <td>1000.0</td>\n",
              "      <td>0.000039</td>\n",
              "      <td>NaN</td>\n",
              "      <td>NaN</td>\n",
              "      <td>NaN</td>\n",
              "      <td>0.473</td>\n",
              "      <td>0.833333</td>\n",
              "      <td>0.394167</td>\n",
              "    </tr>\n",
              "  </tbody>\n",
              "</table>\n",
              "</div>\n",
              "      <button class=\"colab-df-convert\" onclick=\"convertToInteractive('df-2bc0bbe5-32af-4663-a2bb-1a2deb42a5d3')\"\n",
              "              title=\"Convert this dataframe to an interactive table.\"\n",
              "              style=\"display:none;\">\n",
              "        \n",
              "  <svg xmlns=\"http://www.w3.org/2000/svg\" height=\"24px\"viewBox=\"0 0 24 24\"\n",
              "       width=\"24px\">\n",
              "    <path d=\"M0 0h24v24H0V0z\" fill=\"none\"/>\n",
              "    <path d=\"M18.56 5.44l.94 2.06.94-2.06 2.06-.94-2.06-.94-.94-2.06-.94 2.06-2.06.94zm-11 1L8.5 8.5l.94-2.06 2.06-.94-2.06-.94L8.5 2.5l-.94 2.06-2.06.94zm10 10l.94 2.06.94-2.06 2.06-.94-2.06-.94-.94-2.06-.94 2.06-2.06.94z\"/><path d=\"M17.41 7.96l-1.37-1.37c-.4-.4-.92-.59-1.43-.59-.52 0-1.04.2-1.43.59L10.3 9.45l-7.72 7.72c-.78.78-.78 2.05 0 2.83L4 21.41c.39.39.9.59 1.41.59.51 0 1.02-.2 1.41-.59l7.78-7.78 2.81-2.81c.8-.78.8-2.07 0-2.86zM5.41 20L4 18.59l7.72-7.72 1.47 1.35L5.41 20z\"/>\n",
              "  </svg>\n",
              "      </button>\n",
              "      \n",
              "  <style>\n",
              "    .colab-df-container {\n",
              "      display:flex;\n",
              "      flex-wrap:wrap;\n",
              "      gap: 12px;\n",
              "    }\n",
              "\n",
              "    .colab-df-convert {\n",
              "      background-color: #E8F0FE;\n",
              "      border: none;\n",
              "      border-radius: 50%;\n",
              "      cursor: pointer;\n",
              "      display: none;\n",
              "      fill: #1967D2;\n",
              "      height: 32px;\n",
              "      padding: 0 0 0 0;\n",
              "      width: 32px;\n",
              "    }\n",
              "\n",
              "    .colab-df-convert:hover {\n",
              "      background-color: #E2EBFA;\n",
              "      box-shadow: 0px 1px 2px rgba(60, 64, 67, 0.3), 0px 1px 3px 1px rgba(60, 64, 67, 0.15);\n",
              "      fill: #174EA6;\n",
              "    }\n",
              "\n",
              "    [theme=dark] .colab-df-convert {\n",
              "      background-color: #3B4455;\n",
              "      fill: #D2E3FC;\n",
              "    }\n",
              "\n",
              "    [theme=dark] .colab-df-convert:hover {\n",
              "      background-color: #434B5C;\n",
              "      box-shadow: 0px 1px 3px 1px rgba(0, 0, 0, 0.15);\n",
              "      filter: drop-shadow(0px 1px 2px rgba(0, 0, 0, 0.3));\n",
              "      fill: #FFFFFF;\n",
              "    }\n",
              "  </style>\n",
              "\n",
              "      <script>\n",
              "        const buttonEl =\n",
              "          document.querySelector('#df-2bc0bbe5-32af-4663-a2bb-1a2deb42a5d3 button.colab-df-convert');\n",
              "        buttonEl.style.display =\n",
              "          google.colab.kernel.accessAllowed ? 'block' : 'none';\n",
              "\n",
              "        async function convertToInteractive(key) {\n",
              "          const element = document.querySelector('#df-2bc0bbe5-32af-4663-a2bb-1a2deb42a5d3');\n",
              "          const dataTable =\n",
              "            await google.colab.kernel.invokeFunction('convertToInteractive',\n",
              "                                                     [key], {});\n",
              "          if (!dataTable) return;\n",
              "\n",
              "          const docLinkHtml = 'Like what you see? Visit the ' +\n",
              "            '<a target=\"_blank\" href=https://colab.research.google.com/notebooks/data_table.ipynb>data table notebook</a>'\n",
              "            + ' to learn more about interactive tables.';\n",
              "          element.innerHTML = '';\n",
              "          dataTable['output_type'] = 'display_data';\n",
              "          await google.colab.output.renderOutput(dataTable, element);\n",
              "          const docLink = document.createElement('div');\n",
              "          docLink.innerHTML = docLinkHtml;\n",
              "          element.appendChild(docLink);\n",
              "        }\n",
              "      </script>\n",
              "    </div>\n",
              "  </div>\n",
              "  "
            ],
            "text/plain": [
              "     OUTLET_ID    OUTLET_TYPE OUTLET_LOCATION_0 OUTLET_LOCATION_1  \\\n",
              "21     1035793  Grocery Store           Senegal             Dakar   \n",
              "61     1035884  Grocery Store           Senegal             Dakar   \n",
              "62     1035885  Grocery Store           Senegal             Dakar   \n",
              "110    1035841  Grocery Store           Senegal             Dakar   \n",
              "113    1039434  Grocery Store           Senegal             Dakar   \n",
              "\n",
              "    OUTLET_LOCATION_2    OUTLET_LOCATION_3    OUTLET_LOCATION_4  SKU_ID  \\\n",
              "21           Rufisque             Bambilor                 Yene   22601   \n",
              "61              Dakar          Grand Dakar          Grand Dakar    1931   \n",
              "62         Guédiawaye           Guediawaye    Wakhinane Nimzatt    2002   \n",
              "110             Dakar          Grand Dakar          Biscuiterie    1954   \n",
              "113             Dakar  Parcelles Assainies  Parcelles Assainies    2002   \n",
              "\n",
              "    SKU_BRAND SKU_CATEGORY SKU_CATEGORY_CUSTOM SKU_FLAVOUR      SKU_FORMAT  \\\n",
              "21        NaN   Mayonnaise          Mayonnaise         NaN             NaN   \n",
              "61     Maynès   Mayonnaise          Mayonnaise         NaN  Plastic Bottle   \n",
              "62       BAMA   Mayonnaise          Mayonnaise         NaN    Glass Bottle   \n",
              "110    Maynès   Mayonnaise          Mayonnaise         NaN  Plastic Bottle   \n",
              "113      BAMA   Mayonnaise          Mayonnaise         NaN    Glass Bottle   \n",
              "\n",
              "     SKU_VOLUME  SKU_UNIT_ID SKU_UNIT SKU_UNIT_TYPE  SKU_VOLUME_METRIC  \\\n",
              "21          NaN          NaN      NaN           NaN                NaN   \n",
              "61          5.0       6246.0        l        Volume              5.000   \n",
              "62        473.0       6245.0       ml        Volume              0.473   \n",
              "110       237.0       6245.0       ml        Volume              0.237   \n",
              "113       473.0       6245.0       ml        Volume              0.473   \n",
              "\n",
              "    SKU_MANUFACTURER  AUDIT_SKU_STOCK  AUDIT_SKU_FACINGS  AUDIT_PRICE  \\\n",
              "21               NaN              6.0                1.0       5000.0   \n",
              "61           Patisen              1.0                1.0       6500.0   \n",
              "62           GBFoods              3.0                3.0       1200.0   \n",
              "110          Patisen             20.0                1.0        500.0   \n",
              "113          GBFoods             10.0                6.0       1200.0   \n",
              "\n",
              "     AUDIT_SALES  Unnamed: 23  Unnamed: 24  Unnamed: 25  Unnamed: 26  \\\n",
              "21           NaN          NaN          NaN          NaN          NaN   \n",
              "61        1000.0     0.000039          NaN          NaN          NaN   \n",
              "62        1000.0     0.000039          NaN          NaN          NaN   \n",
              "110       2000.0     0.000078          NaN          NaN          NaN   \n",
              "113       1000.0     0.000039          NaN          NaN          NaN   \n",
              "\n",
              "     UNI_VOLUME  AMOUNT_SOLD  VOLUME_SOLD  \n",
              "21          NaN          NaN          NaN  \n",
              "61        5.000     0.153846     0.769231  \n",
              "62        0.473     0.833333     0.394167  \n",
              "110       0.237     4.000000     0.948000  \n",
              "113       0.473     0.833333     0.394167  "
            ]
          },
          "metadata": {},
          "execution_count": 23
        }
      ]
    },
    {
      "cell_type": "markdown",
      "source": [
        "Now we have the Volume_sold, but we can observe that we don't have 'int' format, aka full value, but it's a 'float'. Does it mean that products have been sold at a discount, or partially not by unit? As of right now, we cant have the unswear I'm just going to carry on with the analysis\n",
        "\n",
        "Now we need to deal with missing data. Dropping/replacing with 0 is not a very good option here as then we will certainly underestimate the volume of mayonnaise sold (if there is a record in the database then at least some amound was sold). Therefore we will use mean values to fill the gaps. "
      ],
      "metadata": {
        "id": "VvLuM4egODJq"
      }
    },
    {
      "cell_type": "code",
      "source": [
        "df_Mayonnaise_Dakar[df_Mayonnaise_Dakar['SKU_VOLUME_METRIC'].isnull()]\n",
        "df_Mayonnaise_Dakar['VOLUME_SOLD'].isnull().sum()\n"
      ],
      "metadata": {
        "id": "Ath2Iwf0mTmn",
        "colab": {
          "base_uri": "https://localhost:8080/"
        },
        "outputId": "d8bf7bb6-4a81-43e7-d160-9437e1b6f4e1"
      },
      "execution_count": null,
      "outputs": [
        {
          "output_type": "execute_result",
          "data": {
            "text/plain": [
              "104"
            ]
          },
          "metadata": {},
          "execution_count": 24
        }
      ]
    },
    {
      "cell_type": "code",
      "source": [
        "df_Mayonnaise_Dakar_filled=df_Mayonnaise_Dakar.copy()\n",
        "df_Mayonnaise_Dakar_filled['VOLUME_SOLD'].fillna(value=df_Mayonnaise_Dakar_filled['VOLUME_SOLD'].mean(), inplace=True)\n",
        "df_Mayonnaise_Dakar_filled['VOLUME_SOLD'].isnull().sum()\n",
        "#df_Mayonnaise_Dakar_filled['VOLUME_SOLD'].isnull().sum()"
      ],
      "metadata": {
        "colab": {
          "base_uri": "https://localhost:8080/"
        },
        "id": "fYMNqB_0b3lY",
        "outputId": "2fd9fc61-6500-449d-e826-34bfb1126137"
      },
      "execution_count": null,
      "outputs": [
        {
          "output_type": "execute_result",
          "data": {
            "text/plain": [
              "0"
            ]
          },
          "metadata": {},
          "execution_count": 25
        }
      ]
    },
    {
      "cell_type": "code",
      "execution_count": null,
      "metadata": {
        "id": "cwAC-Lu0XdfC",
        "colab": {
          "base_uri": "https://localhost:8080/",
          "height": 266
        },
        "outputId": "939e6b34-f169-428e-d77d-e76421ae2a84"
      },
      "outputs": [
        {
          "output_type": "execute_result",
          "data": {
            "text/html": [
              "<style type=\"text/css\">\n",
              "</style>\n",
              "<table id=\"T_ddd0c_\" class=\"dataframe\">\n",
              "  <thead>\n",
              "    <tr>\n",
              "      <th class=\"blank level0\" >&nbsp;</th>\n",
              "      <th class=\"col_heading level0 col0\" >VOLUME_SOLD</th>\n",
              "    </tr>\n",
              "    <tr>\n",
              "      <th class=\"index_name level0\" >OUTLET_TYPE</th>\n",
              "      <th class=\"blank col0\" >&nbsp;</th>\n",
              "    </tr>\n",
              "  </thead>\n",
              "  <tbody>\n",
              "    <tr>\n",
              "      <th id=\"T_ddd0c_level0_row0\" class=\"row_heading level0 row0\" >Grocery Store</th>\n",
              "      <td id=\"T_ddd0c_row0_col0\" class=\"data row0 col0\" >456.70</td>\n",
              "    </tr>\n",
              "    <tr>\n",
              "      <th id=\"T_ddd0c_level0_row1\" class=\"row_heading level0 row1\" >Supermarket</th>\n",
              "      <td id=\"T_ddd0c_row1_col0\" class=\"data row1 col0\" >178.97</td>\n",
              "    </tr>\n",
              "    <tr>\n",
              "      <th id=\"T_ddd0c_level0_row2\" class=\"row_heading level0 row2\" >Greengrocer</th>\n",
              "      <td id=\"T_ddd0c_row2_col0\" class=\"data row2 col0\" >141.04</td>\n",
              "    </tr>\n",
              "    <tr>\n",
              "      <th id=\"T_ddd0c_level0_row3\" class=\"row_heading level0 row3\" >Minimart</th>\n",
              "      <td id=\"T_ddd0c_row3_col0\" class=\"data row3 col0\" >109.38</td>\n",
              "    </tr>\n",
              "    <tr>\n",
              "      <th id=\"T_ddd0c_level0_row4\" class=\"row_heading level0 row4\" >Kiosk</th>\n",
              "      <td id=\"T_ddd0c_row4_col0\" class=\"data row4 col0\" >58.74</td>\n",
              "    </tr>\n",
              "    <tr>\n",
              "      <th id=\"T_ddd0c_level0_row5\" class=\"row_heading level0 row5\" >Table top</th>\n",
              "      <td id=\"T_ddd0c_row5_col0\" class=\"data row5 col0\" >6.82</td>\n",
              "    </tr>\n",
              "  </tbody>\n",
              "</table>\n"
            ],
            "text/plain": [
              "<pandas.io.formats.style.Styler at 0x7faab3a892d0>"
            ]
          },
          "metadata": {},
          "execution_count": 26
        }
      ],
      "source": [
        "#Lets group by our data by OUTLET_TYPE\n",
        "#TODO: round \n",
        "df_Mayonnaise_Dakar_final=df_Mayonnaise_Dakar_filled.groupby(['OUTLET_TYPE']).agg({'VOLUME_SOLD': 'sum'}).sort_values(\"VOLUME_SOLD\", ascending=False)\n",
        "df_Mayonnaise_Dakar_final.style.format(\"{:.2f}\")"
      ]
    },
    {
      "cell_type": "code",
      "execution_count": null,
      "metadata": {
        "id": "XLG3u_WXXdfD",
        "colab": {
          "base_uri": "https://localhost:8080/",
          "height": 441
        },
        "outputId": "d6d0fe8d-72ce-41e3-9290-f8c028f04f39"
      },
      "outputs": [
        {
          "output_type": "display_data",
          "data": {
            "image/png": "[encoded data removed]",
            "text/plain": [
              "<Figure size 720x432 with 1 Axes>"
            ]
          },
          "metadata": {
            "needs_background": "light"
          }
        }
      ],
      "source": [
        "bar_chart = df_Mayonnaise_Dakar_final.reset_index()\n",
        "plt.figure(figsize=(10,6))\n",
        "ax = sns.barplot(bar_chart['OUTLET_TYPE'],\n",
        "            bar_chart['VOLUME_SOLD'],palette= 'winter')\n",
        "plt.title('Total volume of Mayonnaise sold by outlet_type', fontsize = 20)\n",
        "plt.xticks(rotation=60)\n",
        "plt.tight_layout()"
      ]
    },
    {
      "cell_type": "markdown",
      "metadata": {
        "id": "HwkIHUDpXdfE"
      },
      "source": [
        "# 3.What is the market share of each brand in each of the categories?"
      ]
    },
    {
      "cell_type": "code",
      "source": [
        "df_brand_share = df.copy()\n",
        "#df_brand_share = df[['SKU_CATEGORY','SKU_BRAND','AUDIT_SALES']]"
      ],
      "metadata": {
        "id": "hbE8yHW7TE2c"
      },
      "execution_count": null,
      "outputs": []
    },
    {
      "cell_type": "code",
      "source": [
        "#Let check for the missing values in different combinations of data\n",
        "df_null_brand= df_brand_share[~df_brand_share['SKU_BRAND'].isnull()]['SKU_CATEGORY'].isnull().sum()\n",
        "print(\"There are {} records with brands where categories are missing\".format(df_null_brand))"
      ],
      "metadata": {
        "colab": {
          "base_uri": "https://localhost:8080/"
        },
        "id": "xlT9cODxpDV1",
        "outputId": "22cc9f63-ef6f-445f-f43e-ff5b1964eb5c"
      },
      "execution_count": null,
      "outputs": [
        {
          "output_type": "stream",
          "name": "stdout",
          "text": [
            "There are 0 records with brands where categories are missing\n"
          ]
        }
      ]
    },
    {
      "cell_type": "code",
      "source": [
        "df_null_brand= df_brand_share[~df_brand_share['SKU_CATEGORY'].isnull()]['SKU_BRAND'].isnull().sum()\n",
        "print(\"There are {} records with categories where brands are missing\".format(df_null_brand))"
      ],
      "metadata": {
        "colab": {
          "base_uri": "https://localhost:8080/"
        },
        "id": "QlBlW5c6xMVP",
        "outputId": "ee2329d0-4ea1-402c-a723-0d07fa361c55"
      },
      "execution_count": null,
      "outputs": [
        {
          "output_type": "stream",
          "name": "stdout",
          "text": [
            "There are 154 records with categories where brands are missing\n"
          ]
        }
      ]
    },
    {
      "cell_type": "code",
      "source": [
        "brand_share_nonull_full = df_brand_share[df_brand_share[('SKU_BRAND')].notna()]\n",
        "brand_share_nonull_full.isnull().sum()"
      ],
      "metadata": {
        "colab": {
          "base_uri": "https://localhost:8080/"
        },
        "id": "nZ6v-Nx-ySbQ",
        "outputId": "9a6d257e-e7fa-4644-be2f-ce4451d3f45a"
      },
      "execution_count": null,
      "outputs": [
        {
          "output_type": "execute_result",
          "data": {
            "text/plain": [
              "OUTLET_ID                  0\n",
              "OUTLET_TYPE                0\n",
              "OUTLET_LOCATION_0          0\n",
              "OUTLET_LOCATION_1          0\n",
              "OUTLET_LOCATION_2          0\n",
              "OUTLET_LOCATION_3          0\n",
              "OUTLET_LOCATION_4          0\n",
              "SKU_ID                     0\n",
              "SKU_BRAND                  0\n",
              "SKU_CATEGORY               0\n",
              "SKU_CATEGORY_CUSTOM        0\n",
              "SKU_FLAVOUR             4850\n",
              "SKU_FORMAT                 0\n",
              "SKU_VOLUME                 0\n",
              "SKU_UNIT_ID                0\n",
              "SKU_UNIT                   0\n",
              "SKU_UNIT_TYPE              0\n",
              "SKU_VOLUME_METRIC          0\n",
              "SKU_MANUFACTURER        2409\n",
              "AUDIT_SKU_STOCK           10\n",
              "AUDIT_SKU_FACINGS         18\n",
              "AUDIT_PRICE               12\n",
              "AUDIT_SALES              335\n",
              "Unnamed: 23              336\n",
              "Unnamed: 24            13940\n",
              "Unnamed: 25            13938\n",
              "Unnamed: 26            13939\n",
              "dtype: int64"
            ]
          },
          "metadata": {},
          "execution_count": 31
        }
      ]
    },
    {
      "cell_type": "code",
      "source": [
        "brand_share_nonull_full= brand_share_nonull_full['AUDIT_SALES'].isnull().sum()\n",
        "print(\"There are {} missing brands with missing sales\".format(brand_share_nonull_full))"
      ],
      "metadata": {
        "colab": {
          "base_uri": "https://localhost:8080/"
        },
        "id": "6H2Q4j1UoVhc",
        "outputId": "7eae970b-efc4-4157-81b0-eb850d4e846c"
      },
      "execution_count": null,
      "outputs": [
        {
          "output_type": "stream",
          "name": "stdout",
          "text": [
            "There are 335 missing brands with missing sales\n"
          ]
        }
      ]
    },
    {
      "cell_type": "code",
      "source": [
        "df_brand_share.shape"
      ],
      "metadata": {
        "colab": {
          "base_uri": "https://localhost:8080/"
        },
        "id": "HcF4g6hIulOt",
        "outputId": "cb5cfe89-2bdc-41e5-9b22-934d1fe4c9d6"
      },
      "execution_count": null,
      "outputs": [
        {
          "output_type": "execute_result",
          "data": {
            "text/plain": [
              "(14094, 27)"
            ]
          },
          "metadata": {},
          "execution_count": 33
        }
      ]
    },
    {
      "cell_type": "code",
      "source": [
        "print(\"There are {} reconds with missing AUDIT_SALES out of  {}, or {}%\".format(df_brand_share['AUDIT_SALES'].isnull().sum(), df_brand_share.shape[0],np.round(df_brand_share['AUDIT_SALES'].isnull().sum()/df_brand_share.shape[0]*100,2)))"
      ],
      "metadata": {
        "colab": {
          "base_uri": "https://localhost:8080/"
        },
        "id": "1ATT67lpUcFK",
        "outputId": "ee111158-8cb2-4cdb-8e55-e06268058eaa"
      },
      "execution_count": null,
      "outputs": [
        {
          "output_type": "stream",
          "name": "stdout",
          "text": [
            "There are 489 reconds with missing AUDIT_SALES out of  14094, or 3.47%\n"
          ]
        }
      ]
    },
    {
      "cell_type": "markdown",
      "source": [
        "Taking into consideration that we are missing just 3,5% of data in Audit_sale column, i've decided to drop it"
      ],
      "metadata": {
        "id": "3k50--_jURbo"
      }
    },
    {
      "cell_type": "code",
      "source": [
        "brand_share_nonull_full = df_brand_share[df_brand_share[('AUDIT_SALES')].notna()]\n",
        "brand_share_nonull_full.isnull().sum()"
      ],
      "metadata": {
        "colab": {
          "base_uri": "https://localhost:8080/"
        },
        "id": "Qs8FUEbTVhGs",
        "outputId": "fa68df72-fb2e-495d-a6e4-a2061d8f2d30"
      },
      "execution_count": null,
      "outputs": [
        {
          "output_type": "execute_result",
          "data": {
            "text/plain": [
              "OUTLET_ID                  0\n",
              "OUTLET_TYPE                0\n",
              "OUTLET_LOCATION_0          0\n",
              "OUTLET_LOCATION_1          0\n",
              "OUTLET_LOCATION_2          0\n",
              "OUTLET_LOCATION_3          0\n",
              "OUTLET_LOCATION_4          0\n",
              "SKU_ID                     0\n",
              "SKU_BRAND                  0\n",
              "SKU_CATEGORY               0\n",
              "SKU_CATEGORY_CUSTOM        0\n",
              "SKU_FLAVOUR             4670\n",
              "SKU_FORMAT                 0\n",
              "SKU_VOLUME                 0\n",
              "SKU_UNIT_ID                0\n",
              "SKU_UNIT                   0\n",
              "SKU_UNIT_TYPE              0\n",
              "SKU_VOLUME_METRIC          0\n",
              "SKU_MANUFACTURER        2321\n",
              "AUDIT_SKU_STOCK            0\n",
              "AUDIT_SKU_FACINGS         11\n",
              "AUDIT_PRICE                3\n",
              "AUDIT_SALES                0\n",
              "Unnamed: 23                1\n",
              "Unnamed: 24            13605\n",
              "Unnamed: 25            13603\n",
              "Unnamed: 26            13604\n",
              "dtype: int64"
            ]
          },
          "metadata": {},
          "execution_count": 35
        }
      ]
    },
    {
      "cell_type": "code",
      "execution_count": null,
      "metadata": {
        "id": "CmzFN8lQXdfF",
        "colab": {
          "base_uri": "https://localhost:8080/",
          "height": 1000
        },
        "outputId": "2c8b0c15-9608-418a-d55e-17456d9fc12e"
      },
      "outputs": [
        {
          "output_type": "execute_result",
          "data": {
            "text/html": [
              "<style type=\"text/css\">\n",
              "</style>\n",
              "<table id=\"T_7126d_\" class=\"dataframe\">\n",
              "  <thead>\n",
              "    <tr>\n",
              "      <th class=\"blank\" >&nbsp;</th>\n",
              "      <th class=\"blank level0\" >&nbsp;</th>\n",
              "      <th class=\"col_heading level0 col0\" >AUDIT_SALES</th>\n",
              "      <th class=\"col_heading level0 col1\" >Market share %</th>\n",
              "    </tr>\n",
              "    <tr>\n",
              "      <th class=\"index_name level0\" >SKU_CATEGORY</th>\n",
              "      <th class=\"index_name level1\" >SKU_BRAND</th>\n",
              "      <th class=\"blank col0\" >&nbsp;</th>\n",
              "      <th class=\"blank col1\" >&nbsp;</th>\n",
              "    </tr>\n",
              "  </thead>\n",
              "  <tbody>\n",
              "    <tr>\n",
              "      <th id=\"T_7126d_level0_row0\" class=\"row_heading level0 row0\" rowspan=\"19\">Bouillon</th>\n",
              "      <th id=\"T_7126d_level1_row0\" class=\"row_heading level1 row0\" >ADJA</th>\n",
              "      <td id=\"T_7126d_row0_col0\" class=\"data row0 col0\" >2420169.24</td>\n",
              "      <td id=\"T_7126d_row0_col1\" class=\"data row0 col1\" >18.12</td>\n",
              "    </tr>\n",
              "    <tr>\n",
              "      <th id=\"T_7126d_level1_row1\" class=\"row_heading level1 row1\" >Ami</th>\n",
              "      <td id=\"T_7126d_row1_col0\" class=\"data row1 col0\" >642749.14</td>\n",
              "      <td id=\"T_7126d_row1_col1\" class=\"data row1 col1\" >4.81</td>\n",
              "    </tr>\n",
              "    <tr>\n",
              "      <th id=\"T_7126d_level1_row2\" class=\"row_heading level1 row2\" >Amora</th>\n",
              "      <td id=\"T_7126d_row2_col0\" class=\"data row2 col0\" >146358.66</td>\n",
              "      <td id=\"T_7126d_row2_col1\" class=\"data row2 col1\" >1.10</td>\n",
              "    </tr>\n",
              "    <tr>\n",
              "      <th id=\"T_7126d_level1_row3\" class=\"row_heading level1 row3\" >Antou</th>\n",
              "      <td id=\"T_7126d_row3_col0\" class=\"data row3 col0\" >23700.00</td>\n",
              "      <td id=\"T_7126d_row3_col1\" class=\"data row3 col1\" >0.18</td>\n",
              "    </tr>\n",
              "    <tr>\n",
              "      <th id=\"T_7126d_level1_row4\" class=\"row_heading level1 row4\" >Bara Musso</th>\n",
              "      <td id=\"T_7126d_row4_col0\" class=\"data row4 col0\" >2507.43</td>\n",
              "      <td id=\"T_7126d_row4_col1\" class=\"data row4 col1\" >0.02</td>\n",
              "    </tr>\n",
              "    <tr>\n",
              "      <th id=\"T_7126d_level1_row5\" class=\"row_heading level1 row5\" >Bongou</th>\n",
              "      <td id=\"T_7126d_row5_col0\" class=\"data row5 col0\" >271670.33</td>\n",
              "      <td id=\"T_7126d_row5_col1\" class=\"data row5 col1\" >2.03</td>\n",
              "    </tr>\n",
              "    <tr>\n",
              "      <th id=\"T_7126d_level1_row6\" class=\"row_heading level1 row6\" >Bravo</th>\n",
              "      <td id=\"T_7126d_row6_col0\" class=\"data row6 col0\" >1000.00</td>\n",
              "      <td id=\"T_7126d_row6_col1\" class=\"data row6 col1\" >0.01</td>\n",
              "    </tr>\n",
              "    <tr>\n",
              "      <th id=\"T_7126d_level1_row7\" class=\"row_heading level1 row7\" >Doli</th>\n",
              "      <td id=\"T_7126d_row7_col0\" class=\"data row7 col0\" >1077659.59</td>\n",
              "      <td id=\"T_7126d_row7_col1\" class=\"data row7 col1\" >8.07</td>\n",
              "    </tr>\n",
              "    <tr>\n",
              "      <th id=\"T_7126d_level1_row8\" class=\"row_heading level1 row8\" >JONGUÉ</th>\n",
              "      <td id=\"T_7126d_row8_col0\" class=\"data row8 col0\" >78314.24</td>\n",
              "      <td id=\"T_7126d_row8_col1\" class=\"data row8 col1\" >0.59</td>\n",
              "    </tr>\n",
              "    <tr>\n",
              "      <th id=\"T_7126d_level1_row9\" class=\"row_heading level1 row9\" >Joker</th>\n",
              "      <td id=\"T_7126d_row9_col0\" class=\"data row9 col0\" >1797868.08</td>\n",
              "      <td id=\"T_7126d_row9_col1\" class=\"data row9 col1\" >13.46</td>\n",
              "    </tr>\n",
              "    <tr>\n",
              "      <th id=\"T_7126d_level1_row10\" class=\"row_heading level1 row10\" >Jumbo</th>\n",
              "      <td id=\"T_7126d_row10_col0\" class=\"data row10 col0\" >1997100.48</td>\n",
              "      <td id=\"T_7126d_row10_col1\" class=\"data row10 col1\" >14.95</td>\n",
              "    </tr>\n",
              "    <tr>\n",
              "      <th id=\"T_7126d_level1_row11\" class=\"row_heading level1 row11\" >KADI</th>\n",
              "      <td id=\"T_7126d_row11_col0\" class=\"data row11 col0\" >271124.09</td>\n",
              "      <td id=\"T_7126d_row11_col1\" class=\"data row11 col1\" >2.03</td>\n",
              "    </tr>\n",
              "    <tr>\n",
              "      <th id=\"T_7126d_level1_row12\" class=\"row_heading level1 row12\" >Knorr</th>\n",
              "      <td id=\"T_7126d_row12_col0\" class=\"data row12 col0\" >15000.00</td>\n",
              "      <td id=\"T_7126d_row12_col1\" class=\"data row12 col1\" >0.11</td>\n",
              "    </tr>\n",
              "    <tr>\n",
              "      <th id=\"T_7126d_level1_row13\" class=\"row_heading level1 row13\" >Maggi</th>\n",
              "      <td id=\"T_7126d_row13_col0\" class=\"data row13 col0\" >4506072.38</td>\n",
              "      <td id=\"T_7126d_row13_col1\" class=\"data row13 col1\" >33.73</td>\n",
              "    </tr>\n",
              "    <tr>\n",
              "      <th id=\"T_7126d_level1_row14\" class=\"row_heading level1 row14\" >Mami</th>\n",
              "      <td id=\"T_7126d_row14_col0\" class=\"data row14 col0\" >43367.77</td>\n",
              "      <td id=\"T_7126d_row14_col1\" class=\"data row14 col1\" >0.32</td>\n",
              "    </tr>\n",
              "    <tr>\n",
              "      <th id=\"T_7126d_level1_row15\" class=\"row_heading level1 row15\" >Miam</th>\n",
              "      <td id=\"T_7126d_row15_col0\" class=\"data row15 col0\" >1100.00</td>\n",
              "      <td id=\"T_7126d_row15_col1\" class=\"data row15 col1\" >0.01</td>\n",
              "    </tr>\n",
              "    <tr>\n",
              "      <th id=\"T_7126d_level1_row16\" class=\"row_heading level1 row16\" >Resto</th>\n",
              "      <td id=\"T_7126d_row16_col0\" class=\"data row16 col0\" >1651.25</td>\n",
              "      <td id=\"T_7126d_row16_col1\" class=\"data row16 col1\" >0.01</td>\n",
              "    </tr>\n",
              "    <tr>\n",
              "      <th id=\"T_7126d_level1_row17\" class=\"row_heading level1 row17\" >TAK</th>\n",
              "      <td id=\"T_7126d_row17_col0\" class=\"data row17 col0\" >8250.00</td>\n",
              "      <td id=\"T_7126d_row17_col1\" class=\"data row17 col1\" >0.06</td>\n",
              "    </tr>\n",
              "    <tr>\n",
              "      <th id=\"T_7126d_level1_row18\" class=\"row_heading level1 row18\" >Wéli JUNGO</th>\n",
              "      <td id=\"T_7126d_row18_col0\" class=\"data row18 col0\" >51716.27</td>\n",
              "      <td id=\"T_7126d_row18_col1\" class=\"data row18 col1\" >0.39</td>\n",
              "    </tr>\n",
              "    <tr>\n",
              "      <th id=\"T_7126d_level0_row19\" class=\"row_heading level0 row19\" >Butter</th>\n",
              "      <th id=\"T_7126d_level1_row19\" class=\"row_heading level1 row19\" >KADI</th>\n",
              "      <td id=\"T_7126d_row19_col0\" class=\"data row19 col0\" >5000.00</td>\n",
              "      <td id=\"T_7126d_row19_col1\" class=\"data row19 col1\" >100.00</td>\n",
              "    </tr>\n",
              "    <tr>\n",
              "      <th id=\"T_7126d_level0_row20\" class=\"row_heading level0 row20\" >Canned/Preserved Tomatoes</th>\n",
              "      <th id=\"T_7126d_level1_row20\" class=\"row_heading level1 row20\" >Panzani</th>\n",
              "      <td id=\"T_7126d_row20_col0\" class=\"data row20 col0\" >6042.75</td>\n",
              "      <td id=\"T_7126d_row20_col1\" class=\"data row20 col1\" >100.00</td>\n",
              "    </tr>\n",
              "    <tr>\n",
              "      <th id=\"T_7126d_level0_row21\" class=\"row_heading level0 row21\" >Canned/Preserved Vegetables</th>\n",
              "      <th id=\"T_7126d_level1_row21\" class=\"row_heading level1 row21\" >Other Brand</th>\n",
              "      <td id=\"T_7126d_row21_col0\" class=\"data row21 col0\" >2500.00</td>\n",
              "      <td id=\"T_7126d_row21_col1\" class=\"data row21 col1\" >100.00</td>\n",
              "    </tr>\n",
              "    <tr>\n",
              "      <th id=\"T_7126d_level0_row22\" class=\"row_heading level0 row22\" >Chocolate Spreads</th>\n",
              "      <th id=\"T_7126d_level1_row22\" class=\"row_heading level1 row22\" >Delia</th>\n",
              "      <td id=\"T_7126d_row22_col0\" class=\"data row22 col0\" >9500.00</td>\n",
              "      <td id=\"T_7126d_row22_col1\" class=\"data row22 col1\" >100.00</td>\n",
              "    </tr>\n",
              "    <tr>\n",
              "      <th id=\"T_7126d_level0_row23\" class=\"row_heading level0 row23\" >Cooking Ingredients</th>\n",
              "      <th id=\"T_7126d_level1_row23\" class=\"row_heading level1 row23\" >Bara Musso</th>\n",
              "      <td id=\"T_7126d_row23_col0\" class=\"data row23 col0\" >2800.00</td>\n",
              "      <td id=\"T_7126d_row23_col1\" class=\"data row23 col1\" >100.00</td>\n",
              "    </tr>\n",
              "    <tr>\n",
              "      <th id=\"T_7126d_level0_row24\" class=\"row_heading level0 row24\" rowspan=\"2\">Herbs and Spices</th>\n",
              "      <th id=\"T_7126d_level1_row24\" class=\"row_heading level1 row24\" >Bara Musso</th>\n",
              "      <td id=\"T_7126d_row24_col0\" class=\"data row24 col0\" >15800.00</td>\n",
              "      <td id=\"T_7126d_row24_col1\" class=\"data row24 col1\" >94.05</td>\n",
              "    </tr>\n",
              "    <tr>\n",
              "      <th id=\"T_7126d_level1_row25\" class=\"row_heading level1 row25\" >Other Brand</th>\n",
              "      <td id=\"T_7126d_row25_col0\" class=\"data row25 col0\" >1000.00</td>\n",
              "      <td id=\"T_7126d_row25_col1\" class=\"data row25 col1\" >5.95</td>\n",
              "    </tr>\n",
              "    <tr>\n",
              "      <th id=\"T_7126d_level0_row26\" class=\"row_heading level0 row26\" rowspan=\"15\">Ketchup</th>\n",
              "      <th id=\"T_7126d_level1_row26\" class=\"row_heading level1 row26\" >Alfa</th>\n",
              "      <td id=\"T_7126d_row26_col0\" class=\"data row26 col0\" >325400.00</td>\n",
              "      <td id=\"T_7126d_row26_col1\" class=\"data row26 col1\" >46.78</td>\n",
              "    </tr>\n",
              "    <tr>\n",
              "      <th id=\"T_7126d_level1_row27\" class=\"row_heading level1 row27\" >Amana</th>\n",
              "      <td id=\"T_7126d_row27_col0\" class=\"data row27 col0\" >12500.00</td>\n",
              "      <td id=\"T_7126d_row27_col1\" class=\"data row27 col1\" >1.80</td>\n",
              "    </tr>\n",
              "    <tr>\n",
              "      <th id=\"T_7126d_level1_row28\" class=\"row_heading level1 row28\" >Amora</th>\n",
              "      <td id=\"T_7126d_row28_col0\" class=\"data row28 col0\" >30734.00</td>\n",
              "      <td id=\"T_7126d_row28_col1\" class=\"data row28 col1\" >4.42</td>\n",
              "    </tr>\n",
              "    <tr>\n",
              "      <th id=\"T_7126d_level1_row29\" class=\"row_heading level1 row29\" >Armanti</th>\n",
              "      <td id=\"T_7126d_row29_col0\" class=\"data row29 col0\" >2600.00</td>\n",
              "      <td id=\"T_7126d_row29_col1\" class=\"data row29 col1\" >0.37</td>\n",
              "    </tr>\n",
              "    <tr>\n",
              "      <th id=\"T_7126d_level1_row30\" class=\"row_heading level1 row30\" >Belle France</th>\n",
              "      <td id=\"T_7126d_row30_col0\" class=\"data row30 col0\" >15000.00</td>\n",
              "      <td id=\"T_7126d_row30_col1\" class=\"data row30 col1\" >2.16</td>\n",
              "    </tr>\n",
              "    <tr>\n",
              "      <th id=\"T_7126d_level1_row31\" class=\"row_heading level1 row31\" >Dieg Bou Diar</th>\n",
              "      <td id=\"T_7126d_row31_col0\" class=\"data row31 col0\" >21330.23</td>\n",
              "      <td id=\"T_7126d_row31_col1\" class=\"data row31 col1\" >3.07</td>\n",
              "    </tr>\n",
              "    <tr>\n",
              "      <th id=\"T_7126d_level1_row32\" class=\"row_heading level1 row32\" >Ducros</th>\n",
              "      <td id=\"T_7126d_row32_col0\" class=\"data row32 col0\" >10714.29</td>\n",
              "      <td id=\"T_7126d_row32_col1\" class=\"data row32 col1\" >1.54</td>\n",
              "    </tr>\n",
              "    <tr>\n",
              "      <th id=\"T_7126d_level1_row33\" class=\"row_heading level1 row33\" >Everyday</th>\n",
              "      <td id=\"T_7126d_row33_col0\" class=\"data row33 col0\" >1666.68</td>\n",
              "      <td id=\"T_7126d_row33_col1\" class=\"data row33 col1\" >0.24</td>\n",
              "    </tr>\n",
              "    <tr>\n",
              "      <th id=\"T_7126d_level1_row34\" class=\"row_heading level1 row34\" >Heinz</th>\n",
              "      <td id=\"T_7126d_row34_col0\" class=\"data row34 col0\" >10000.00</td>\n",
              "      <td id=\"T_7126d_row34_col1\" class=\"data row34 col1\" >1.44</td>\n",
              "    </tr>\n",
              "    <tr>\n",
              "      <th id=\"T_7126d_level1_row35\" class=\"row_heading level1 row35\" >La Fraiche</th>\n",
              "      <td id=\"T_7126d_row35_col0\" class=\"data row35 col0\" >2000.00</td>\n",
              "      <td id=\"T_7126d_row35_col1\" class=\"data row35 col1\" >0.29</td>\n",
              "    </tr>\n",
              "    <tr>\n",
              "      <th id=\"T_7126d_level1_row36\" class=\"row_heading level1 row36\" >Linguère</th>\n",
              "      <td id=\"T_7126d_row36_col0\" class=\"data row36 col0\" >194315.37</td>\n",
              "      <td id=\"T_7126d_row36_col1\" class=\"data row36 col1\" >27.93</td>\n",
              "    </tr>\n",
              "    <tr>\n",
              "      <th id=\"T_7126d_level1_row37\" class=\"row_heading level1 row37\" >Mutti</th>\n",
              "      <td id=\"T_7126d_row37_col0\" class=\"data row37 col0\" >25000.00</td>\n",
              "      <td id=\"T_7126d_row37_col1\" class=\"data row37 col1\" >3.59</td>\n",
              "    </tr>\n",
              "    <tr>\n",
              "      <th id=\"T_7126d_level1_row38\" class=\"row_heading level1 row38\" >Safa</th>\n",
              "      <td id=\"T_7126d_row38_col0\" class=\"data row38 col0\" >32000.00</td>\n",
              "      <td id=\"T_7126d_row38_col1\" class=\"data row38 col1\" >4.60</td>\n",
              "    </tr>\n",
              "    <tr>\n",
              "      <th id=\"T_7126d_level1_row39\" class=\"row_heading level1 row39\" >TAMA</th>\n",
              "      <td id=\"T_7126d_row39_col0\" class=\"data row39 col0\" >12100.00</td>\n",
              "      <td id=\"T_7126d_row39_col1\" class=\"data row39 col1\" >1.74</td>\n",
              "    </tr>\n",
              "    <tr>\n",
              "      <th id=\"T_7126d_level1_row40\" class=\"row_heading level1 row40\" >U Saveurs</th>\n",
              "      <td id=\"T_7126d_row40_col0\" class=\"data row40 col0\" >259.74</td>\n",
              "      <td id=\"T_7126d_row40_col1\" class=\"data row40 col1\" >0.04</td>\n",
              "    </tr>\n",
              "    <tr>\n",
              "      <th id=\"T_7126d_level0_row41\" class=\"row_heading level0 row41\" rowspan=\"3\">Margarine</th>\n",
              "      <th id=\"T_7126d_level1_row41\" class=\"row_heading level1 row41\" >Alima</th>\n",
              "      <td id=\"T_7126d_row41_col0\" class=\"data row41 col0\" >7000.00</td>\n",
              "      <td id=\"T_7126d_row41_col1\" class=\"data row41 col1\" >51.85</td>\n",
              "    </tr>\n",
              "    <tr>\n",
              "      <th id=\"T_7126d_level1_row42\" class=\"row_heading level1 row42\" >Jadida</th>\n",
              "      <td id=\"T_7126d_row42_col0\" class=\"data row42 col0\" >1000.00</td>\n",
              "      <td id=\"T_7126d_row42_col1\" class=\"data row42 col1\" >7.41</td>\n",
              "    </tr>\n",
              "    <tr>\n",
              "      <th id=\"T_7126d_level1_row43\" class=\"row_heading level1 row43\" >KADI</th>\n",
              "      <td id=\"T_7126d_row43_col0\" class=\"data row43 col0\" >5500.00</td>\n",
              "      <td id=\"T_7126d_row43_col1\" class=\"data row43 col1\" >40.74</td>\n",
              "    </tr>\n",
              "    <tr>\n",
              "      <th id=\"T_7126d_level0_row44\" class=\"row_heading level0 row44\" rowspan=\"29\">Mayonnaise</th>\n",
              "      <th id=\"T_7126d_level1_row44\" class=\"row_heading level1 row44\" >ADJA</th>\n",
              "      <td id=\"T_7126d_row44_col0\" class=\"data row44 col0\" >15926.94</td>\n",
              "      <td id=\"T_7126d_row44_col1\" class=\"data row44 col1\" >0.49</td>\n",
              "    </tr>\n",
              "    <tr>\n",
              "      <th id=\"T_7126d_level1_row45\" class=\"row_heading level1 row45\" >Ami</th>\n",
              "      <td id=\"T_7126d_row45_col0\" class=\"data row45 col0\" >48722.35</td>\n",
              "      <td id=\"T_7126d_row45_col1\" class=\"data row45 col1\" >1.51</td>\n",
              "    </tr>\n",
              "    <tr>\n",
              "      <th id=\"T_7126d_level1_row46\" class=\"row_heading level1 row46\" >Amora</th>\n",
              "      <td id=\"T_7126d_row46_col0\" class=\"data row46 col0\" >80838.45</td>\n",
              "      <td id=\"T_7126d_row46_col1\" class=\"data row46 col1\" >2.51</td>\n",
              "    </tr>\n",
              "    <tr>\n",
              "      <th id=\"T_7126d_level1_row47\" class=\"row_heading level1 row47\" >Armanti</th>\n",
              "      <td id=\"T_7126d_row47_col0\" class=\"data row47 col0\" >165000.00</td>\n",
              "      <td id=\"T_7126d_row47_col1\" class=\"data row47 col1\" >5.11</td>\n",
              "    </tr>\n",
              "    <tr>\n",
              "      <th id=\"T_7126d_level1_row48\" class=\"row_heading level1 row48\" >BAMA</th>\n",
              "      <td id=\"T_7126d_row48_col0\" class=\"data row48 col0\" >464766.67</td>\n",
              "      <td id=\"T_7126d_row48_col1\" class=\"data row48 col1\" >14.41</td>\n",
              "    </tr>\n",
              "    <tr>\n",
              "      <th id=\"T_7126d_level1_row49\" class=\"row_heading level1 row49\" >Benedicta</th>\n",
              "      <td id=\"T_7126d_row49_col0\" class=\"data row49 col0\" >3363.50</td>\n",
              "      <td id=\"T_7126d_row49_col1\" class=\"data row49 col1\" >0.10</td>\n",
              "    </tr>\n",
              "    <tr>\n",
              "      <th id=\"T_7126d_level1_row50\" class=\"row_heading level1 row50\" >Calvé</th>\n",
              "      <td id=\"T_7126d_row50_col0\" class=\"data row50 col0\" >140720.45</td>\n",
              "      <td id=\"T_7126d_row50_col1\" class=\"data row50 col1\" >4.36</td>\n",
              "    </tr>\n",
              "    <tr>\n",
              "      <th id=\"T_7126d_level1_row51\" class=\"row_heading level1 row51\" >Chef Aïda</th>\n",
              "      <td id=\"T_7126d_row51_col0\" class=\"data row51 col0\" >310135.84</td>\n",
              "      <td id=\"T_7126d_row51_col1\" class=\"data row51 col1\" >9.61</td>\n",
              "    </tr>\n",
              "    <tr>\n",
              "      <th id=\"T_7126d_level1_row52\" class=\"row_heading level1 row52\" >Cook Brand</th>\n",
              "      <td id=\"T_7126d_row52_col0\" class=\"data row52 col0\" >1000.00</td>\n",
              "      <td id=\"T_7126d_row52_col1\" class=\"data row52 col1\" >0.03</td>\n",
              "    </tr>\n",
              "    <tr>\n",
              "      <th id=\"T_7126d_level1_row53\" class=\"row_heading level1 row53\" >Diamo</th>\n",
              "      <td id=\"T_7126d_row53_col0\" class=\"data row53 col0\" >46500.00</td>\n",
              "      <td id=\"T_7126d_row53_col1\" class=\"data row53 col1\" >1.44</td>\n",
              "    </tr>\n",
              "    <tr>\n",
              "      <th id=\"T_7126d_level1_row54\" class=\"row_heading level1 row54\" >Doli</th>\n",
              "      <td id=\"T_7126d_row54_col0\" class=\"data row54 col0\" >85.71</td>\n",
              "      <td id=\"T_7126d_row54_col1\" class=\"data row54 col1\" >0.00</td>\n",
              "    </tr>\n",
              "    <tr>\n",
              "      <th id=\"T_7126d_level1_row55\" class=\"row_heading level1 row55\" >Ducros</th>\n",
              "      <td id=\"T_7126d_row55_col0\" class=\"data row55 col0\" >10924.37</td>\n",
              "      <td id=\"T_7126d_row55_col1\" class=\"data row55 col1\" >0.34</td>\n",
              "    </tr>\n",
              "    <tr>\n",
              "      <th id=\"T_7126d_level1_row56\" class=\"row_heading level1 row56\" >Everyday</th>\n",
              "      <td id=\"T_7126d_row56_col0\" class=\"data row56 col0\" >13333.42</td>\n",
              "      <td id=\"T_7126d_row56_col1\" class=\"data row56 col1\" >0.41</td>\n",
              "    </tr>\n",
              "    <tr>\n",
              "      <th id=\"T_7126d_level1_row57\" class=\"row_heading level1 row57\" >Gova</th>\n",
              "      <td id=\"T_7126d_row57_col0\" class=\"data row57 col0\" >5900.00</td>\n",
              "      <td id=\"T_7126d_row57_col1\" class=\"data row57 col1\" >0.18</td>\n",
              "    </tr>\n",
              "    <tr>\n",
              "      <th id=\"T_7126d_level1_row58\" class=\"row_heading level1 row58\" >Habibi</th>\n",
              "      <td id=\"T_7126d_row58_col0\" class=\"data row58 col0\" >4500.00</td>\n",
              "      <td id=\"T_7126d_row58_col1\" class=\"data row58 col1\" >0.14</td>\n",
              "    </tr>\n",
              "    <tr>\n",
              "      <th id=\"T_7126d_level1_row59\" class=\"row_heading level1 row59\" >Jadida</th>\n",
              "      <td id=\"T_7126d_row59_col0\" class=\"data row59 col0\" >910917.15</td>\n",
              "      <td id=\"T_7126d_row59_col1\" class=\"data row59 col1\" >28.24</td>\n",
              "    </tr>\n",
              "    <tr>\n",
              "      <th id=\"T_7126d_level1_row60\" class=\"row_heading level1 row60\" >KADI</th>\n",
              "      <td id=\"T_7126d_row60_col0\" class=\"data row60 col0\" >26041.67</td>\n",
              "      <td id=\"T_7126d_row60_col1\" class=\"data row60 col1\" >0.81</td>\n",
              "    </tr>\n",
              "    <tr>\n",
              "      <th id=\"T_7126d_level1_row61\" class=\"row_heading level1 row61\" >Leiseur</th>\n",
              "      <td id=\"T_7126d_row61_col0\" class=\"data row61 col0\" >55450.06</td>\n",
              "      <td id=\"T_7126d_row61_col1\" class=\"data row61 col1\" >1.72</td>\n",
              "    </tr>\n",
              "    <tr>\n",
              "      <th id=\"T_7126d_level1_row62\" class=\"row_heading level1 row62\" >Maiola</th>\n",
              "      <td id=\"T_7126d_row62_col0\" class=\"data row62 col0\" >17743.40</td>\n",
              "      <td id=\"T_7126d_row62_col1\" class=\"data row62 col1\" >0.55</td>\n",
              "    </tr>\n",
              "    <tr>\n",
              "      <th id=\"T_7126d_level1_row63\" class=\"row_heading level1 row63\" >Maynès</th>\n",
              "      <td id=\"T_7126d_row63_col0\" class=\"data row63 col0\" >685333.70</td>\n",
              "      <td id=\"T_7126d_row63_col1\" class=\"data row63 col1\" >21.24</td>\n",
              "    </tr>\n",
              "    <tr>\n",
              "      <th id=\"T_7126d_level1_row64\" class=\"row_heading level1 row64\" >Menu & Co</th>\n",
              "      <td id=\"T_7126d_row64_col0\" class=\"data row64 col0\" >931.43</td>\n",
              "      <td id=\"T_7126d_row64_col1\" class=\"data row64 col1\" >0.03</td>\n",
              "    </tr>\n",
              "    <tr>\n",
              "      <th id=\"T_7126d_level1_row65\" class=\"row_heading level1 row65\" >Padi</th>\n",
              "      <td id=\"T_7126d_row65_col0\" class=\"data row65 col0\" >3500.00</td>\n",
              "      <td id=\"T_7126d_row65_col1\" class=\"data row65 col1\" >0.11</td>\n",
              "    </tr>\n",
              "    <tr>\n",
              "      <th id=\"T_7126d_level1_row66\" class=\"row_heading level1 row66\" >Petit Matin</th>\n",
              "      <td id=\"T_7126d_row66_col0\" class=\"data row66 col0\" >6000.00</td>\n",
              "      <td id=\"T_7126d_row66_col1\" class=\"data row66 col1\" >0.19</td>\n",
              "    </tr>\n",
              "    <tr>\n",
              "      <th id=\"T_7126d_level1_row67\" class=\"row_heading level1 row67\" >Rosa</th>\n",
              "      <td id=\"T_7126d_row67_col0\" class=\"data row67 col0\" >2400.00</td>\n",
              "      <td id=\"T_7126d_row67_col1\" class=\"data row67 col1\" >0.07</td>\n",
              "    </tr>\n",
              "    <tr>\n",
              "      <th id=\"T_7126d_level1_row68\" class=\"row_heading level1 row68\" >Sofia</th>\n",
              "      <td id=\"T_7126d_row68_col0\" class=\"data row68 col0\" >21300.00</td>\n",
              "      <td id=\"T_7126d_row68_col1\" class=\"data row68 col1\" >0.66</td>\n",
              "    </tr>\n",
              "    <tr>\n",
              "      <th id=\"T_7126d_level1_row69\" class=\"row_heading level1 row69\" >The King</th>\n",
              "      <td id=\"T_7126d_row69_col0\" class=\"data row69 col0\" >14000.00</td>\n",
              "      <td id=\"T_7126d_row69_col1\" class=\"data row69 col1\" >0.43</td>\n",
              "    </tr>\n",
              "    <tr>\n",
              "      <th id=\"T_7126d_level1_row70\" class=\"row_heading level1 row70\" >Topper</th>\n",
              "      <td id=\"T_7126d_row70_col0\" class=\"data row70 col0\" >138200.00</td>\n",
              "      <td id=\"T_7126d_row70_col1\" class=\"data row70 col1\" >4.28</td>\n",
              "    </tr>\n",
              "    <tr>\n",
              "      <th id=\"T_7126d_level1_row71\" class=\"row_heading level1 row71\" >U Saveurs</th>\n",
              "      <td id=\"T_7126d_row71_col0\" class=\"data row71 col0\" >7532.54</td>\n",
              "      <td id=\"T_7126d_row71_col1\" class=\"data row71 col1\" >0.23</td>\n",
              "    </tr>\n",
              "    <tr>\n",
              "      <th id=\"T_7126d_level1_row72\" class=\"row_heading level1 row72\" >maYoyo</th>\n",
              "      <td id=\"T_7126d_row72_col0\" class=\"data row72 col0\" >24901.62</td>\n",
              "      <td id=\"T_7126d_row72_col1\" class=\"data row72 col1\" >0.77</td>\n",
              "    </tr>\n",
              "    <tr>\n",
              "      <th id=\"T_7126d_level0_row73\" class=\"row_heading level0 row73\" rowspan=\"16\">Mustard</th>\n",
              "      <th id=\"T_7126d_level1_row73\" class=\"row_heading level1 row73\" >Amar</th>\n",
              "      <td id=\"T_7126d_row73_col0\" class=\"data row73 col0\" >394449.06</td>\n",
              "      <td id=\"T_7126d_row73_col1\" class=\"data row73 col1\" >12.42</td>\n",
              "    </tr>\n",
              "    <tr>\n",
              "      <th id=\"T_7126d_level1_row74\" class=\"row_heading level1 row74\" >Amora</th>\n",
              "      <td id=\"T_7126d_row74_col0\" class=\"data row74 col0\" >51773.36</td>\n",
              "      <td id=\"T_7126d_row74_col1\" class=\"data row74 col1\" >1.63</td>\n",
              "    </tr>\n",
              "    <tr>\n",
              "      <th id=\"T_7126d_level1_row75\" class=\"row_heading level1 row75\" >Chatel</th>\n",
              "      <td id=\"T_7126d_row75_col0\" class=\"data row75 col0\" >8388.86</td>\n",
              "      <td id=\"T_7126d_row75_col1\" class=\"data row75 col1\" >0.26</td>\n",
              "    </tr>\n",
              "    <tr>\n",
              "      <th id=\"T_7126d_level1_row76\" class=\"row_heading level1 row76\" >Chef Aïda</th>\n",
              "      <td id=\"T_7126d_row76_col0\" class=\"data row76 col0\" >240027.71</td>\n",
              "      <td id=\"T_7126d_row76_col1\" class=\"data row76 col1\" >7.56</td>\n",
              "    </tr>\n",
              "    <tr>\n",
              "      <th id=\"T_7126d_level1_row77\" class=\"row_heading level1 row77\" >Covinor</th>\n",
              "      <td id=\"T_7126d_row77_col0\" class=\"data row77 col0\" >100560.02</td>\n",
              "      <td id=\"T_7126d_row77_col1\" class=\"data row77 col1\" >3.17</td>\n",
              "    </tr>\n",
              "    <tr>\n",
              "      <th id=\"T_7126d_level1_row78\" class=\"row_heading level1 row78\" >Dijona</th>\n",
              "      <td id=\"T_7126d_row78_col0\" class=\"data row78 col0\" >23810.42</td>\n",
              "      <td id=\"T_7126d_row78_col1\" class=\"data row78 col1\" >0.75</td>\n",
              "    </tr>\n",
              "    <tr>\n",
              "      <th id=\"T_7126d_level1_row79\" class=\"row_heading level1 row79\" >Ducros</th>\n",
              "      <td id=\"T_7126d_row79_col0\" class=\"data row79 col0\" >35361.34</td>\n",
              "      <td id=\"T_7126d_row79_col1\" class=\"data row79 col1\" >1.11</td>\n",
              "    </tr>\n",
              "    <tr>\n",
              "      <th id=\"T_7126d_level1_row80\" class=\"row_heading level1 row80\" >Everyday</th>\n",
              "      <td id=\"T_7126d_row80_col0\" class=\"data row80 col0\" >10000.00</td>\n",
              "      <td id=\"T_7126d_row80_col1\" class=\"data row80 col1\" >0.31</td>\n",
              "    </tr>\n",
              "    <tr>\n",
              "      <th id=\"T_7126d_level1_row81\" class=\"row_heading level1 row81\" >KADI</th>\n",
              "      <td id=\"T_7126d_row81_col0\" class=\"data row81 col0\" >40803.85</td>\n",
              "      <td id=\"T_7126d_row81_col1\" class=\"data row81 col1\" >1.28</td>\n",
              "    </tr>\n",
              "    <tr>\n",
              "      <th id=\"T_7126d_level1_row82\" class=\"row_heading level1 row82\" >La Blanche</th>\n",
              "      <td id=\"T_7126d_row82_col0\" class=\"data row82 col0\" >1000.00</td>\n",
              "      <td id=\"T_7126d_row82_col1\" class=\"data row82 col1\" >0.03</td>\n",
              "    </tr>\n",
              "    <tr>\n",
              "      <th id=\"T_7126d_level1_row83\" class=\"row_heading level1 row83\" >Other Brand</th>\n",
              "      <td id=\"T_7126d_row83_col0\" class=\"data row83 col0\" >10913.72</td>\n",
              "      <td id=\"T_7126d_row83_col1\" class=\"data row83 col1\" >0.34</td>\n",
              "    </tr>\n",
              "    <tr>\n",
              "      <th id=\"T_7126d_level1_row84\" class=\"row_heading level1 row84\" >PAK</th>\n",
              "      <td id=\"T_7126d_row84_col0\" class=\"data row84 col0\" >61868.18</td>\n",
              "      <td id=\"T_7126d_row84_col1\" class=\"data row84 col1\" >1.95</td>\n",
              "    </tr>\n",
              "    <tr>\n",
              "      <th id=\"T_7126d_level1_row85\" class=\"row_heading level1 row85\" >Reine</th>\n",
              "      <td id=\"T_7126d_row85_col0\" class=\"data row85 col0\" >1764380.50</td>\n",
              "      <td id=\"T_7126d_row85_col1\" class=\"data row85 col1\" >55.55</td>\n",
              "    </tr>\n",
              "    <tr>\n",
              "      <th id=\"T_7126d_level1_row86\" class=\"row_heading level1 row86\" >Sonia</th>\n",
              "      <td id=\"T_7126d_row86_col0\" class=\"data row86 col0\" >420618.84</td>\n",
              "      <td id=\"T_7126d_row86_col1\" class=\"data row86 col1\" >13.24</td>\n",
              "    </tr>\n",
              "    <tr>\n",
              "      <th id=\"T_7126d_level1_row87\" class=\"row_heading level1 row87\" >U Saveurs</th>\n",
              "      <td id=\"T_7126d_row87_col0\" class=\"data row87 col0\" >1688.33</td>\n",
              "      <td id=\"T_7126d_row87_col1\" class=\"data row87 col1\" >0.05</td>\n",
              "    </tr>\n",
              "    <tr>\n",
              "      <th id=\"T_7126d_level1_row88\" class=\"row_heading level1 row88\" >Yobalema</th>\n",
              "      <td id=\"T_7126d_row88_col0\" class=\"data row88 col0\" >10708.81</td>\n",
              "      <td id=\"T_7126d_row88_col1\" class=\"data row88 col1\" >0.34</td>\n",
              "    </tr>\n",
              "    <tr>\n",
              "      <th id=\"T_7126d_level0_row89\" class=\"row_heading level0 row89\" rowspan=\"2\">Other Sauces, Dressings and Condiments</th>\n",
              "      <th id=\"T_7126d_level1_row89\" class=\"row_heading level1 row89\" >ADJA</th>\n",
              "      <td id=\"T_7126d_row89_col0\" class=\"data row89 col0\" >6.63</td>\n",
              "      <td id=\"T_7126d_row89_col1\" class=\"data row89 col1\" >1.31</td>\n",
              "    </tr>\n",
              "    <tr>\n",
              "      <th id=\"T_7126d_level1_row90\" class=\"row_heading level1 row90\" >Amar</th>\n",
              "      <td id=\"T_7126d_row90_col0\" class=\"data row90 col0\" >498.39</td>\n",
              "      <td id=\"T_7126d_row90_col1\" class=\"data row90 col1\" >98.69</td>\n",
              "    </tr>\n",
              "    <tr>\n",
              "      <th id=\"T_7126d_level0_row91\" class=\"row_heading level0 row91\" >Other Table Sauces</th>\n",
              "      <th id=\"T_7126d_level1_row91\" class=\"row_heading level1 row91\" >Sonia</th>\n",
              "      <td id=\"T_7126d_row91_col0\" class=\"data row91 col0\" >8056.76</td>\n",
              "      <td id=\"T_7126d_row91_col1\" class=\"data row91 col1\" >100.00</td>\n",
              "    </tr>\n",
              "    <tr>\n",
              "      <th id=\"T_7126d_level0_row92\" class=\"row_heading level0 row92\" >Oyster Sauces</th>\n",
              "      <th id=\"T_7126d_level1_row92\" class=\"row_heading level1 row92\" >Other Brand</th>\n",
              "      <td id=\"T_7126d_row92_col0\" class=\"data row92 col0\" >5000.00</td>\n",
              "      <td id=\"T_7126d_row92_col1\" class=\"data row92 col1\" >100.00</td>\n",
              "    </tr>\n",
              "    <tr>\n",
              "      <th id=\"T_7126d_level0_row93\" class=\"row_heading level0 row93\" >Salad Dressings</th>\n",
              "      <th id=\"T_7126d_level1_row93\" class=\"row_heading level1 row93\" >ADJA</th>\n",
              "      <td id=\"T_7126d_row93_col0\" class=\"data row93 col0\" >33.15</td>\n",
              "      <td id=\"T_7126d_row93_col1\" class=\"data row93 col1\" >100.00</td>\n",
              "    </tr>\n",
              "    <tr>\n",
              "      <th id=\"T_7126d_level0_row94\" class=\"row_heading level0 row94\" rowspan=\"5\">Soy Sauces</th>\n",
              "      <th id=\"T_7126d_level1_row94\" class=\"row_heading level1 row94\" >Faty</th>\n",
              "      <td id=\"T_7126d_row94_col0\" class=\"data row94 col0\" >9800.00</td>\n",
              "      <td id=\"T_7126d_row94_col1\" class=\"data row94 col1\" >4.27</td>\n",
              "    </tr>\n",
              "    <tr>\n",
              "      <th id=\"T_7126d_level1_row95\" class=\"row_heading level1 row95\" >Linguère</th>\n",
              "      <td id=\"T_7126d_row95_col0\" class=\"data row95 col0\" >3000.00</td>\n",
              "      <td id=\"T_7126d_row95_col1\" class=\"data row95 col1\" >1.31</td>\n",
              "    </tr>\n",
              "    <tr>\n",
              "      <th id=\"T_7126d_level1_row96\" class=\"row_heading level1 row96\" >Resto</th>\n",
              "      <td id=\"T_7126d_row96_col0\" class=\"data row96 col0\" >165273.08</td>\n",
              "      <td id=\"T_7126d_row96_col1\" class=\"data row96 col1\" >72.04</td>\n",
              "    </tr>\n",
              "    <tr>\n",
              "      <th id=\"T_7126d_level1_row97\" class=\"row_heading level1 row97\" >Royal</th>\n",
              "      <td id=\"T_7126d_row97_col0\" class=\"data row97 col0\" >27500.00</td>\n",
              "      <td id=\"T_7126d_row97_col1\" class=\"data row97 col1\" >11.99</td>\n",
              "    </tr>\n",
              "    <tr>\n",
              "      <th id=\"T_7126d_level1_row98\" class=\"row_heading level1 row98\" >Sojasun</th>\n",
              "      <td id=\"T_7126d_row98_col0\" class=\"data row98 col0\" >23850.00</td>\n",
              "      <td id=\"T_7126d_row98_col1\" class=\"data row98 col1\" >10.40</td>\n",
              "    </tr>\n",
              "    <tr>\n",
              "      <th id=\"T_7126d_level0_row99\" class=\"row_heading level0 row99\" rowspan=\"2\">Table Sauces</th>\n",
              "      <th id=\"T_7126d_level1_row99\" class=\"row_heading level1 row99\" >Amora</th>\n",
              "      <td id=\"T_7126d_row99_col0\" class=\"data row99 col0\" >895.52</td>\n",
              "      <td id=\"T_7126d_row99_col1\" class=\"data row99 col1\" >19.28</td>\n",
              "    </tr>\n",
              "    <tr>\n",
              "      <th id=\"T_7126d_level1_row100\" class=\"row_heading level1 row100\" >Linguère</th>\n",
              "      <td id=\"T_7126d_row100_col0\" class=\"data row100 col0\" >3750.00</td>\n",
              "      <td id=\"T_7126d_row100_col1\" class=\"data row100 col1\" >80.72</td>\n",
              "    </tr>\n",
              "    <tr>\n",
              "      <th id=\"T_7126d_level0_row101\" class=\"row_heading level0 row101\" rowspan=\"15\">Tomato Pastes and Purées</th>\n",
              "      <th id=\"T_7126d_level1_row101\" class=\"row_heading level1 row101\" >Belle France</th>\n",
              "      <td id=\"T_7126d_row101_col0\" class=\"data row101 col0\" >824.01</td>\n",
              "      <td id=\"T_7126d_row101_col1\" class=\"data row101 col1\" >0.02</td>\n",
              "    </tr>\n",
              "    <tr>\n",
              "      <th id=\"T_7126d_level1_row102\" class=\"row_heading level1 row102\" >Buno</th>\n",
              "      <td id=\"T_7126d_row102_col0\" class=\"data row102 col0\" >106500.00</td>\n",
              "      <td id=\"T_7126d_row102_col1\" class=\"data row102 col1\" >2.04</td>\n",
              "    </tr>\n",
              "    <tr>\n",
              "      <th id=\"T_7126d_level1_row103\" class=\"row_heading level1 row103\" >Dieg Bou Diar</th>\n",
              "      <td id=\"T_7126d_row103_col0\" class=\"data row103 col0\" >2615893.13</td>\n",
              "      <td id=\"T_7126d_row103_col1\" class=\"data row103 col1\" >50.11</td>\n",
              "    </tr>\n",
              "    <tr>\n",
              "      <th id=\"T_7126d_level1_row104\" class=\"row_heading level1 row104\" >Dupont</th>\n",
              "      <td id=\"T_7126d_row104_col0\" class=\"data row104 col0\" >2100.00</td>\n",
              "      <td id=\"T_7126d_row104_col1\" class=\"data row104 col1\" >0.04</td>\n",
              "    </tr>\n",
              "    <tr>\n",
              "      <th id=\"T_7126d_level1_row105\" class=\"row_heading level1 row105\" >Flora</th>\n",
              "      <td id=\"T_7126d_row105_col0\" class=\"data row105 col0\" >59700.00</td>\n",
              "      <td id=\"T_7126d_row105_col1\" class=\"data row105 col1\" >1.14</td>\n",
              "    </tr>\n",
              "    <tr>\n",
              "      <th id=\"T_7126d_level1_row106\" class=\"row_heading level1 row106\" >Linguère</th>\n",
              "      <td id=\"T_7126d_row106_col0\" class=\"data row106 col0\" >1427466.73</td>\n",
              "      <td id=\"T_7126d_row106_col1\" class=\"data row106 col1\" >27.34</td>\n",
              "    </tr>\n",
              "    <tr>\n",
              "      <th id=\"T_7126d_level1_row107\" class=\"row_heading level1 row107\" >Mutti</th>\n",
              "      <td id=\"T_7126d_row107_col0\" class=\"data row107 col0\" >8880.22</td>\n",
              "      <td id=\"T_7126d_row107_col1\" class=\"data row107 col1\" >0.17</td>\n",
              "    </tr>\n",
              "    <tr>\n",
              "      <th id=\"T_7126d_level1_row108\" class=\"row_heading level1 row108\" >Pod'or</th>\n",
              "      <td id=\"T_7126d_row108_col0\" class=\"data row108 col0\" >652814.87</td>\n",
              "      <td id=\"T_7126d_row108_col1\" class=\"data row108 col1\" >12.50</td>\n",
              "    </tr>\n",
              "    <tr>\n",
              "      <th id=\"T_7126d_level1_row109\" class=\"row_heading level1 row109\" >Pure Joy</th>\n",
              "      <td id=\"T_7126d_row109_col0\" class=\"data row109 col0\" >3600.00</td>\n",
              "      <td id=\"T_7126d_row109_col1\" class=\"data row109 col1\" >0.07</td>\n",
              "    </tr>\n",
              "    <tr>\n",
              "      <th id=\"T_7126d_level1_row110\" class=\"row_heading level1 row110\" >Safa</th>\n",
              "      <td id=\"T_7126d_row110_col0\" class=\"data row110 col0\" >7903.37</td>\n",
              "      <td id=\"T_7126d_row110_col1\" class=\"data row110 col1\" >0.15</td>\n",
              "    </tr>\n",
              "    <tr>\n",
              "      <th id=\"T_7126d_level1_row111\" class=\"row_heading level1 row111\" >Soxna Si</th>\n",
              "      <td id=\"T_7126d_row111_col0\" class=\"data row111 col0\" >85150.00</td>\n",
              "      <td id=\"T_7126d_row111_col1\" class=\"data row111 col1\" >1.63</td>\n",
              "    </tr>\n",
              "    <tr>\n",
              "      <th id=\"T_7126d_level1_row112\" class=\"row_heading level1 row112\" >TAMA</th>\n",
              "      <td id=\"T_7126d_row112_col0\" class=\"data row112 col0\" >48343.34</td>\n",
              "      <td id=\"T_7126d_row112_col1\" class=\"data row112 col1\" >0.93</td>\n",
              "    </tr>\n",
              "    <tr>\n",
              "      <th id=\"T_7126d_level1_row113\" class=\"row_heading level1 row113\" >U Saveurs</th>\n",
              "      <td id=\"T_7126d_row113_col0\" class=\"data row113 col0\" >519.49</td>\n",
              "      <td id=\"T_7126d_row113_col1\" class=\"data row113 col1\" >0.01</td>\n",
              "    </tr>\n",
              "    <tr>\n",
              "      <th id=\"T_7126d_level1_row114\" class=\"row_heading level1 row114\" >Val'or</th>\n",
              "      <td id=\"T_7126d_row114_col0\" class=\"data row114 col0\" >185954.03</td>\n",
              "      <td id=\"T_7126d_row114_col1\" class=\"data row114 col1\" >3.56</td>\n",
              "    </tr>\n",
              "    <tr>\n",
              "      <th id=\"T_7126d_level1_row115\" class=\"row_heading level1 row115\" >Vitale</th>\n",
              "      <td id=\"T_7126d_row115_col0\" class=\"data row115 col0\" >15000.00</td>\n",
              "      <td id=\"T_7126d_row115_col1\" class=\"data row115 col1\" >0.29</td>\n",
              "    </tr>\n",
              "  </tbody>\n",
              "</table>\n"
            ],
            "text/plain": [
              "<pandas.io.formats.style.Styler at 0x7faab195dd50>"
            ]
          },
          "metadata": {},
          "execution_count": 36
        }
      ],
      "source": [
        "#Lets use groupby() method to see the share of each brand in each category.Groupby(level=0)helping us to see the share of the brand on category level\n",
        "brand_share_nonull_full = brand_share_nonull_full.groupby(['SKU_CATEGORY','SKU_BRAND']).agg({'AUDIT_SALES': 'sum'})\n",
        "brand_share_nonull_full[\"Market share %\"] = brand_share_nonull_full.groupby(level=0).apply( lambda x:  round(100*x / x.sum(), 2))\n",
        "brand_share_nonull_full.style.format(\"{:.2f}\")"
      ]
    },
    {
      "cell_type": "code",
      "source": [
        "df_treemap = brand_share_nonull_full.reset_index()\n",
        "fig = px.treemap(df_treemap, path=['SKU_CATEGORY','SKU_BRAND'],values='Market share %')\n",
        "#fig.update_layout(title_text'Market share of each Brand in each Category')\n",
        "fig.show(renderer=\"colab\")"
      ],
      "metadata": {
        "id": "vuLF0Vd6YRRL",
        "colab": {
          "base_uri": "https://localhost:8080/",
          "height": 542
        },
        "outputId": "a99b8d0b-7eb0-4917-8103-1640772c6bd9"
      },
      "execution_count": null,
      "outputs": [
        {
          "output_type": "display_data",
          "data": {
            "text/html": [
              "<html>\n",
              "<head><meta charset=\"utf-8\" /></head>\n",
              "<body>\n",
              "    <div>            <script src=\"https://cdnjs.cloudflare.com/ajax/libs/mathjax/2.7.5/MathJax.js?config=TeX-AMS-MML_SVG\"></script><script type=\"text/javascript\">if (window.MathJax) {MathJax.Hub.Config({SVG: {font: \"STIX-Web\"}});}</script>                <script type=\"text/javascript\">window.PlotlyConfig = {MathJaxConfig: 'local'};</script>\n",
              "        <script src=\"https://cdn.plot.ly/plotly-2.8.3.min.js\"></script>                <div id=\"ccbcfca0-4269-40b0-a750-73e38161fbce\" class=\"plotly-graph-div\" style=\"height:525px; width:100%;\"></div>            <script type=\"text/javascript\">                                    window.PLOTLYENV=window.PLOTLYENV || {};                                    if (document.getElementById(\"ccbcfca0-4269-40b0-a750-73e38161fbce\")) {                    Plotly.newPlot(                        \"ccbcfca0-4269-40b0-a750-73e38161fbce\",                        [{\"branchvalues\":\"total\",\"domain\":{\"x\":[0.0,1.0],\"y\":[0.0,1.0]},\"hovertemplate\":\"labels=%{label}<br>Market share %=%{value}<br>parent=%{parent}<br>id=%{id}<extra></extra>\",\"ids\":[\"Bouillon/ADJA\",\"Mayonnaise/ADJA\",\"Other Sauces, Dressings and Condiments/ADJA\",\"Salad Dressings/ADJA\",\"Ketchup/Alfa\",\"Margarine/Alima\",\"Ketchup/Amana\",\"Mustard/Amar\",\"Other Sauces, Dressings and Condiments/Amar\",\"Bouillon/Ami\",\"Mayonnaise/Ami\",\"Bouillon/Amora\",\"Ketchup/Amora\",\"Mayonnaise/Amora\",\"Mustard/Amora\",\"Table Sauces/Amora\",\"Bouillon/Antou\",\"Ketchup/Armanti\",\"Mayonnaise/Armanti\",\"Mayonnaise/BAMA\",\"Bouillon/Bara Musso\",\"Cooking Ingredients/Bara Musso\",\"Herbs and Spices/Bara Musso\",\"Ketchup/Belle France\",\"Tomato Pastes and Pur\\u00e9es/Belle France\",\"Mayonnaise/Benedicta\",\"Bouillon/Bongou\",\"Bouillon/Bravo\",\"Tomato Pastes and Pur\\u00e9es/Buno\",\"Mayonnaise/Calv\\u00e9\",\"Mustard/Chatel\",\"Mayonnaise/Chef A\\u00efda\",\"Mustard/Chef A\\u00efda\",\"Mayonnaise/Cook Brand\",\"Mustard/Covinor\",\"Chocolate Spreads/Delia\",\"Mayonnaise/Diamo\",\"Ketchup/Dieg Bou Diar\",\"Tomato Pastes and Pur\\u00e9es/Dieg Bou Diar\",\"Mustard/Dijona\",\"Bouillon/Doli\",\"Mayonnaise/Doli\",\"Ketchup/Ducros\",\"Mayonnaise/Ducros\",\"Mustard/Ducros\",\"Tomato Pastes and Pur\\u00e9es/Dupont\",\"Ketchup/Everyday\",\"Mayonnaise/Everyday\",\"Mustard/Everyday\",\"Soy Sauces/Faty\",\"Tomato Pastes and Pur\\u00e9es/Flora\",\"Mayonnaise/Gova\",\"Mayonnaise/Habibi\",\"Ketchup/Heinz\",\"Bouillon/JONGU\\u00c9\",\"Margarine/Jadida\",\"Mayonnaise/Jadida\",\"Bouillon/Joker\",\"Bouillon/Jumbo\",\"Bouillon/KADI\",\"Butter/KADI\",\"Margarine/KADI\",\"Mayonnaise/KADI\",\"Mustard/KADI\",\"Bouillon/Knorr\",\"Mustard/La Blanche\",\"Ketchup/La Fraiche\",\"Mayonnaise/Leiseur\",\"Ketchup/Lingu\\u00e8re\",\"Soy Sauces/Lingu\\u00e8re\",\"Table Sauces/Lingu\\u00e8re\",\"Tomato Pastes and Pur\\u00e9es/Lingu\\u00e8re\",\"Bouillon/Maggi\",\"Mayonnaise/Maiola\",\"Bouillon/Mami\",\"Mayonnaise/Mayn\\u00e8s\",\"Mayonnaise/Menu & Co\",\"Bouillon/Miam\",\"Ketchup/Mutti\",\"Tomato Pastes and Pur\\u00e9es/Mutti\",\"Canned/Preserved Vegetables/Other Brand\",\"Herbs and Spices/Other Brand\",\"Mustard/Other Brand\",\"Oyster Sauces/Other Brand\",\"Mustard/PAK\",\"Mayonnaise/Padi\",\"Canned/Preserved Tomatoes/Panzani\",\"Mayonnaise/Petit Matin\",\"Tomato Pastes and Pur\\u00e9es/Pod'or\",\"Tomato Pastes and Pur\\u00e9es/Pure Joy\",\"Mustard/Reine\",\"Bouillon/Resto\",\"Soy Sauces/Resto\",\"Mayonnaise/Rosa\",\"Soy Sauces/Royal\",\"Ketchup/Safa\",\"Tomato Pastes and Pur\\u00e9es/Safa\",\"Mayonnaise/Sofia\",\"Soy Sauces/Sojasun\",\"Mustard/Sonia\",\"Other Table Sauces/Sonia\",\"Tomato Pastes and Pur\\u00e9es/Soxna Si\",\"Bouillon/TAK\",\"Ketchup/TAMA\",\"Tomato Pastes and Pur\\u00e9es/TAMA\",\"Mayonnaise/The King\",\"Mayonnaise/Topper\",\"Ketchup/U Saveurs\",\"Mayonnaise/U Saveurs\",\"Mustard/U Saveurs\",\"Tomato Pastes and Pur\\u00e9es/U Saveurs\",\"Tomato Pastes and Pur\\u00e9es/Val'or\",\"Tomato Pastes and Pur\\u00e9es/Vitale\",\"Bouillon/W\\u00e9li JUNGO\",\"Mustard/Yobalema\",\"Mayonnaise/maYoyo\",\"Bouillon\",\"Butter\",\"Canned/Preserved Tomatoes\",\"Canned/Preserved Vegetables\",\"Chocolate Spreads\",\"Cooking Ingredients\",\"Herbs and Spices\",\"Ketchup\",\"Margarine\",\"Mayonnaise\",\"Mustard\",\"Other Sauces, Dressings and Condiments\",\"Other Table Sauces\",\"Oyster Sauces\",\"Salad Dressings\",\"Soy Sauces\",\"Table Sauces\",\"Tomato Pastes and Pur\\u00e9es\"],\"labels\":[\"ADJA\",\"ADJA\",\"ADJA\",\"ADJA\",\"Alfa\",\"Alima\",\"Amana\",\"Amar\",\"Amar\",\"Ami\",\"Ami\",\"Amora\",\"Amora\",\"Amora\",\"Amora\",\"Amora\",\"Antou\",\"Armanti\",\"Armanti\",\"BAMA\",\"Bara Musso\",\"Bara Musso\",\"Bara Musso\",\"Belle France\",\"Belle France\",\"Benedicta\",\"Bongou\",\"Bravo\",\"Buno\",\"Calv\\u00e9\",\"Chatel\",\"Chef A\\u00efda\",\"Chef A\\u00efda\",\"Cook Brand\",\"Covinor\",\"Delia\",\"Diamo\",\"Dieg Bou Diar\",\"Dieg Bou Diar\",\"Dijona\",\"Doli\",\"Doli\",\"Ducros\",\"Ducros\",\"Ducros\",\"Dupont\",\"Everyday\",\"Everyday\",\"Everyday\",\"Faty\",\"Flora\",\"Gova\",\"Habibi\",\"Heinz\",\"JONGU\\u00c9\",\"Jadida\",\"Jadida\",\"Joker\",\"Jumbo\",\"KADI\",\"KADI\",\"KADI\",\"KADI\",\"KADI\",\"Knorr\",\"La Blanche\",\"La Fraiche\",\"Leiseur\",\"Lingu\\u00e8re\",\"Lingu\\u00e8re\",\"Lingu\\u00e8re\",\"Lingu\\u00e8re\",\"Maggi\",\"Maiola\",\"Mami\",\"Mayn\\u00e8s\",\"Menu & Co\",\"Miam\",\"Mutti\",\"Mutti\",\"Other Brand\",\"Other Brand\",\"Other Brand\",\"Other Brand\",\"PAK\",\"Padi\",\"Panzani\",\"Petit Matin\",\"Pod'or\",\"Pure Joy\",\"Reine\",\"Resto\",\"Resto\",\"Rosa\",\"Royal\",\"Safa\",\"Safa\",\"Sofia\",\"Sojasun\",\"Sonia\",\"Sonia\",\"Soxna Si\",\"TAK\",\"TAMA\",\"TAMA\",\"The King\",\"Topper\",\"U Saveurs\",\"U Saveurs\",\"U Saveurs\",\"U Saveurs\",\"Val'or\",\"Vitale\",\"W\\u00e9li JUNGO\",\"Yobalema\",\"maYoyo\",\"Bouillon\",\"Butter\",\"Canned/Preserved Tomatoes\",\"Canned/Preserved Vegetables\",\"Chocolate Spreads\",\"Cooking Ingredients\",\"Herbs and Spices\",\"Ketchup\",\"Margarine\",\"Mayonnaise\",\"Mustard\",\"Other Sauces, Dressings and Condiments\",\"Other Table Sauces\",\"Oyster Sauces\",\"Salad Dressings\",\"Soy Sauces\",\"Table Sauces\",\"Tomato Pastes and Pur\\u00e9es\"],\"name\":\"\",\"parents\":[\"Bouillon\",\"Mayonnaise\",\"Other Sauces, Dressings and Condiments\",\"Salad Dressings\",\"Ketchup\",\"Margarine\",\"Ketchup\",\"Mustard\",\"Other Sauces, Dressings and Condiments\",\"Bouillon\",\"Mayonnaise\",\"Bouillon\",\"Ketchup\",\"Mayonnaise\",\"Mustard\",\"Table Sauces\",\"Bouillon\",\"Ketchup\",\"Mayonnaise\",\"Mayonnaise\",\"Bouillon\",\"Cooking Ingredients\",\"Herbs and Spices\",\"Ketchup\",\"Tomato Pastes and Pur\\u00e9es\",\"Mayonnaise\",\"Bouillon\",\"Bouillon\",\"Tomato Pastes and Pur\\u00e9es\",\"Mayonnaise\",\"Mustard\",\"Mayonnaise\",\"Mustard\",\"Mayonnaise\",\"Mustard\",\"Chocolate Spreads\",\"Mayonnaise\",\"Ketchup\",\"Tomato Pastes and Pur\\u00e9es\",\"Mustard\",\"Bouillon\",\"Mayonnaise\",\"Ketchup\",\"Mayonnaise\",\"Mustard\",\"Tomato Pastes and Pur\\u00e9es\",\"Ketchup\",\"Mayonnaise\",\"Mustard\",\"Soy Sauces\",\"Tomato Pastes and Pur\\u00e9es\",\"Mayonnaise\",\"Mayonnaise\",\"Ketchup\",\"Bouillon\",\"Margarine\",\"Mayonnaise\",\"Bouillon\",\"Bouillon\",\"Bouillon\",\"Butter\",\"Margarine\",\"Mayonnaise\",\"Mustard\",\"Bouillon\",\"Mustard\",\"Ketchup\",\"Mayonnaise\",\"Ketchup\",\"Soy Sauces\",\"Table Sauces\",\"Tomato Pastes and Pur\\u00e9es\",\"Bouillon\",\"Mayonnaise\",\"Bouillon\",\"Mayonnaise\",\"Mayonnaise\",\"Bouillon\",\"Ketchup\",\"Tomato Pastes and Pur\\u00e9es\",\"Canned/Preserved Vegetables\",\"Herbs and Spices\",\"Mustard\",\"Oyster Sauces\",\"Mustard\",\"Mayonnaise\",\"Canned/Preserved Tomatoes\",\"Mayonnaise\",\"Tomato Pastes and Pur\\u00e9es\",\"Tomato Pastes and Pur\\u00e9es\",\"Mustard\",\"Bouillon\",\"Soy Sauces\",\"Mayonnaise\",\"Soy Sauces\",\"Ketchup\",\"Tomato Pastes and Pur\\u00e9es\",\"Mayonnaise\",\"Soy Sauces\",\"Mustard\",\"Other Table Sauces\",\"Tomato Pastes and Pur\\u00e9es\",\"Bouillon\",\"Ketchup\",\"Tomato Pastes and Pur\\u00e9es\",\"Mayonnaise\",\"Mayonnaise\",\"Ketchup\",\"Mayonnaise\",\"Mustard\",\"Tomato Pastes and Pur\\u00e9es\",\"Tomato Pastes and Pur\\u00e9es\",\"Tomato Pastes and Pur\\u00e9es\",\"Bouillon\",\"Mustard\",\"Mayonnaise\",\"\",\"\",\"\",\"\",\"\",\"\",\"\",\"\",\"\",\"\",\"\",\"\",\"\",\"\",\"\",\"\",\"\",\"\"],\"values\":[18.12,0.49,1.31,100.0,46.78,51.85,1.8,12.42,98.69,4.81,1.51,1.1,4.42,2.51,1.63,19.28,0.18,0.37,5.11,14.41,0.02,100.0,94.05,2.16,0.02,0.1,2.03,0.01,2.04,4.36,0.26,9.61,7.56,0.03,3.17,100.0,1.44,3.07,50.11,0.75,8.07,0.0,1.54,0.34,1.11,0.04,0.24,0.41,0.31,4.27,1.14,0.18,0.14,1.44,0.59,7.41,28.24,13.46,14.95,2.03,100.0,40.74,0.81,1.28,0.11,0.03,0.29,1.72,27.93,1.31,80.72,27.34,33.73,0.55,0.32,21.24,0.03,0.01,3.59,0.17,100.0,5.95,0.34,100.0,1.95,0.11,100.0,0.19,12.5,0.07,55.55,0.01,72.04,0.07,11.99,4.6,0.15,0.66,10.4,13.24,100.0,1.63,0.06,1.74,0.93,0.43,4.28,0.04,0.23,0.05,0.01,3.56,0.29,0.39,0.34,0.77,100.0,100.0,100.0,100.0,100.0,100.0,100.0,100.01,100.0,99.97,99.99,100.0,100.0,100.0,100.0,100.01,100.0,100.0],\"type\":\"treemap\"}],                        {\"template\":{\"data\":{\"bar\":[{\"error_x\":{\"color\":\"#2a3f5f\"},\"error_y\":{\"color\":\"#2a3f5f\"},\"marker\":{\"line\":{\"color\":\"#E5ECF6\",\"width\":0.5},\"pattern\":{\"fillmode\":\"overlay\",\"size\":10,\"solidity\":0.2}},\"type\":\"bar\"}],\"barpolar\":[{\"marker\":{\"line\":{\"color\":\"#E5ECF6\",\"width\":0.5},\"pattern\":{\"fillmode\":\"overlay\",\"size\":10,\"solidity\":0.2}},\"type\":\"barpolar\"}],\"carpet\":[{\"aaxis\":{\"endlinecolor\":\"#2a3f5f\",\"gridcolor\":\"white\",\"linecolor\":\"white\",\"minorgridcolor\":\"white\",\"startlinecolor\":\"#2a3f5f\"},\"baxis\":{\"endlinecolor\":\"#2a3f5f\",\"gridcolor\":\"white\",\"linecolor\":\"white\",\"minorgridcolor\":\"white\",\"startlinecolor\":\"#2a3f5f\"},\"type\":\"carpet\"}],\"choropleth\":[{\"colorbar\":{\"outlinewidth\":0,\"ticks\":\"\"},\"type\":\"choropleth\"}],\"contour\":[{\"colorbar\":{\"outlinewidth\":0,\"ticks\":\"\"},\"colorscale\":[[0.0,\"#0d0887\"],[0.1111111111111111,\"#46039f\"],[0.2222222222222222,\"#7201a8\"],[0.3333333333333333,\"#9c179e\"],[0.4444444444444444,\"#bd3786\"],[0.5555555555555556,\"#d8576b\"],[0.6666666666666666,\"#ed7953\"],[0.7777777777777778,\"#fb9f3a\"],[0.8888888888888888,\"#fdca26\"],[1.0,\"#f0f921\"]],\"type\":\"contour\"}],\"contourcarpet\":[{\"colorbar\":{\"outlinewidth\":0,\"ticks\":\"\"},\"type\":\"contourcarpet\"}],\"heatmap\":[{\"colorbar\":{\"outlinewidth\":0,\"ticks\":\"\"},\"colorscale\":[[0.0,\"#0d0887\"],[0.1111111111111111,\"#46039f\"],[0.2222222222222222,\"#7201a8\"],[0.3333333333333333,\"#9c179e\"],[0.4444444444444444,\"#bd3786\"],[0.5555555555555556,\"#d8576b\"],[0.6666666666666666,\"#ed7953\"],[0.7777777777777778,\"#fb9f3a\"],[0.8888888888888888,\"#fdca26\"],[1.0,\"#f0f921\"]],\"type\":\"heatmap\"}],\"heatmapgl\":[{\"colorbar\":{\"outlinewidth\":0,\"ticks\":\"\"},\"colorscale\":[[0.0,\"#0d0887\"],[0.1111111111111111,\"#46039f\"],[0.2222222222222222,\"#7201a8\"],[0.3333333333333333,\"#9c179e\"],[0.4444444444444444,\"#bd3786\"],[0.5555555555555556,\"#d8576b\"],[0.6666666666666666,\"#ed7953\"],[0.7777777777777778,\"#fb9f3a\"],[0.8888888888888888,\"#fdca26\"],[1.0,\"#f0f921\"]],\"type\":\"heatmapgl\"}],\"histogram\":[{\"marker\":{\"pattern\":{\"fillmode\":\"overlay\",\"size\":10,\"solidity\":0.2}},\"type\":\"histogram\"}],\"histogram2d\":[{\"colorbar\":{\"outlinewidth\":0,\"ticks\":\"\"},\"colorscale\":[[0.0,\"#0d0887\"],[0.1111111111111111,\"#46039f\"],[0.2222222222222222,\"#7201a8\"],[0.3333333333333333,\"#9c179e\"],[0.4444444444444444,\"#bd3786\"],[0.5555555555555556,\"#d8576b\"],[0.6666666666666666,\"#ed7953\"],[0.7777777777777778,\"#fb9f3a\"],[0.8888888888888888,\"#fdca26\"],[1.0,\"#f0f921\"]],\"type\":\"histogram2d\"}],\"histogram2dcontour\":[{\"colorbar\":{\"outlinewidth\":0,\"ticks\":\"\"},\"colorscale\":[[0.0,\"#0d0887\"],[0.1111111111111111,\"#46039f\"],[0.2222222222222222,\"#7201a8\"],[0.3333333333333333,\"#9c179e\"],[0.4444444444444444,\"#bd3786\"],[0.5555555555555556,\"#d8576b\"],[0.6666666666666666,\"#ed7953\"],[0.7777777777777778,\"#fb9f3a\"],[0.8888888888888888,\"#fdca26\"],[1.0,\"#f0f921\"]],\"type\":\"histogram2dcontour\"}],\"mesh3d\":[{\"colorbar\":{\"outlinewidth\":0,\"ticks\":\"\"},\"type\":\"mesh3d\"}],\"parcoords\":[{\"line\":{\"colorbar\":{\"outlinewidth\":0,\"ticks\":\"\"}},\"type\":\"parcoords\"}],\"pie\":[{\"automargin\":true,\"type\":\"pie\"}],\"scatter\":[{\"marker\":{\"colorbar\":{\"outlinewidth\":0,\"ticks\":\"\"}},\"type\":\"scatter\"}],\"scatter3d\":[{\"line\":{\"colorbar\":{\"outlinewidth\":0,\"ticks\":\"\"}},\"marker\":{\"colorbar\":{\"outlinewidth\":0,\"ticks\":\"\"}},\"type\":\"scatter3d\"}],\"scattercarpet\":[{\"marker\":{\"colorbar\":{\"outlinewidth\":0,\"ticks\":\"\"}},\"type\":\"scattercarpet\"}],\"scattergeo\":[{\"marker\":{\"colorbar\":{\"outlinewidth\":0,\"ticks\":\"\"}},\"type\":\"scattergeo\"}],\"scattergl\":[{\"marker\":{\"colorbar\":{\"outlinewidth\":0,\"ticks\":\"\"}},\"type\":\"scattergl\"}],\"scattermapbox\":[{\"marker\":{\"colorbar\":{\"outlinewidth\":0,\"ticks\":\"\"}},\"type\":\"scattermapbox\"}],\"scatterpolar\":[{\"marker\":{\"colorbar\":{\"outlinewidth\":0,\"ticks\":\"\"}},\"type\":\"scatterpolar\"}],\"scatterpolargl\":[{\"marker\":{\"colorbar\":{\"outlinewidth\":0,\"ticks\":\"\"}},\"type\":\"scatterpolargl\"}],\"scatterternary\":[{\"marker\":{\"colorbar\":{\"outlinewidth\":0,\"ticks\":\"\"}},\"type\":\"scatterternary\"}],\"surface\":[{\"colorbar\":{\"outlinewidth\":0,\"ticks\":\"\"},\"colorscale\":[[0.0,\"#0d0887\"],[0.1111111111111111,\"#46039f\"],[0.2222222222222222,\"#7201a8\"],[0.3333333333333333,\"#9c179e\"],[0.4444444444444444,\"#bd3786\"],[0.5555555555555556,\"#d8576b\"],[0.6666666666666666,\"#ed7953\"],[0.7777777777777778,\"#fb9f3a\"],[0.8888888888888888,\"#fdca26\"],[1.0,\"#f0f921\"]],\"type\":\"surface\"}],\"table\":[{\"cells\":{\"fill\":{\"color\":\"#EBF0F8\"},\"line\":{\"color\":\"white\"}},\"header\":{\"fill\":{\"color\":\"#C8D4E3\"},\"line\":{\"color\":\"white\"}},\"type\":\"table\"}]},\"layout\":{\"annotationdefaults\":{\"arrowcolor\":\"#2a3f5f\",\"arrowhead\":0,\"arrowwidth\":1},\"autotypenumbers\":\"strict\",\"coloraxis\":{\"colorbar\":{\"outlinewidth\":0,\"ticks\":\"\"}},\"colorscale\":{\"diverging\":[[0,\"#8e0152\"],[0.1,\"#c51b7d\"],[0.2,\"#de77ae\"],[0.3,\"#f1b6da\"],[0.4,\"#fde0ef\"],[0.5,\"#f7f7f7\"],[0.6,\"#e6f5d0\"],[0.7,\"#b8e186\"],[0.8,\"#7fbc41\"],[0.9,\"#4d9221\"],[1,\"#276419\"]],\"sequential\":[[0.0,\"#0d0887\"],[0.1111111111111111,\"#46039f\"],[0.2222222222222222,\"#7201a8\"],[0.3333333333333333,\"#9c179e\"],[0.4444444444444444,\"#bd3786\"],[0.5555555555555556,\"#d8576b\"],[0.6666666666666666,\"#ed7953\"],[0.7777777777777778,\"#fb9f3a\"],[0.8888888888888888,\"#fdca26\"],[1.0,\"#f0f921\"]],\"sequentialminus\":[[0.0,\"#0d0887\"],[0.1111111111111111,\"#46039f\"],[0.2222222222222222,\"#7201a8\"],[0.3333333333333333,\"#9c179e\"],[0.4444444444444444,\"#bd3786\"],[0.5555555555555556,\"#d8576b\"],[0.6666666666666666,\"#ed7953\"],[0.7777777777777778,\"#fb9f3a\"],[0.8888888888888888,\"#fdca26\"],[1.0,\"#f0f921\"]]},\"colorway\":[\"#636efa\",\"#EF553B\",\"#00cc96\",\"#ab63fa\",\"#FFA15A\",\"#19d3f3\",\"#FF6692\",\"#B6E880\",\"#FF97FF\",\"#FECB52\"],\"font\":{\"color\":\"#2a3f5f\"},\"geo\":{\"bgcolor\":\"white\",\"lakecolor\":\"white\",\"landcolor\":\"#E5ECF6\",\"showlakes\":true,\"showland\":true,\"subunitcolor\":\"white\"},\"hoverlabel\":{\"align\":\"left\"},\"hovermode\":\"closest\",\"mapbox\":{\"style\":\"light\"},\"paper_bgcolor\":\"white\",\"plot_bgcolor\":\"#E5ECF6\",\"polar\":{\"angularaxis\":{\"gridcolor\":\"white\",\"linecolor\":\"white\",\"ticks\":\"\"},\"bgcolor\":\"#E5ECF6\",\"radialaxis\":{\"gridcolor\":\"white\",\"linecolor\":\"white\",\"ticks\":\"\"}},\"scene\":{\"xaxis\":{\"backgroundcolor\":\"#E5ECF6\",\"gridcolor\":\"white\",\"gridwidth\":2,\"linecolor\":\"white\",\"showbackground\":true,\"ticks\":\"\",\"zerolinecolor\":\"white\"},\"yaxis\":{\"backgroundcolor\":\"#E5ECF6\",\"gridcolor\":\"white\",\"gridwidth\":2,\"linecolor\":\"white\",\"showbackground\":true,\"ticks\":\"\",\"zerolinecolor\":\"white\"},\"zaxis\":{\"backgroundcolor\":\"#E5ECF6\",\"gridcolor\":\"white\",\"gridwidth\":2,\"linecolor\":\"white\",\"showbackground\":true,\"ticks\":\"\",\"zerolinecolor\":\"white\"}},\"shapedefaults\":{\"line\":{\"color\":\"#2a3f5f\"}},\"ternary\":{\"aaxis\":{\"gridcolor\":\"white\",\"linecolor\":\"white\",\"ticks\":\"\"},\"baxis\":{\"gridcolor\":\"white\",\"linecolor\":\"white\",\"ticks\":\"\"},\"bgcolor\":\"#E5ECF6\",\"caxis\":{\"gridcolor\":\"white\",\"linecolor\":\"white\",\"ticks\":\"\"}},\"title\":{\"x\":0.05},\"xaxis\":{\"automargin\":true,\"gridcolor\":\"white\",\"linecolor\":\"white\",\"ticks\":\"\",\"title\":{\"standoff\":15},\"zerolinecolor\":\"white\",\"zerolinewidth\":2},\"yaxis\":{\"automargin\":true,\"gridcolor\":\"white\",\"linecolor\":\"white\",\"ticks\":\"\",\"title\":{\"standoff\":15},\"zerolinecolor\":\"white\",\"zerolinewidth\":2}}},\"legend\":{\"tracegroupgap\":0},\"margin\":{\"t\":60}},                        {\"responsive\": true}                    ).then(function(){\n",
              "                            \n",
              "var gd = document.getElementById('ccbcfca0-4269-40b0-a750-73e38161fbce');\n",
              "var x = new MutationObserver(function (mutations, observer) {{\n",
              "        var display = window.getComputedStyle(gd).display;\n",
              "        if (!display || display === 'none') {{\n",
              "            console.log([gd, 'removed!']);\n",
              "            Plotly.purge(gd);\n",
              "            observer.disconnect();\n",
              "        }}\n",
              "}});\n",
              "\n",
              "// Listen for the removal of the full notebook cells\n",
              "var notebookContainer = gd.closest('#notebook-container');\n",
              "if (notebookContainer) {{\n",
              "    x.observe(notebookContainer, {childList: true});\n",
              "}}\n",
              "\n",
              "// Listen for the clearing of the current output cell\n",
              "var outputEl = gd.closest('.output');\n",
              "if (outputEl) {{\n",
              "    x.observe(outputEl, {childList: true});\n",
              "}}\n",
              "\n",
              "                        })                };                            </script>        </div>\n",
              "</body>\n",
              "</html>"
            ]
          },
          "metadata": {}
        }
      ]
    },
    {
      "cell_type": "markdown",
      "metadata": {
        "id": "r7_v75N2XdfF"
      },
      "source": [
        "# 4.How many stores were visited in Saint-Louis (Location 1)?"
      ]
    },
    {
      "cell_type": "code",
      "source": [
        "# Are there any missing locations in the data? \n",
        "df['OUTLET_LOCATION_1'].isnull().sum()"
      ],
      "metadata": {
        "colab": {
          "base_uri": "https://localhost:8080/"
        },
        "id": "pGeh2781xCxo",
        "outputId": "594b8c46-c182-4e1c-faf5-c5a1e153707a"
      },
      "execution_count": null,
      "outputs": [
        {
          "output_type": "execute_result",
          "data": {
            "text/plain": [
              "0"
            ]
          },
          "metadata": {},
          "execution_count": 38
        }
      ]
    },
    {
      "cell_type": "code",
      "source": [
        "#Subset just for Saint-Louis location\n",
        "df_visited_stores =df[(df['OUTLET_LOCATION_1'] == 'Saint-Louis')]"
      ],
      "metadata": {
        "id": "mp0eFhCkqYQE"
      },
      "execution_count": null,
      "outputs": []
    },
    {
      "cell_type": "code",
      "execution_count": null,
      "metadata": {
        "id": "GFaVKUHmXdfG",
        "colab": {
          "base_uri": "https://localhost:8080/"
        },
        "outputId": "14ea8576-ffbf-40d4-c6c9-7563b7cf5820"
      },
      "outputs": [
        {
          "output_type": "stream",
          "name": "stdout",
          "text": [
            "There are 0 missing values in outlet_id in Saint-Louis\n"
          ]
        }
      ],
      "source": [
        "#Before our analysis lets have a look if our subset has missing values\n",
        "df_visited_stores_null= df_visited_stores['OUTLET_ID'].isnull().sum()\n",
        "print(\"There are {} missing values in outlet_id in Saint-Louis\".format(df_visited_stores_null))"
      ]
    },
    {
      "cell_type": "code",
      "source": [
        "#Lets creat condition == Saint-Louis and count unique values in Outlet_Id\n",
        "df_visited_saint= df_visited_stores['OUTLET_ID'].unique().shape[0]\n",
        "print(\"There are {} visited stores in Saint-Louis\".format(df_visited_saint))"
      ],
      "metadata": {
        "id": "mDNj_B_6vADN",
        "colab": {
          "base_uri": "https://localhost:8080/"
        },
        "outputId": "86f21ade-857f-49f6-8d7a-3256cf3f3ee7"
      },
      "execution_count": null,
      "outputs": [
        {
          "output_type": "stream",
          "name": "stdout",
          "text": [
            "There are 157 visited stores in Saint-Louis\n"
          ]
        }
      ]
    },
    {
      "cell_type": "code",
      "source": [
        "df_saint = df_visited_stores.groupby(['OUTLET_LOCATION_1']).agg(Number_of_Times=('OUTLET_ID','nunique'))\n",
        "df_saint"
      ],
      "metadata": {
        "id": "vTIvqryvWIKV",
        "colab": {
          "base_uri": "https://localhost:8080/",
          "height": 111
        },
        "outputId": "3fb1b10e-ddc6-4ccd-8981-c838d4bc19c1"
      },
      "execution_count": null,
      "outputs": [
        {
          "output_type": "execute_result",
          "data": {
            "text/html": [
              "\n",
              "  <div id=\"df-a634ae82-6bf5-402e-b3fc-b9ed697517e1\">\n",
              "    <div class=\"colab-df-container\">\n",
              "      <div>\n",
              "<style scoped>\n",
              "    .dataframe tbody tr th:only-of-type {\n",
              "        vertical-align: middle;\n",
              "    }\n",
              "\n",
              "    .dataframe tbody tr th {\n",
              "        vertical-align: top;\n",
              "    }\n",
              "\n",
              "    .dataframe thead th {\n",
              "        text-align: right;\n",
              "    }\n",
              "</style>\n",
              "<table border=\"1\" class=\"dataframe\">\n",
              "  <thead>\n",
              "    <tr style=\"text-align: right;\">\n",
              "      <th></th>\n",
              "      <th>Number_of_Times</th>\n",
              "    </tr>\n",
              "    <tr>\n",
              "      <th>OUTLET_LOCATION_1</th>\n",
              "      <th></th>\n",
              "    </tr>\n",
              "  </thead>\n",
              "  <tbody>\n",
              "    <tr>\n",
              "      <th>Saint-Louis</th>\n",
              "      <td>157</td>\n",
              "    </tr>\n",
              "  </tbody>\n",
              "</table>\n",
              "</div>\n",
              "      <button class=\"colab-df-convert\" onclick=\"convertToInteractive('df-a634ae82-6bf5-402e-b3fc-b9ed697517e1')\"\n",
              "              title=\"Convert this dataframe to an interactive table.\"\n",
              "              style=\"display:none;\">\n",
              "        \n",
              "  <svg xmlns=\"http://www.w3.org/2000/svg\" height=\"24px\"viewBox=\"0 0 24 24\"\n",
              "       width=\"24px\">\n",
              "    <path d=\"M0 0h24v24H0V0z\" fill=\"none\"/>\n",
              "    <path d=\"M18.56 5.44l.94 2.06.94-2.06 2.06-.94-2.06-.94-.94-2.06-.94 2.06-2.06.94zm-11 1L8.5 8.5l.94-2.06 2.06-.94-2.06-.94L8.5 2.5l-.94 2.06-2.06.94zm10 10l.94 2.06.94-2.06 2.06-.94-2.06-.94-.94-2.06-.94 2.06-2.06.94z\"/><path d=\"M17.41 7.96l-1.37-1.37c-.4-.4-.92-.59-1.43-.59-.52 0-1.04.2-1.43.59L10.3 9.45l-7.72 7.72c-.78.78-.78 2.05 0 2.83L4 21.41c.39.39.9.59 1.41.59.51 0 1.02-.2 1.41-.59l7.78-7.78 2.81-2.81c.8-.78.8-2.07 0-2.86zM5.41 20L4 18.59l7.72-7.72 1.47 1.35L5.41 20z\"/>\n",
              "  </svg>\n",
              "      </button>\n",
              "      \n",
              "  <style>\n",
              "    .colab-df-container {\n",
              "      display:flex;\n",
              "      flex-wrap:wrap;\n",
              "      gap: 12px;\n",
              "    }\n",
              "\n",
              "    .colab-df-convert {\n",
              "      background-color: #E8F0FE;\n",
              "      border: none;\n",
              "      border-radius: 50%;\n",
              "      cursor: pointer;\n",
              "      display: none;\n",
              "      fill: #1967D2;\n",
              "      height: 32px;\n",
              "      padding: 0 0 0 0;\n",
              "      width: 32px;\n",
              "    }\n",
              "\n",
              "    .colab-df-convert:hover {\n",
              "      background-color: #E2EBFA;\n",
              "      box-shadow: 0px 1px 2px rgba(60, 64, 67, 0.3), 0px 1px 3px 1px rgba(60, 64, 67, 0.15);\n",
              "      fill: #174EA6;\n",
              "    }\n",
              "\n",
              "    [theme=dark] .colab-df-convert {\n",
              "      background-color: #3B4455;\n",
              "      fill: #D2E3FC;\n",
              "    }\n",
              "\n",
              "    [theme=dark] .colab-df-convert:hover {\n",
              "      background-color: #434B5C;\n",
              "      box-shadow: 0px 1px 3px 1px rgba(0, 0, 0, 0.15);\n",
              "      filter: drop-shadow(0px 1px 2px rgba(0, 0, 0, 0.3));\n",
              "      fill: #FFFFFF;\n",
              "    }\n",
              "  </style>\n",
              "\n",
              "      <script>\n",
              "        const buttonEl =\n",
              "          document.querySelector('#df-a634ae82-6bf5-402e-b3fc-b9ed697517e1 button.colab-df-convert');\n",
              "        buttonEl.style.display =\n",
              "          google.colab.kernel.accessAllowed ? 'block' : 'none';\n",
              "\n",
              "        async function convertToInteractive(key) {\n",
              "          const element = document.querySelector('#df-a634ae82-6bf5-402e-b3fc-b9ed697517e1');\n",
              "          const dataTable =\n",
              "            await google.colab.kernel.invokeFunction('convertToInteractive',\n",
              "                                                     [key], {});\n",
              "          if (!dataTable) return;\n",
              "\n",
              "          const docLinkHtml = 'Like what you see? Visit the ' +\n",
              "            '<a target=\"_blank\" href=https://colab.research.google.com/notebooks/data_table.ipynb>data table notebook</a>'\n",
              "            + ' to learn more about interactive tables.';\n",
              "          element.innerHTML = '';\n",
              "          dataTable['output_type'] = 'display_data';\n",
              "          await google.colab.output.renderOutput(dataTable, element);\n",
              "          const docLink = document.createElement('div');\n",
              "          docLink.innerHTML = docLinkHtml;\n",
              "          element.appendChild(docLink);\n",
              "        }\n",
              "      </script>\n",
              "    </div>\n",
              "  </div>\n",
              "  "
            ],
            "text/plain": [
              "                   Number_of_Times\n",
              "OUTLET_LOCATION_1                 \n",
              "Saint-Louis                    157"
            ]
          },
          "metadata": {},
          "execution_count": 42
        }
      ]
    },
    {
      "cell_type": "markdown",
      "metadata": {
        "id": "Hi0kYlzuXdfI"
      },
      "source": [
        "# 5.What is the share of Stock of each SKU format for the Mustard category?"
      ]
    },
    {
      "cell_type": "code",
      "source": [
        "# Are there any missing categories? \n",
        "df['SKU_CATEGORY'].isnull().sum()"
      ],
      "metadata": {
        "colab": {
          "base_uri": "https://localhost:8080/"
        },
        "id": "ZBR9-jMey1u1",
        "outputId": "07a3f5fc-9b2c-4aec-efde-d1c51656cef3"
      },
      "execution_count": null,
      "outputs": [
        {
          "output_type": "execute_result",
          "data": {
            "text/plain": [
              "0"
            ]
          },
          "metadata": {},
          "execution_count": 43
        }
      ]
    },
    {
      "cell_type": "code",
      "source": [
        "# Create subset for mustard\n",
        "df_mustard=df[df['SKU_CATEGORY']==\"Mustard\"].copy()\n",
        "df_mustard.head(5)"
      ],
      "metadata": {
        "id": "8_F8Nf0JzE2n",
        "colab": {
          "base_uri": "https://localhost:8080/",
          "height": 285
        },
        "outputId": "734d89d1-9dac-47fa-d9ee-75a05ca2e2bc"
      },
      "execution_count": null,
      "outputs": [
        {
          "output_type": "execute_result",
          "data": {
            "text/html": [
              "\n",
              "  <div id=\"df-4d6d6fb4-345e-4832-9197-e6daf9068ee3\">\n",
              "    <div class=\"colab-df-container\">\n",
              "      <div>\n",
              "<style scoped>\n",
              "    .dataframe tbody tr th:only-of-type {\n",
              "        vertical-align: middle;\n",
              "    }\n",
              "\n",
              "    .dataframe tbody tr th {\n",
              "        vertical-align: top;\n",
              "    }\n",
              "\n",
              "    .dataframe thead th {\n",
              "        text-align: right;\n",
              "    }\n",
              "</style>\n",
              "<table border=\"1\" class=\"dataframe\">\n",
              "  <thead>\n",
              "    <tr style=\"text-align: right;\">\n",
              "      <th></th>\n",
              "      <th>OUTLET_ID</th>\n",
              "      <th>OUTLET_TYPE</th>\n",
              "      <th>OUTLET_LOCATION_0</th>\n",
              "      <th>OUTLET_LOCATION_1</th>\n",
              "      <th>OUTLET_LOCATION_2</th>\n",
              "      <th>OUTLET_LOCATION_3</th>\n",
              "      <th>OUTLET_LOCATION_4</th>\n",
              "      <th>SKU_ID</th>\n",
              "      <th>SKU_BRAND</th>\n",
              "      <th>SKU_CATEGORY</th>\n",
              "      <th>SKU_CATEGORY_CUSTOM</th>\n",
              "      <th>SKU_FLAVOUR</th>\n",
              "      <th>SKU_FORMAT</th>\n",
              "      <th>SKU_VOLUME</th>\n",
              "      <th>SKU_UNIT_ID</th>\n",
              "      <th>SKU_UNIT</th>\n",
              "      <th>SKU_UNIT_TYPE</th>\n",
              "      <th>SKU_VOLUME_METRIC</th>\n",
              "      <th>SKU_MANUFACTURER</th>\n",
              "      <th>AUDIT_SKU_STOCK</th>\n",
              "      <th>AUDIT_SKU_FACINGS</th>\n",
              "      <th>AUDIT_PRICE</th>\n",
              "      <th>AUDIT_SALES</th>\n",
              "      <th>Unnamed: 23</th>\n",
              "      <th>Unnamed: 24</th>\n",
              "      <th>Unnamed: 25</th>\n",
              "      <th>Unnamed: 26</th>\n",
              "    </tr>\n",
              "  </thead>\n",
              "  <tbody>\n",
              "    <tr>\n",
              "      <th>1</th>\n",
              "      <td>1036802</td>\n",
              "      <td>Grocery Store</td>\n",
              "      <td>Senegal</td>\n",
              "      <td>Saint-Louis</td>\n",
              "      <td>Saint-Louis</td>\n",
              "      <td>Rao</td>\n",
              "      <td>Gandon</td>\n",
              "      <td>7095</td>\n",
              "      <td>Reine</td>\n",
              "      <td>Mustard</td>\n",
              "      <td>Mustard</td>\n",
              "      <td>NaN</td>\n",
              "      <td>Glass Bottle</td>\n",
              "      <td>370.0</td>\n",
              "      <td>6244.0</td>\n",
              "      <td>g</td>\n",
              "      <td>Weight</td>\n",
              "      <td>0.37</td>\n",
              "      <td>NaN</td>\n",
              "      <td>18.0</td>\n",
              "      <td>4.0</td>\n",
              "      <td>500.0</td>\n",
              "      <td>2000.000000</td>\n",
              "      <td>0.000077</td>\n",
              "      <td>NaN</td>\n",
              "      <td>NaN</td>\n",
              "      <td>NaN</td>\n",
              "    </tr>\n",
              "    <tr>\n",
              "      <th>8</th>\n",
              "      <td>1036852</td>\n",
              "      <td>Grocery Store</td>\n",
              "      <td>Senegal</td>\n",
              "      <td>Diourbel</td>\n",
              "      <td>Mbacké</td>\n",
              "      <td>Ndame</td>\n",
              "      <td>Touba Mosquee</td>\n",
              "      <td>7468</td>\n",
              "      <td>PAK</td>\n",
              "      <td>Mustard</td>\n",
              "      <td>Mustard</td>\n",
              "      <td>NaN</td>\n",
              "      <td>Glass Bottle</td>\n",
              "      <td>850.0</td>\n",
              "      <td>6244.0</td>\n",
              "      <td>g</td>\n",
              "      <td>Weight</td>\n",
              "      <td>0.85</td>\n",
              "      <td>NaN</td>\n",
              "      <td>4.0</td>\n",
              "      <td>4.0</td>\n",
              "      <td>1500.0</td>\n",
              "      <td>250.000000</td>\n",
              "      <td>0.000010</td>\n",
              "      <td>NaN</td>\n",
              "      <td>NaN</td>\n",
              "      <td>NaN</td>\n",
              "    </tr>\n",
              "    <tr>\n",
              "      <th>16</th>\n",
              "      <td>1036899</td>\n",
              "      <td>Grocery Store</td>\n",
              "      <td>Senegal</td>\n",
              "      <td>Saint-Louis</td>\n",
              "      <td>Saint-Louis</td>\n",
              "      <td>Rao</td>\n",
              "      <td>Gandon</td>\n",
              "      <td>7089</td>\n",
              "      <td>Reine</td>\n",
              "      <td>Mustard</td>\n",
              "      <td>Mustard</td>\n",
              "      <td>NaN</td>\n",
              "      <td>Glass Bottle</td>\n",
              "      <td>850.0</td>\n",
              "      <td>6244.0</td>\n",
              "      <td>g</td>\n",
              "      <td>Weight</td>\n",
              "      <td>0.85</td>\n",
              "      <td>NaN</td>\n",
              "      <td>20.0</td>\n",
              "      <td>12.0</td>\n",
              "      <td>1200.0</td>\n",
              "      <td>1666.666667</td>\n",
              "      <td>0.000064</td>\n",
              "      <td>NaN</td>\n",
              "      <td>NaN</td>\n",
              "      <td>NaN</td>\n",
              "    </tr>\n",
              "    <tr>\n",
              "      <th>25</th>\n",
              "      <td>1035795</td>\n",
              "      <td>Grocery Store</td>\n",
              "      <td>Senegal</td>\n",
              "      <td>Dakar</td>\n",
              "      <td>Pikine</td>\n",
              "      <td>Niayes</td>\n",
              "      <td>Keur Massar</td>\n",
              "      <td>6919</td>\n",
              "      <td>Reine</td>\n",
              "      <td>Mustard</td>\n",
              "      <td>Mustard</td>\n",
              "      <td>NaN</td>\n",
              "      <td>Plastic Bottle</td>\n",
              "      <td>5.0</td>\n",
              "      <td>6497.0</td>\n",
              "      <td>kg</td>\n",
              "      <td>Weight</td>\n",
              "      <td>5.00</td>\n",
              "      <td>NaN</td>\n",
              "      <td>2.0</td>\n",
              "      <td>1.0</td>\n",
              "      <td>4000.0</td>\n",
              "      <td>642.857143</td>\n",
              "      <td>0.000025</td>\n",
              "      <td>NaN</td>\n",
              "      <td>NaN</td>\n",
              "      <td>NaN</td>\n",
              "    </tr>\n",
              "    <tr>\n",
              "      <th>28</th>\n",
              "      <td>1035795</td>\n",
              "      <td>Grocery Store</td>\n",
              "      <td>Senegal</td>\n",
              "      <td>Dakar</td>\n",
              "      <td>Pikine</td>\n",
              "      <td>Niayes</td>\n",
              "      <td>Keur Massar</td>\n",
              "      <td>7095</td>\n",
              "      <td>Reine</td>\n",
              "      <td>Mustard</td>\n",
              "      <td>Mustard</td>\n",
              "      <td>NaN</td>\n",
              "      <td>Glass Bottle</td>\n",
              "      <td>370.0</td>\n",
              "      <td>6244.0</td>\n",
              "      <td>g</td>\n",
              "      <td>Weight</td>\n",
              "      <td>0.37</td>\n",
              "      <td>NaN</td>\n",
              "      <td>12.0</td>\n",
              "      <td>4.0</td>\n",
              "      <td>500.0</td>\n",
              "      <td>3857.142857</td>\n",
              "      <td>0.000149</td>\n",
              "      <td>NaN</td>\n",
              "      <td>NaN</td>\n",
              "      <td>NaN</td>\n",
              "    </tr>\n",
              "  </tbody>\n",
              "</table>\n",
              "</div>\n",
              "      <button class=\"colab-df-convert\" onclick=\"convertToInteractive('df-4d6d6fb4-345e-4832-9197-e6daf9068ee3')\"\n",
              "              title=\"Convert this dataframe to an interactive table.\"\n",
              "              style=\"display:none;\">\n",
              "        \n",
              "  <svg xmlns=\"http://www.w3.org/2000/svg\" height=\"24px\"viewBox=\"0 0 24 24\"\n",
              "       width=\"24px\">\n",
              "    <path d=\"M0 0h24v24H0V0z\" fill=\"none\"/>\n",
              "    <path d=\"M18.56 5.44l.94 2.06.94-2.06 2.06-.94-2.06-.94-.94-2.06-.94 2.06-2.06.94zm-11 1L8.5 8.5l.94-2.06 2.06-.94-2.06-.94L8.5 2.5l-.94 2.06-2.06.94zm10 10l.94 2.06.94-2.06 2.06-.94-2.06-.94-.94-2.06-.94 2.06-2.06.94z\"/><path d=\"M17.41 7.96l-1.37-1.37c-.4-.4-.92-.59-1.43-.59-.52 0-1.04.2-1.43.59L10.3 9.45l-7.72 7.72c-.78.78-.78 2.05 0 2.83L4 21.41c.39.39.9.59 1.41.59.51 0 1.02-.2 1.41-.59l7.78-7.78 2.81-2.81c.8-.78.8-2.07 0-2.86zM5.41 20L4 18.59l7.72-7.72 1.47 1.35L5.41 20z\"/>\n",
              "  </svg>\n",
              "      </button>\n",
              "      \n",
              "  <style>\n",
              "    .colab-df-container {\n",
              "      display:flex;\n",
              "      flex-wrap:wrap;\n",
              "      gap: 12px;\n",
              "    }\n",
              "\n",
              "    .colab-df-convert {\n",
              "      background-color: #E8F0FE;\n",
              "      border: none;\n",
              "      border-radius: 50%;\n",
              "      cursor: pointer;\n",
              "      display: none;\n",
              "      fill: #1967D2;\n",
              "      height: 32px;\n",
              "      padding: 0 0 0 0;\n",
              "      width: 32px;\n",
              "    }\n",
              "\n",
              "    .colab-df-convert:hover {\n",
              "      background-color: #E2EBFA;\n",
              "      box-shadow: 0px 1px 2px rgba(60, 64, 67, 0.3), 0px 1px 3px 1px rgba(60, 64, 67, 0.15);\n",
              "      fill: #174EA6;\n",
              "    }\n",
              "\n",
              "    [theme=dark] .colab-df-convert {\n",
              "      background-color: #3B4455;\n",
              "      fill: #D2E3FC;\n",
              "    }\n",
              "\n",
              "    [theme=dark] .colab-df-convert:hover {\n",
              "      background-color: #434B5C;\n",
              "      box-shadow: 0px 1px 3px 1px rgba(0, 0, 0, 0.15);\n",
              "      filter: drop-shadow(0px 1px 2px rgba(0, 0, 0, 0.3));\n",
              "      fill: #FFFFFF;\n",
              "    }\n",
              "  </style>\n",
              "\n",
              "      <script>\n",
              "        const buttonEl =\n",
              "          document.querySelector('#df-4d6d6fb4-345e-4832-9197-e6daf9068ee3 button.colab-df-convert');\n",
              "        buttonEl.style.display =\n",
              "          google.colab.kernel.accessAllowed ? 'block' : 'none';\n",
              "\n",
              "        async function convertToInteractive(key) {\n",
              "          const element = document.querySelector('#df-4d6d6fb4-345e-4832-9197-e6daf9068ee3');\n",
              "          const dataTable =\n",
              "            await google.colab.kernel.invokeFunction('convertToInteractive',\n",
              "                                                     [key], {});\n",
              "          if (!dataTable) return;\n",
              "\n",
              "          const docLinkHtml = 'Like what you see? Visit the ' +\n",
              "            '<a target=\"_blank\" href=https://colab.research.google.com/notebooks/data_table.ipynb>data table notebook</a>'\n",
              "            + ' to learn more about interactive tables.';\n",
              "          element.innerHTML = '';\n",
              "          dataTable['output_type'] = 'display_data';\n",
              "          await google.colab.output.renderOutput(dataTable, element);\n",
              "          const docLink = document.createElement('div');\n",
              "          docLink.innerHTML = docLinkHtml;\n",
              "          element.appendChild(docLink);\n",
              "        }\n",
              "      </script>\n",
              "    </div>\n",
              "  </div>\n",
              "  "
            ],
            "text/plain": [
              "    OUTLET_ID    OUTLET_TYPE OUTLET_LOCATION_0 OUTLET_LOCATION_1  \\\n",
              "1     1036802  Grocery Store           Senegal       Saint-Louis   \n",
              "8     1036852  Grocery Store           Senegal          Diourbel   \n",
              "16    1036899  Grocery Store           Senegal       Saint-Louis   \n",
              "25    1035795  Grocery Store           Senegal             Dakar   \n",
              "28    1035795  Grocery Store           Senegal             Dakar   \n",
              "\n",
              "   OUTLET_LOCATION_2 OUTLET_LOCATION_3 OUTLET_LOCATION_4  SKU_ID SKU_BRAND  \\\n",
              "1        Saint-Louis               Rao            Gandon    7095     Reine   \n",
              "8             Mbacké             Ndame     Touba Mosquee    7468       PAK   \n",
              "16       Saint-Louis               Rao            Gandon    7089     Reine   \n",
              "25            Pikine            Niayes       Keur Massar    6919     Reine   \n",
              "28            Pikine            Niayes       Keur Massar    7095     Reine   \n",
              "\n",
              "   SKU_CATEGORY SKU_CATEGORY_CUSTOM SKU_FLAVOUR      SKU_FORMAT  SKU_VOLUME  \\\n",
              "1       Mustard             Mustard         NaN    Glass Bottle       370.0   \n",
              "8       Mustard             Mustard         NaN    Glass Bottle       850.0   \n",
              "16      Mustard             Mustard         NaN    Glass Bottle       850.0   \n",
              "25      Mustard             Mustard         NaN  Plastic Bottle         5.0   \n",
              "28      Mustard             Mustard         NaN    Glass Bottle       370.0   \n",
              "\n",
              "    SKU_UNIT_ID SKU_UNIT SKU_UNIT_TYPE  SKU_VOLUME_METRIC SKU_MANUFACTURER  \\\n",
              "1        6244.0        g        Weight               0.37              NaN   \n",
              "8        6244.0        g        Weight               0.85              NaN   \n",
              "16       6244.0        g        Weight               0.85              NaN   \n",
              "25       6497.0       kg        Weight               5.00              NaN   \n",
              "28       6244.0        g        Weight               0.37              NaN   \n",
              "\n",
              "    AUDIT_SKU_STOCK  AUDIT_SKU_FACINGS  AUDIT_PRICE  AUDIT_SALES  Unnamed: 23  \\\n",
              "1              18.0                4.0        500.0  2000.000000     0.000077   \n",
              "8               4.0                4.0       1500.0   250.000000     0.000010   \n",
              "16             20.0               12.0       1200.0  1666.666667     0.000064   \n",
              "25              2.0                1.0       4000.0   642.857143     0.000025   \n",
              "28             12.0                4.0        500.0  3857.142857     0.000149   \n",
              "\n",
              "    Unnamed: 24  Unnamed: 25  Unnamed: 26  \n",
              "1           NaN          NaN          NaN  \n",
              "8           NaN          NaN          NaN  \n",
              "16          NaN          NaN          NaN  \n",
              "25          NaN          NaN          NaN  \n",
              "28          NaN          NaN          NaN  "
            ]
          },
          "metadata": {},
          "execution_count": 44
        }
      ]
    },
    {
      "cell_type": "code",
      "source": [
        "# Let's check for missing data: \n",
        "df_mustard[['SKU_FORMAT', 'AUDIT_SKU_STOCK']].isnull().sum()\n"
      ],
      "metadata": {
        "colab": {
          "base_uri": "https://localhost:8080/"
        },
        "id": "tP4cCg-_y60S",
        "outputId": "0b927f34-bc29-4cba-f4e2-8a9e5b1c6c11"
      },
      "execution_count": null,
      "outputs": [
        {
          "output_type": "execute_result",
          "data": {
            "text/plain": [
              "SKU_FORMAT         0\n",
              "AUDIT_SKU_STOCK    0\n",
              "dtype: int64"
            ]
          },
          "metadata": {},
          "execution_count": 45
        }
      ]
    },
    {
      "cell_type": "markdown",
      "source": [
        "There is no missing data."
      ],
      "metadata": {
        "id": "kHcBgqpa0KKQ"
      }
    },
    {
      "cell_type": "code",
      "source": [
        "df_mustard_grouped = df_mustard.groupby(['SKU_FORMAT']).agg({'AUDIT_SKU_STOCK' : 'sum'}) #.assign(Share=lambda x: 100* x / x.sum())\n",
        "df_mustard_grouped"
      ],
      "metadata": {
        "id": "X-LSEsuG0byM",
        "colab": {
          "base_uri": "https://localhost:8080/",
          "height": 173
        },
        "outputId": "e7e572ab-f594-48a2-e0f3-d72eba918337"
      },
      "execution_count": null,
      "outputs": [
        {
          "output_type": "execute_result",
          "data": {
            "text/html": [
              "\n",
              "  <div id=\"df-5249f67a-918b-47bd-951c-e2a0a5e5da4a\">\n",
              "    <div class=\"colab-df-container\">\n",
              "      <div>\n",
              "<style scoped>\n",
              "    .dataframe tbody tr th:only-of-type {\n",
              "        vertical-align: middle;\n",
              "    }\n",
              "\n",
              "    .dataframe tbody tr th {\n",
              "        vertical-align: top;\n",
              "    }\n",
              "\n",
              "    .dataframe thead th {\n",
              "        text-align: right;\n",
              "    }\n",
              "</style>\n",
              "<table border=\"1\" class=\"dataframe\">\n",
              "  <thead>\n",
              "    <tr style=\"text-align: right;\">\n",
              "      <th></th>\n",
              "      <th>AUDIT_SKU_STOCK</th>\n",
              "    </tr>\n",
              "    <tr>\n",
              "      <th>SKU_FORMAT</th>\n",
              "      <th></th>\n",
              "    </tr>\n",
              "  </thead>\n",
              "  <tbody>\n",
              "    <tr>\n",
              "      <th>Glass Bottle</th>\n",
              "      <td>10157.0</td>\n",
              "    </tr>\n",
              "    <tr>\n",
              "      <th>Plastic Bottle</th>\n",
              "      <td>5482.0</td>\n",
              "    </tr>\n",
              "    <tr>\n",
              "      <th>Sachet</th>\n",
              "      <td>950.0</td>\n",
              "    </tr>\n",
              "  </tbody>\n",
              "</table>\n",
              "</div>\n",
              "      <button class=\"colab-df-convert\" onclick=\"convertToInteractive('df-5249f67a-918b-47bd-951c-e2a0a5e5da4a')\"\n",
              "              title=\"Convert this dataframe to an interactive table.\"\n",
              "              style=\"display:none;\">\n",
              "        \n",
              "  <svg xmlns=\"http://www.w3.org/2000/svg\" height=\"24px\"viewBox=\"0 0 24 24\"\n",
              "       width=\"24px\">\n",
              "    <path d=\"M0 0h24v24H0V0z\" fill=\"none\"/>\n",
              "    <path d=\"M18.56 5.44l.94 2.06.94-2.06 2.06-.94-2.06-.94-.94-2.06-.94 2.06-2.06.94zm-11 1L8.5 8.5l.94-2.06 2.06-.94-2.06-.94L8.5 2.5l-.94 2.06-2.06.94zm10 10l.94 2.06.94-2.06 2.06-.94-2.06-.94-.94-2.06-.94 2.06-2.06.94z\"/><path d=\"M17.41 7.96l-1.37-1.37c-.4-.4-.92-.59-1.43-.59-.52 0-1.04.2-1.43.59L10.3 9.45l-7.72 7.72c-.78.78-.78 2.05 0 2.83L4 21.41c.39.39.9.59 1.41.59.51 0 1.02-.2 1.41-.59l7.78-7.78 2.81-2.81c.8-.78.8-2.07 0-2.86zM5.41 20L4 18.59l7.72-7.72 1.47 1.35L5.41 20z\"/>\n",
              "  </svg>\n",
              "      </button>\n",
              "      \n",
              "  <style>\n",
              "    .colab-df-container {\n",
              "      display:flex;\n",
              "      flex-wrap:wrap;\n",
              "      gap: 12px;\n",
              "    }\n",
              "\n",
              "    .colab-df-convert {\n",
              "      background-color: #E8F0FE;\n",
              "      border: none;\n",
              "      border-radius: 50%;\n",
              "      cursor: pointer;\n",
              "      display: none;\n",
              "      fill: #1967D2;\n",
              "      height: 32px;\n",
              "      padding: 0 0 0 0;\n",
              "      width: 32px;\n",
              "    }\n",
              "\n",
              "    .colab-df-convert:hover {\n",
              "      background-color: #E2EBFA;\n",
              "      box-shadow: 0px 1px 2px rgba(60, 64, 67, 0.3), 0px 1px 3px 1px rgba(60, 64, 67, 0.15);\n",
              "      fill: #174EA6;\n",
              "    }\n",
              "\n",
              "    [theme=dark] .colab-df-convert {\n",
              "      background-color: #3B4455;\n",
              "      fill: #D2E3FC;\n",
              "    }\n",
              "\n",
              "    [theme=dark] .colab-df-convert:hover {\n",
              "      background-color: #434B5C;\n",
              "      box-shadow: 0px 1px 3px 1px rgba(0, 0, 0, 0.15);\n",
              "      filter: drop-shadow(0px 1px 2px rgba(0, 0, 0, 0.3));\n",
              "      fill: #FFFFFF;\n",
              "    }\n",
              "  </style>\n",
              "\n",
              "      <script>\n",
              "        const buttonEl =\n",
              "          document.querySelector('#df-5249f67a-918b-47bd-951c-e2a0a5e5da4a button.colab-df-convert');\n",
              "        buttonEl.style.display =\n",
              "          google.colab.kernel.accessAllowed ? 'block' : 'none';\n",
              "\n",
              "        async function convertToInteractive(key) {\n",
              "          const element = document.querySelector('#df-5249f67a-918b-47bd-951c-e2a0a5e5da4a');\n",
              "          const dataTable =\n",
              "            await google.colab.kernel.invokeFunction('convertToInteractive',\n",
              "                                                     [key], {});\n",
              "          if (!dataTable) return;\n",
              "\n",
              "          const docLinkHtml = 'Like what you see? Visit the ' +\n",
              "            '<a target=\"_blank\" href=https://colab.research.google.com/notebooks/data_table.ipynb>data table notebook</a>'\n",
              "            + ' to learn more about interactive tables.';\n",
              "          element.innerHTML = '';\n",
              "          dataTable['output_type'] = 'display_data';\n",
              "          await google.colab.output.renderOutput(dataTable, element);\n",
              "          const docLink = document.createElement('div');\n",
              "          docLink.innerHTML = docLinkHtml;\n",
              "          element.appendChild(docLink);\n",
              "        }\n",
              "      </script>\n",
              "    </div>\n",
              "  </div>\n",
              "  "
            ],
            "text/plain": [
              "                AUDIT_SKU_STOCK\n",
              "SKU_FORMAT                     \n",
              "Glass Bottle            10157.0\n",
              "Plastic Bottle           5482.0\n",
              "Sachet                    950.0"
            ]
          },
          "metadata": {},
          "execution_count": 46
        }
      ]
    },
    {
      "cell_type": "code",
      "execution_count": null,
      "metadata": {
        "id": "s6aRIRfWXdfK",
        "colab": {
          "base_uri": "https://localhost:8080/",
          "height": 173
        },
        "outputId": "5fe90a7f-3539-4034-d524-4a0d635988d8"
      },
      "outputs": [
        {
          "output_type": "execute_result",
          "data": {
            "text/html": [
              "<style type=\"text/css\">\n",
              "</style>\n",
              "<table id=\"T_63af2_\" class=\"dataframe\">\n",
              "  <thead>\n",
              "    <tr>\n",
              "      <th class=\"blank level0\" >&nbsp;</th>\n",
              "      <th class=\"col_heading level0 col0\" >AUDIT_SKU_STOCK</th>\n",
              "    </tr>\n",
              "    <tr>\n",
              "      <th class=\"index_name level0\" >SKU_FORMAT</th>\n",
              "      <th class=\"blank col0\" >&nbsp;</th>\n",
              "    </tr>\n",
              "  </thead>\n",
              "  <tbody>\n",
              "    <tr>\n",
              "      <th id=\"T_63af2_level0_row0\" class=\"row_heading level0 row0\" >Glass Bottle</th>\n",
              "      <td id=\"T_63af2_row0_col0\" class=\"data row0 col0\" >61.23%</td>\n",
              "    </tr>\n",
              "    <tr>\n",
              "      <th id=\"T_63af2_level0_row1\" class=\"row_heading level0 row1\" >Plastic Bottle</th>\n",
              "      <td id=\"T_63af2_row1_col0\" class=\"data row1 col0\" >33.05%</td>\n",
              "    </tr>\n",
              "    <tr>\n",
              "      <th id=\"T_63af2_level0_row2\" class=\"row_heading level0 row2\" >Sachet</th>\n",
              "      <td id=\"T_63af2_row2_col0\" class=\"data row2 col0\" >5.73%</td>\n",
              "    </tr>\n",
              "  </tbody>\n",
              "</table>\n"
            ],
            "text/plain": [
              "<pandas.io.formats.style.Styler at 0x7faab144dd50>"
            ]
          },
          "metadata": {},
          "execution_count": 47
        }
      ],
      "source": [
        "df_mustard_final = df_mustard_grouped.apply(lambda x: x / float(x.sum()))\n",
        "df_mustard_final.style.format(\"{:.2%}\")"
      ]
    },
    {
      "cell_type": "code",
      "execution_count": null,
      "metadata": {
        "id": "hJZb7rJaXdfN",
        "colab": {
          "base_uri": "https://localhost:8080/",
          "height": 542
        },
        "outputId": "10b4091c-aba5-4a00-9c7f-fde569c2b3c4"
      },
      "outputs": [
        {
          "output_type": "display_data",
          "data": {
            "text/html": [
              "<html>\n",
              "<head><meta charset=\"utf-8\" /></head>\n",
              "<body>\n",
              "    <div>            <script src=\"https://cdnjs.cloudflare.com/ajax/libs/mathjax/2.7.5/MathJax.js?config=TeX-AMS-MML_SVG\"></script><script type=\"text/javascript\">if (window.MathJax) {MathJax.Hub.Config({SVG: {font: \"STIX-Web\"}});}</script>                <script type=\"text/javascript\">window.PlotlyConfig = {MathJaxConfig: 'local'};</script>\n",
              "        <script src=\"https://cdn.plot.ly/plotly-2.8.3.min.js\"></script>                <div id=\"32761fbf-a988-4c56-94e4-a09da56c8248\" class=\"plotly-graph-div\" style=\"height:525px; width:100%;\"></div>            <script type=\"text/javascript\">                                    window.PLOTLYENV=window.PLOTLYENV || {};                                    if (document.getElementById(\"32761fbf-a988-4c56-94e4-a09da56c8248\")) {                    Plotly.newPlot(                        \"32761fbf-a988-4c56-94e4-a09da56c8248\",                        [{\"domain\":{\"x\":[0.0,1.0],\"y\":[0.0,1.0]},\"hole\":0.3,\"hovertemplate\":\"SKU_FORMAT=%{label}<br>AUDIT_SKU_STOCK=%{value}<extra></extra>\",\"labels\":[\"Glass Bottle\",\"Plastic Bottle\",\"Sachet\"],\"legendgroup\":\"\",\"name\":\"\",\"showlegend\":true,\"values\":[0.6122731930797516,0.3304599433359455,0.05726686358430285],\"type\":\"pie\",\"textinfo\":\"percent+label\",\"textposition\":\"inside\"}],                        {\"template\":{\"data\":{\"bar\":[{\"error_x\":{\"color\":\"#2a3f5f\"},\"error_y\":{\"color\":\"#2a3f5f\"},\"marker\":{\"line\":{\"color\":\"#E5ECF6\",\"width\":0.5},\"pattern\":{\"fillmode\":\"overlay\",\"size\":10,\"solidity\":0.2}},\"type\":\"bar\"}],\"barpolar\":[{\"marker\":{\"line\":{\"color\":\"#E5ECF6\",\"width\":0.5},\"pattern\":{\"fillmode\":\"overlay\",\"size\":10,\"solidity\":0.2}},\"type\":\"barpolar\"}],\"carpet\":[{\"aaxis\":{\"endlinecolor\":\"#2a3f5f\",\"gridcolor\":\"white\",\"linecolor\":\"white\",\"minorgridcolor\":\"white\",\"startlinecolor\":\"#2a3f5f\"},\"baxis\":{\"endlinecolor\":\"#2a3f5f\",\"gridcolor\":\"white\",\"linecolor\":\"white\",\"minorgridcolor\":\"white\",\"startlinecolor\":\"#2a3f5f\"},\"type\":\"carpet\"}],\"choropleth\":[{\"colorbar\":{\"outlinewidth\":0,\"ticks\":\"\"},\"type\":\"choropleth\"}],\"contour\":[{\"colorbar\":{\"outlinewidth\":0,\"ticks\":\"\"},\"colorscale\":[[0.0,\"#0d0887\"],[0.1111111111111111,\"#46039f\"],[0.2222222222222222,\"#7201a8\"],[0.3333333333333333,\"#9c179e\"],[0.4444444444444444,\"#bd3786\"],[0.5555555555555556,\"#d8576b\"],[0.6666666666666666,\"#ed7953\"],[0.7777777777777778,\"#fb9f3a\"],[0.8888888888888888,\"#fdca26\"],[1.0,\"#f0f921\"]],\"type\":\"contour\"}],\"contourcarpet\":[{\"colorbar\":{\"outlinewidth\":0,\"ticks\":\"\"},\"type\":\"contourcarpet\"}],\"heatmap\":[{\"colorbar\":{\"outlinewidth\":0,\"ticks\":\"\"},\"colorscale\":[[0.0,\"#0d0887\"],[0.1111111111111111,\"#46039f\"],[0.2222222222222222,\"#7201a8\"],[0.3333333333333333,\"#9c179e\"],[0.4444444444444444,\"#bd3786\"],[0.5555555555555556,\"#d8576b\"],[0.6666666666666666,\"#ed7953\"],[0.7777777777777778,\"#fb9f3a\"],[0.8888888888888888,\"#fdca26\"],[1.0,\"#f0f921\"]],\"type\":\"heatmap\"}],\"heatmapgl\":[{\"colorbar\":{\"outlinewidth\":0,\"ticks\":\"\"},\"colorscale\":[[0.0,\"#0d0887\"],[0.1111111111111111,\"#46039f\"],[0.2222222222222222,\"#7201a8\"],[0.3333333333333333,\"#9c179e\"],[0.4444444444444444,\"#bd3786\"],[0.5555555555555556,\"#d8576b\"],[0.6666666666666666,\"#ed7953\"],[0.7777777777777778,\"#fb9f3a\"],[0.8888888888888888,\"#fdca26\"],[1.0,\"#f0f921\"]],\"type\":\"heatmapgl\"}],\"histogram\":[{\"marker\":{\"pattern\":{\"fillmode\":\"overlay\",\"size\":10,\"solidity\":0.2}},\"type\":\"histogram\"}],\"histogram2d\":[{\"colorbar\":{\"outlinewidth\":0,\"ticks\":\"\"},\"colorscale\":[[0.0,\"#0d0887\"],[0.1111111111111111,\"#46039f\"],[0.2222222222222222,\"#7201a8\"],[0.3333333333333333,\"#9c179e\"],[0.4444444444444444,\"#bd3786\"],[0.5555555555555556,\"#d8576b\"],[0.6666666666666666,\"#ed7953\"],[0.7777777777777778,\"#fb9f3a\"],[0.8888888888888888,\"#fdca26\"],[1.0,\"#f0f921\"]],\"type\":\"histogram2d\"}],\"histogram2dcontour\":[{\"colorbar\":{\"outlinewidth\":0,\"ticks\":\"\"},\"colorscale\":[[0.0,\"#0d0887\"],[0.1111111111111111,\"#46039f\"],[0.2222222222222222,\"#7201a8\"],[0.3333333333333333,\"#9c179e\"],[0.4444444444444444,\"#bd3786\"],[0.5555555555555556,\"#d8576b\"],[0.6666666666666666,\"#ed7953\"],[0.7777777777777778,\"#fb9f3a\"],[0.8888888888888888,\"#fdca26\"],[1.0,\"#f0f921\"]],\"type\":\"histogram2dcontour\"}],\"mesh3d\":[{\"colorbar\":{\"outlinewidth\":0,\"ticks\":\"\"},\"type\":\"mesh3d\"}],\"parcoords\":[{\"line\":{\"colorbar\":{\"outlinewidth\":0,\"ticks\":\"\"}},\"type\":\"parcoords\"}],\"pie\":[{\"automargin\":true,\"type\":\"pie\"}],\"scatter\":[{\"marker\":{\"colorbar\":{\"outlinewidth\":0,\"ticks\":\"\"}},\"type\":\"scatter\"}],\"scatter3d\":[{\"line\":{\"colorbar\":{\"outlinewidth\":0,\"ticks\":\"\"}},\"marker\":{\"colorbar\":{\"outlinewidth\":0,\"ticks\":\"\"}},\"type\":\"scatter3d\"}],\"scattercarpet\":[{\"marker\":{\"colorbar\":{\"outlinewidth\":0,\"ticks\":\"\"}},\"type\":\"scattercarpet\"}],\"scattergeo\":[{\"marker\":{\"colorbar\":{\"outlinewidth\":0,\"ticks\":\"\"}},\"type\":\"scattergeo\"}],\"scattergl\":[{\"marker\":{\"colorbar\":{\"outlinewidth\":0,\"ticks\":\"\"}},\"type\":\"scattergl\"}],\"scattermapbox\":[{\"marker\":{\"colorbar\":{\"outlinewidth\":0,\"ticks\":\"\"}},\"type\":\"scattermapbox\"}],\"scatterpolar\":[{\"marker\":{\"colorbar\":{\"outlinewidth\":0,\"ticks\":\"\"}},\"type\":\"scatterpolar\"}],\"scatterpolargl\":[{\"marker\":{\"colorbar\":{\"outlinewidth\":0,\"ticks\":\"\"}},\"type\":\"scatterpolargl\"}],\"scatterternary\":[{\"marker\":{\"colorbar\":{\"outlinewidth\":0,\"ticks\":\"\"}},\"type\":\"scatterternary\"}],\"surface\":[{\"colorbar\":{\"outlinewidth\":0,\"ticks\":\"\"},\"colorscale\":[[0.0,\"#0d0887\"],[0.1111111111111111,\"#46039f\"],[0.2222222222222222,\"#7201a8\"],[0.3333333333333333,\"#9c179e\"],[0.4444444444444444,\"#bd3786\"],[0.5555555555555556,\"#d8576b\"],[0.6666666666666666,\"#ed7953\"],[0.7777777777777778,\"#fb9f3a\"],[0.8888888888888888,\"#fdca26\"],[1.0,\"#f0f921\"]],\"type\":\"surface\"}],\"table\":[{\"cells\":{\"fill\":{\"color\":\"#EBF0F8\"},\"line\":{\"color\":\"white\"}},\"header\":{\"fill\":{\"color\":\"#C8D4E3\"},\"line\":{\"color\":\"white\"}},\"type\":\"table\"}]},\"layout\":{\"annotationdefaults\":{\"arrowcolor\":\"#2a3f5f\",\"arrowhead\":0,\"arrowwidth\":1},\"autotypenumbers\":\"strict\",\"coloraxis\":{\"colorbar\":{\"outlinewidth\":0,\"ticks\":\"\"}},\"colorscale\":{\"diverging\":[[0,\"#8e0152\"],[0.1,\"#c51b7d\"],[0.2,\"#de77ae\"],[0.3,\"#f1b6da\"],[0.4,\"#fde0ef\"],[0.5,\"#f7f7f7\"],[0.6,\"#e6f5d0\"],[0.7,\"#b8e186\"],[0.8,\"#7fbc41\"],[0.9,\"#4d9221\"],[1,\"#276419\"]],\"sequential\":[[0.0,\"#0d0887\"],[0.1111111111111111,\"#46039f\"],[0.2222222222222222,\"#7201a8\"],[0.3333333333333333,\"#9c179e\"],[0.4444444444444444,\"#bd3786\"],[0.5555555555555556,\"#d8576b\"],[0.6666666666666666,\"#ed7953\"],[0.7777777777777778,\"#fb9f3a\"],[0.8888888888888888,\"#fdca26\"],[1.0,\"#f0f921\"]],\"sequentialminus\":[[0.0,\"#0d0887\"],[0.1111111111111111,\"#46039f\"],[0.2222222222222222,\"#7201a8\"],[0.3333333333333333,\"#9c179e\"],[0.4444444444444444,\"#bd3786\"],[0.5555555555555556,\"#d8576b\"],[0.6666666666666666,\"#ed7953\"],[0.7777777777777778,\"#fb9f3a\"],[0.8888888888888888,\"#fdca26\"],[1.0,\"#f0f921\"]]},\"colorway\":[\"#636efa\",\"#EF553B\",\"#00cc96\",\"#ab63fa\",\"#FFA15A\",\"#19d3f3\",\"#FF6692\",\"#B6E880\",\"#FF97FF\",\"#FECB52\"],\"font\":{\"color\":\"#2a3f5f\"},\"geo\":{\"bgcolor\":\"white\",\"lakecolor\":\"white\",\"landcolor\":\"#E5ECF6\",\"showlakes\":true,\"showland\":true,\"subunitcolor\":\"white\"},\"hoverlabel\":{\"align\":\"left\"},\"hovermode\":\"closest\",\"mapbox\":{\"style\":\"light\"},\"paper_bgcolor\":\"white\",\"plot_bgcolor\":\"#E5ECF6\",\"polar\":{\"angularaxis\":{\"gridcolor\":\"white\",\"linecolor\":\"white\",\"ticks\":\"\"},\"bgcolor\":\"#E5ECF6\",\"radialaxis\":{\"gridcolor\":\"white\",\"linecolor\":\"white\",\"ticks\":\"\"}},\"scene\":{\"xaxis\":{\"backgroundcolor\":\"#E5ECF6\",\"gridcolor\":\"white\",\"gridwidth\":2,\"linecolor\":\"white\",\"showbackground\":true,\"ticks\":\"\",\"zerolinecolor\":\"white\"},\"yaxis\":{\"backgroundcolor\":\"#E5ECF6\",\"gridcolor\":\"white\",\"gridwidth\":2,\"linecolor\":\"white\",\"showbackground\":true,\"ticks\":\"\",\"zerolinecolor\":\"white\"},\"zaxis\":{\"backgroundcolor\":\"#E5ECF6\",\"gridcolor\":\"white\",\"gridwidth\":2,\"linecolor\":\"white\",\"showbackground\":true,\"ticks\":\"\",\"zerolinecolor\":\"white\"}},\"shapedefaults\":{\"line\":{\"color\":\"#2a3f5f\"}},\"ternary\":{\"aaxis\":{\"gridcolor\":\"white\",\"linecolor\":\"white\",\"ticks\":\"\"},\"baxis\":{\"gridcolor\":\"white\",\"linecolor\":\"white\",\"ticks\":\"\"},\"bgcolor\":\"#E5ECF6\",\"caxis\":{\"gridcolor\":\"white\",\"linecolor\":\"white\",\"ticks\":\"\"}},\"title\":{\"x\":0.05},\"xaxis\":{\"automargin\":true,\"gridcolor\":\"white\",\"linecolor\":\"white\",\"ticks\":\"\",\"title\":{\"standoff\":15},\"zerolinecolor\":\"white\",\"zerolinewidth\":2},\"yaxis\":{\"automargin\":true,\"gridcolor\":\"white\",\"linecolor\":\"white\",\"ticks\":\"\",\"title\":{\"standoff\":15},\"zerolinecolor\":\"white\",\"zerolinewidth\":2}}},\"legend\":{\"tracegroupgap\":0},\"margin\":{\"t\":60},\"title\":{\"text\":\"Share of SKU_Format in Mustard category\"}},                        {\"responsive\": true}                    ).then(function(){\n",
              "                            \n",
              "var gd = document.getElementById('32761fbf-a988-4c56-94e4-a09da56c8248');\n",
              "var x = new MutationObserver(function (mutations, observer) {{\n",
              "        var display = window.getComputedStyle(gd).display;\n",
              "        if (!display || display === 'none') {{\n",
              "            console.log([gd, 'removed!']);\n",
              "            Plotly.purge(gd);\n",
              "            observer.disconnect();\n",
              "        }}\n",
              "}});\n",
              "\n",
              "// Listen for the removal of the full notebook cells\n",
              "var notebookContainer = gd.closest('#notebook-container');\n",
              "if (notebookContainer) {{\n",
              "    x.observe(notebookContainer, {childList: true});\n",
              "}}\n",
              "\n",
              "// Listen for the clearing of the current output cell\n",
              "var outputEl = gd.closest('.output');\n",
              "if (outputEl) {{\n",
              "    x.observe(outputEl, {childList: true});\n",
              "}}\n",
              "\n",
              "                        })                };                            </script>        </div>\n",
              "</body>\n",
              "</html>"
            ]
          },
          "metadata": {}
        }
      ],
      "source": [
        "pie_chart_stock = df_mustard_final.reset_index().sort_values('AUDIT_SKU_STOCK', ascending=False)\n",
        "fig = px.pie(pie_chart_stock, values = 'AUDIT_SKU_STOCK', names= 'SKU_FORMAT', hole=.3)\n",
        "fig.update_traces(textposition='inside', textinfo='percent+label')\n",
        "fig.update_layout(title_text='Share of SKU_Format in Mustard category')\n",
        "fig.show(renderer=\"colab\")"
      ]
    }
  ],
  "metadata": {
    "hide_input": false,
    "kernelspec": {
      "display_name": "Python 3",
      "language": "python",
      "name": "python3"
    },
    "language_info": {
      "codemirror_mode": {
        "name": "ipython",
        "version": 3
      },
      "file_extension": ".py",
      "mimetype": "text/x-python",
      "name": "python",
      "nbconvert_exporter": "python",
      "pygments_lexer": "ipython3",
      "version": "3.9.4"
    },
    "toc": {
      "base_numbering": 1,
      "nav_menu": {},
      "number_sections": false,
      "sideBar": true,
      "skip_h1_title": false,
      "title_cell": "Table of Contents",
      "title_sidebar": "Contents",
      "toc_cell": true,
      "toc_position": {
        "height": "476.727px",
        "left": "215px",
        "top": "406.364px",
        "width": "341.318px"
      },
      "toc_section_display": true,
      "toc_window_display": false
    },
    "colab": {
      "name": "Sagaci Research Colab.ipynb",
      "provenance": [],
      "collapsed_sections": [],
      "include_colab_link": true
    }
  },
  "nbformat": 4,
  "nbformat_minor": 0
}
